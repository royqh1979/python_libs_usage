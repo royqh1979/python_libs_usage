{
 "cells": [
  {
   "cell_type": "markdown",
   "metadata": {},
   "source": [
    "读取1970年之后每月的气温数据（偏离1856-2005年气温平均值的程度）"
   ]
  },
  {
   "cell_type": "code",
   "execution_count": 83,
   "metadata": {},
   "outputs": [],
   "source": [
    "import pandas as pd\n",
    "import numpy as np\n",
    "import matplotlib.pyplot as plt\n",
    "import statsmodels.api as sm\n",
    "\n",
    "# 读入1维列表(相当于R中的scan）\n",
    "Global = np.loadtxt(\"data/global.dat\")\n",
    "Global = Global.ravel()\n",
    "index = pd.date_range(start=\"1856\",periods=len(Global),freq=\"M\")\n",
    "Global = pd.Series(Global,index=index)\n",
    "temp = Global[Global.index.year>=1970]"
   ]
  },
  {
   "cell_type": "markdown",
   "metadata": {},
   "source": [
    "产生自变量：时间"
   ]
  },
  {
   "cell_type": "code",
   "execution_count": 96,
   "metadata": {},
   "outputs": [],
   "source": [
    "t=pd.Series(temp.index.year + (temp.index.month-1)/12,index=temp.index)"
   ]
  },
  {
   "cell_type": "markdown",
   "metadata": {},
   "source": [
    "产生dummy变量：月份"
   ]
  },
  {
   "cell_type": "code",
   "execution_count": 98,
   "metadata": {},
   "outputs": [],
   "source": [
    "month = pd.Series(temp.index.month,index=temp.index)\n",
    "dummy = sm.categorical(month,drop=True)\n",
    "dummy.index = temp.index"
   ]
  },
  {
   "cell_type": "markdown",
   "metadata": {},
   "source": [
    "使用最小二乘法拟合参数\n",
    "\n",
    "注意在模型中没有常数项（因为有季节dummy项了）"
   ]
  },
  {
   "cell_type": "code",
   "execution_count": 99,
   "metadata": {},
   "outputs": [
    {
     "data": {
      "text/html": [
       "<table class=\"simpletable\">\n",
       "<caption>OLS Regression Results</caption>\n",
       "<tr>\n",
       "  <th>Dep. Variable:</th>            <td>y</td>        <th>  R-squared:         </th> <td>   0.688</td>\n",
       "</tr>\n",
       "<tr>\n",
       "  <th>Model:</th>                   <td>OLS</td>       <th>  Adj. R-squared:    </th> <td>   0.679</td>\n",
       "</tr>\n",
       "<tr>\n",
       "  <th>Method:</th>             <td>Least Squares</td>  <th>  F-statistic:       </th> <td>   77.04</td>\n",
       "</tr>\n",
       "<tr>\n",
       "  <th>Date:</th>             <td>Tue, 30 Jun 2020</td> <th>  Prob (F-statistic):</th> <td>5.51e-98</td>\n",
       "</tr>\n",
       "<tr>\n",
       "  <th>Time:</th>                 <td>16:58:17</td>     <th>  Log-Likelihood:    </th> <td>  287.48</td>\n",
       "</tr>\n",
       "<tr>\n",
       "  <th>No. Observations:</th>      <td>   432</td>      <th>  AIC:               </th> <td>  -549.0</td>\n",
       "</tr>\n",
       "<tr>\n",
       "  <th>Df Residuals:</th>          <td>   419</td>      <th>  BIC:               </th> <td>  -496.1</td>\n",
       "</tr>\n",
       "<tr>\n",
       "  <th>Df Model:</th>              <td>    12</td>      <th>                     </th>     <td> </td>   \n",
       "</tr>\n",
       "<tr>\n",
       "  <th>Covariance Type:</th>      <td>nonrobust</td>    <th>                     </th>     <td> </td>   \n",
       "</tr>\n",
       "</table>\n",
       "<table class=\"simpletable\">\n",
       "<tr>\n",
       "   <td></td>     <th>coef</th>     <th>std err</th>      <th>t</th>      <th>P>|t|</th>  <th>[0.025</th>    <th>0.975]</th>  \n",
       "</tr>\n",
       "<tr>\n",
       "  <th>0</th>  <td>    0.0177</td> <td>    0.001</td> <td>   30.273</td> <td> 0.000</td> <td>    0.017</td> <td>    0.019</td>\n",
       "</tr>\n",
       "<tr>\n",
       "  <th>1</th>  <td>  -34.9973</td> <td>    1.163</td> <td>  -30.099</td> <td> 0.000</td> <td>  -37.283</td> <td>  -32.712</td>\n",
       "</tr>\n",
       "<tr>\n",
       "  <th>2</th>  <td>  -34.9880</td> <td>    1.163</td> <td>  -30.090</td> <td> 0.000</td> <td>  -37.274</td> <td>  -32.702</td>\n",
       "</tr>\n",
       "<tr>\n",
       "  <th>3</th>  <td>  -35.0100</td> <td>    1.163</td> <td>  -30.107</td> <td> 0.000</td> <td>  -37.296</td> <td>  -32.724</td>\n",
       "</tr>\n",
       "<tr>\n",
       "  <th>4</th>  <td>  -35.0123</td> <td>    1.163</td> <td>  -30.108</td> <td> 0.000</td> <td>  -37.298</td> <td>  -32.726</td>\n",
       "</tr>\n",
       "<tr>\n",
       "  <th>5</th>  <td>  -35.0337</td> <td>    1.163</td> <td>  -30.125</td> <td> 0.000</td> <td>  -37.320</td> <td>  -32.748</td>\n",
       "</tr>\n",
       "<tr>\n",
       "  <th>6</th>  <td>  -35.0251</td> <td>    1.163</td> <td>  -30.116</td> <td> 0.000</td> <td>  -37.311</td> <td>  -32.739</td>\n",
       "</tr>\n",
       "<tr>\n",
       "  <th>7</th>  <td>  -35.0269</td> <td>    1.163</td> <td>  -30.117</td> <td> 0.000</td> <td>  -37.313</td> <td>  -32.741</td>\n",
       "</tr>\n",
       "<tr>\n",
       "  <th>8</th>  <td>  -35.0248</td> <td>    1.163</td> <td>  -30.114</td> <td> 0.000</td> <td>  -37.311</td> <td>  -32.739</td>\n",
       "</tr>\n",
       "<tr>\n",
       "  <th>9</th>  <td>  -35.0383</td> <td>    1.163</td> <td>  -30.124</td> <td> 0.000</td> <td>  -37.325</td> <td>  -32.752</td>\n",
       "</tr>\n",
       "<tr>\n",
       "  <th>10</th> <td>  -35.0525</td> <td>    1.163</td> <td>  -30.135</td> <td> 0.000</td> <td>  -37.339</td> <td>  -32.766</td>\n",
       "</tr>\n",
       "<tr>\n",
       "  <th>11</th> <td>  -35.0656</td> <td>    1.163</td> <td>  -30.145</td> <td> 0.000</td> <td>  -37.352</td> <td>  -32.779</td>\n",
       "</tr>\n",
       "<tr>\n",
       "  <th>12</th> <td>  -35.0487</td> <td>    1.163</td> <td>  -30.129</td> <td> 0.000</td> <td>  -37.335</td> <td>  -32.762</td>\n",
       "</tr>\n",
       "</table>\n",
       "<table class=\"simpletable\">\n",
       "<tr>\n",
       "  <th>Omnibus:</th>       <td> 3.712</td> <th>  Durbin-Watson:     </th> <td>   0.575</td>\n",
       "</tr>\n",
       "<tr>\n",
       "  <th>Prob(Omnibus):</th> <td> 0.156</td> <th>  Jarque-Bera (JB):  </th> <td>   3.577</td>\n",
       "</tr>\n",
       "<tr>\n",
       "  <th>Skew:</th>          <td> 0.163</td> <th>  Prob(JB):          </th> <td>   0.167</td>\n",
       "</tr>\n",
       "<tr>\n",
       "  <th>Kurtosis:</th>      <td> 3.303</td> <th>  Cond. No.          </th> <td>1.32e+06</td>\n",
       "</tr>\n",
       "</table><br/><br/>Warnings:<br/>[1] Standard Errors assume that the covariance matrix of the errors is correctly specified.<br/>[2] The condition number is large, 1.32e+06. This might indicate that there are<br/>strong multicollinearity or other numerical problems."
      ],
      "text/plain": [
       "<class 'statsmodels.iolib.summary.Summary'>\n",
       "\"\"\"\n",
       "                            OLS Regression Results                            \n",
       "==============================================================================\n",
       "Dep. Variable:                      y   R-squared:                       0.688\n",
       "Model:                            OLS   Adj. R-squared:                  0.679\n",
       "Method:                 Least Squares   F-statistic:                     77.04\n",
       "Date:                Tue, 30 Jun 2020   Prob (F-statistic):           5.51e-98\n",
       "Time:                        16:58:17   Log-Likelihood:                 287.48\n",
       "No. Observations:                 432   AIC:                            -549.0\n",
       "Df Residuals:                     419   BIC:                            -496.1\n",
       "Df Model:                          12                                         \n",
       "Covariance Type:            nonrobust                                         \n",
       "==============================================================================\n",
       "                 coef    std err          t      P>|t|      [0.025      0.975]\n",
       "------------------------------------------------------------------------------\n",
       "0              0.0177      0.001     30.273      0.000       0.017       0.019\n",
       "1            -34.9973      1.163    -30.099      0.000     -37.283     -32.712\n",
       "2            -34.9880      1.163    -30.090      0.000     -37.274     -32.702\n",
       "3            -35.0100      1.163    -30.107      0.000     -37.296     -32.724\n",
       "4            -35.0123      1.163    -30.108      0.000     -37.298     -32.726\n",
       "5            -35.0337      1.163    -30.125      0.000     -37.320     -32.748\n",
       "6            -35.0251      1.163    -30.116      0.000     -37.311     -32.739\n",
       "7            -35.0269      1.163    -30.117      0.000     -37.313     -32.741\n",
       "8            -35.0248      1.163    -30.114      0.000     -37.311     -32.739\n",
       "9            -35.0383      1.163    -30.124      0.000     -37.325     -32.752\n",
       "10           -35.0525      1.163    -30.135      0.000     -37.339     -32.766\n",
       "11           -35.0656      1.163    -30.145      0.000     -37.352     -32.779\n",
       "12           -35.0487      1.163    -30.129      0.000     -37.335     -32.762\n",
       "==============================================================================\n",
       "Omnibus:                        3.712   Durbin-Watson:                   0.575\n",
       "Prob(Omnibus):                  0.156   Jarque-Bera (JB):                3.577\n",
       "Skew:                           0.163   Prob(JB):                        0.167\n",
       "Kurtosis:                       3.303   Cond. No.                     1.32e+06\n",
       "==============================================================================\n",
       "\n",
       "Warnings:\n",
       "[1] Standard Errors assume that the covariance matrix of the errors is correctly specified.\n",
       "[2] The condition number is large, 1.32e+06. This might indicate that there are\n",
       "strong multicollinearity or other numerical problems.\n",
       "\"\"\""
      ]
     },
     "execution_count": 99,
     "metadata": {},
     "output_type": "execute_result"
    }
   ],
   "source": [
    "X=pd.concat([t,dummy],axis=1)\n",
    "model = sm.OLS(temp,X)\n",
    "fit = model.fit()\n",
    "fit.summary()"
   ]
  },
  {
   "cell_type": "markdown",
   "metadata": {},
   "source": [
    "使用拟合的模型来预测2006-2007年的气温"
   ]
  },
  {
   "cell_type": "markdown",
   "metadata": {},
   "source": [
    "newt=pd.Series(2006+np.arange(24)/12)\n",
    "\n",
    "dummy=pd.DataFrame(sm.categorical(np.arange(24)%12+1,drop=True))\n",
    "newt=pd.concat([newt,dummy],axis=1)\n",
    "newt.index = pd.date_range(start=\"2006\",periods=len(newt),freq=\"M\")"
   ]
  },
  {
   "cell_type": "code",
   "execution_count": 120,
   "metadata": {},
   "outputs": [
    {
     "data": {
      "text/plain": [
       "2006-01-31    0.524146\n",
       "2006-02-28    0.534868\n",
       "2006-03-31    0.514340\n",
       "2006-04-30    0.513562\n",
       "2006-05-31    0.493618\n",
       "2006-06-30    0.503729\n",
       "2006-07-31    0.503368\n",
       "2006-08-31    0.506979\n",
       "2006-09-30    0.494896\n",
       "2006-10-31    0.482201\n",
       "2006-11-30    0.470590\n",
       "2006-12-31    0.488924\n",
       "2007-01-31    0.541853\n",
       "2007-02-28    0.552576\n",
       "2007-03-31    0.532048\n",
       "2007-04-30    0.531270\n",
       "2007-05-31    0.511326\n",
       "2007-06-30    0.521437\n",
       "2007-07-31    0.521076\n",
       "2007-08-31    0.524687\n",
       "2007-09-30    0.512603\n",
       "2007-10-31    0.499909\n",
       "2007-11-30    0.488298\n",
       "2007-12-31    0.506631\n",
       "Freq: M, dtype: float64"
      ]
     },
     "execution_count": 120,
     "metadata": {},
     "output_type": "execute_result"
    }
   ],
   "source": [
    "pred=fit.predict(newt)\n",
    "pred"
   ]
  },
  {
   "cell_type": "code",
   "execution_count": 121,
   "metadata": {},
   "outputs": [
    {
     "data": {
      "text/plain": [
       "[<matplotlib.lines.Line2D at 0x1e6b862f2e8>]"
      ]
     },
     "execution_count": 121,
     "metadata": {},
     "output_type": "execute_result"
    },
    {
     "data": {
      "image/png": "[encoded data removed]",
      "text/plain": [
       "<Figure size 432x288 with 1 Axes>"
      ]
     },
     "metadata": {
      "needs_background": "light"
     },
     "output_type": "display_data"
    }
   ],
   "source": [
    "plt.plot(temp)\n",
    "plt.plot(fit.fittedvalues)\n",
    "plt.plot(pred)"
   ]
  },
  {
   "cell_type": "code",
   "execution_count": null,
   "metadata": {},
   "outputs": [],
   "source": []
  }
 ],
 "metadata": {
  "kernelspec": {
   "display_name": "Python 3",
   "language": "python",
   "name": "python3"
  },
  "language_info": {
   "codemirror_mode": {
    "name": "ipython",
    "version": 3
   },
   "file_extension": ".py",
   "mimetype": "text/x-python",
   "name": "python",
   "nbconvert_exporter": "python",
   "pygments_lexer": "ipython3",
   "version": "3.7.3"
  }
 },
 "nbformat": 4,
 "nbformat_minor": 4
}
