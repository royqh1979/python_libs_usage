{
 "cells": [
  {
   "cell_type": "markdown",
   "metadata": {},
   "source": [
    "# Analysis of covariance (ANCOVA)"
   ]
  },
  {
   "cell_type": "markdown",
   "metadata": {},
   "source": [
    "ANCOVA is used to compare one variable (**the dependent variable**) in two or more populations while considering other continuous variables.\n",
    "\n",
    "These continuous varaibles, which are not part of the main experimental manipulation but have an influence on the dependent variable, are known as **covariates**."
   ]
  },
  {
   "cell_type": "markdown",
   "metadata": {},
   "source": [
    "## Loading Data"
   ]
  },
  {
   "cell_type": "code",
   "execution_count": 3,
   "metadata": {},
   "outputs": [
    {
     "data": {
      "text/plain": [
       "        dose        libido      partnerLibido  \n",
       " Placebo  : 9   Min.   :2.000   Min.   :0.000  \n",
       " Low Dose : 8   1st Qu.:3.000   1st Qu.:1.000  \n",
       " High Dose:13   Median :4.000   Median :2.500  \n",
       "                Mean   :4.367   Mean   :2.733  \n",
       "                3rd Qu.:5.750   3rd Qu.:4.000  \n",
       "                Max.   :9.000   Max.   :7.000  "
      ]
     },
     "metadata": {},
     "output_type": "display_data"
    },
    {
     "data": {
      "text/html": [
       "<table>\n",
       "<caption>A data.frame: 30 × 3</caption>\n",
       "<thead>\n",
       "\t<tr><th scope=col>dose</th><th scope=col>libido</th><th scope=col>partnerLibido</th></tr>\n",
       "\t<tr><th scope=col>&lt;fct&gt;</th><th scope=col>&lt;int&gt;</th><th scope=col>&lt;int&gt;</th></tr>\n",
       "</thead>\n",
       "<tbody>\n",
       "\t<tr><td>Placebo  </td><td>3</td><td>4</td></tr>\n",
       "\t<tr><td>Placebo  </td><td>2</td><td>1</td></tr>\n",
       "\t<tr><td>Placebo  </td><td>5</td><td>5</td></tr>\n",
       "\t<tr><td>Placebo  </td><td>2</td><td>1</td></tr>\n",
       "\t<tr><td>Placebo  </td><td>2</td><td>2</td></tr>\n",
       "\t<tr><td>Placebo  </td><td>2</td><td>2</td></tr>\n",
       "\t<tr><td>Placebo  </td><td>7</td><td>7</td></tr>\n",
       "\t<tr><td>Placebo  </td><td>2</td><td>4</td></tr>\n",
       "\t<tr><td>Placebo  </td><td>4</td><td>5</td></tr>\n",
       "\t<tr><td>Low Dose </td><td>7</td><td>5</td></tr>\n",
       "\t<tr><td>Low Dose </td><td>5</td><td>3</td></tr>\n",
       "\t<tr><td>Low Dose </td><td>3</td><td>1</td></tr>\n",
       "\t<tr><td>Low Dose </td><td>4</td><td>2</td></tr>\n",
       "\t<tr><td>Low Dose </td><td>4</td><td>2</td></tr>\n",
       "\t<tr><td>Low Dose </td><td>7</td><td>6</td></tr>\n",
       "\t<tr><td>Low Dose </td><td>5</td><td>4</td></tr>\n",
       "\t<tr><td>Low Dose </td><td>4</td><td>2</td></tr>\n",
       "\t<tr><td>High Dose</td><td>9</td><td>1</td></tr>\n",
       "\t<tr><td>High Dose</td><td>2</td><td>3</td></tr>\n",
       "\t<tr><td>High Dose</td><td>6</td><td>5</td></tr>\n",
       "\t<tr><td>High Dose</td><td>3</td><td>4</td></tr>\n",
       "\t<tr><td>High Dose</td><td>4</td><td>3</td></tr>\n",
       "\t<tr><td>High Dose</td><td>4</td><td>3</td></tr>\n",
       "\t<tr><td>High Dose</td><td>4</td><td>2</td></tr>\n",
       "\t<tr><td>High Dose</td><td>6</td><td>0</td></tr>\n",
       "\t<tr><td>High Dose</td><td>4</td><td>1</td></tr>\n",
       "\t<tr><td>High Dose</td><td>6</td><td>3</td></tr>\n",
       "\t<tr><td>High Dose</td><td>2</td><td>0</td></tr>\n",
       "\t<tr><td>High Dose</td><td>8</td><td>1</td></tr>\n",
       "\t<tr><td>High Dose</td><td>5</td><td>0</td></tr>\n",
       "</tbody>\n",
       "</table>\n"
      ],
      "text/latex": [
       "A data.frame: 30 × 3\n",
       "\\begin{tabular}{lll}\n",
       " dose & libido & partnerLibido\\\\\n",
       " <fct> & <int> & <int>\\\\\n",
       "\\hline\n",
       "\t Placebo   & 3 & 4\\\\\n",
       "\t Placebo   & 2 & 1\\\\\n",
       "\t Placebo   & 5 & 5\\\\\n",
       "\t Placebo   & 2 & 1\\\\\n",
       "\t Placebo   & 2 & 2\\\\\n",
       "\t Placebo   & 2 & 2\\\\\n",
       "\t Placebo   & 7 & 7\\\\\n",
       "\t Placebo   & 2 & 4\\\\\n",
       "\t Placebo   & 4 & 5\\\\\n",
       "\t Low Dose  & 7 & 5\\\\\n",
       "\t Low Dose  & 5 & 3\\\\\n",
       "\t Low Dose  & 3 & 1\\\\\n",
       "\t Low Dose  & 4 & 2\\\\\n",
       "\t Low Dose  & 4 & 2\\\\\n",
       "\t Low Dose  & 7 & 6\\\\\n",
       "\t Low Dose  & 5 & 4\\\\\n",
       "\t Low Dose  & 4 & 2\\\\\n",
       "\t High Dose & 9 & 1\\\\\n",
       "\t High Dose & 2 & 3\\\\\n",
       "\t High Dose & 6 & 5\\\\\n",
       "\t High Dose & 3 & 4\\\\\n",
       "\t High Dose & 4 & 3\\\\\n",
       "\t High Dose & 4 & 3\\\\\n",
       "\t High Dose & 4 & 2\\\\\n",
       "\t High Dose & 6 & 0\\\\\n",
       "\t High Dose & 4 & 1\\\\\n",
       "\t High Dose & 6 & 3\\\\\n",
       "\t High Dose & 2 & 0\\\\\n",
       "\t High Dose & 8 & 1\\\\\n",
       "\t High Dose & 5 & 0\\\\\n",
       "\\end{tabular}\n"
      ],
      "text/markdown": [
       "\n",
       "A data.frame: 30 × 3\n",
       "\n",
       "| dose &lt;fct&gt; | libido &lt;int&gt; | partnerLibido &lt;int&gt; |\n",
       "|---|---|---|\n",
       "| Placebo   | 3 | 4 |\n",
       "| Placebo   | 2 | 1 |\n",
       "| Placebo   | 5 | 5 |\n",
       "| Placebo   | 2 | 1 |\n",
       "| Placebo   | 2 | 2 |\n",
       "| Placebo   | 2 | 2 |\n",
       "| Placebo   | 7 | 7 |\n",
       "| Placebo   | 2 | 4 |\n",
       "| Placebo   | 4 | 5 |\n",
       "| Low Dose  | 7 | 5 |\n",
       "| Low Dose  | 5 | 3 |\n",
       "| Low Dose  | 3 | 1 |\n",
       "| Low Dose  | 4 | 2 |\n",
       "| Low Dose  | 4 | 2 |\n",
       "| Low Dose  | 7 | 6 |\n",
       "| Low Dose  | 5 | 4 |\n",
       "| Low Dose  | 4 | 2 |\n",
       "| High Dose | 9 | 1 |\n",
       "| High Dose | 2 | 3 |\n",
       "| High Dose | 6 | 5 |\n",
       "| High Dose | 3 | 4 |\n",
       "| High Dose | 4 | 3 |\n",
       "| High Dose | 4 | 3 |\n",
       "| High Dose | 4 | 2 |\n",
       "| High Dose | 6 | 0 |\n",
       "| High Dose | 4 | 1 |\n",
       "| High Dose | 6 | 3 |\n",
       "| High Dose | 2 | 0 |\n",
       "| High Dose | 8 | 1 |\n",
       "| High Dose | 5 | 0 |\n",
       "\n"
      ],
      "text/plain": [
       "   dose      libido partnerLibido\n",
       "1  Placebo   3      4            \n",
       "2  Placebo   2      1            \n",
       "3  Placebo   5      5            \n",
       "4  Placebo   2      1            \n",
       "5  Placebo   2      2            \n",
       "6  Placebo   2      2            \n",
       "7  Placebo   7      7            \n",
       "8  Placebo   2      4            \n",
       "9  Placebo   4      5            \n",
       "10 Low Dose  7      5            \n",
       "11 Low Dose  5      3            \n",
       "12 Low Dose  3      1            \n",
       "13 Low Dose  4      2            \n",
       "14 Low Dose  4      2            \n",
       "15 Low Dose  7      6            \n",
       "16 Low Dose  5      4            \n",
       "17 Low Dose  4      2            \n",
       "18 High Dose 9      1            \n",
       "19 High Dose 2      3            \n",
       "20 High Dose 6      5            \n",
       "21 High Dose 3      4            \n",
       "22 High Dose 4      3            \n",
       "23 High Dose 4      3            \n",
       "24 High Dose 4      2            \n",
       "25 High Dose 6      0            \n",
       "26 High Dose 4      1            \n",
       "27 High Dose 6      3            \n",
       "28 High Dose 2      0            \n",
       "29 High Dose 8      1            \n",
       "30 High Dose 5      0            "
      ]
     },
     "metadata": {},
     "output_type": "display_data"
    }
   ],
   "source": [
    "viagraData <- read.delim(\"data/ViagraCovariate.dat\", stringsAsFactors = T, header = T)\n",
    "\n",
    "viagraData$dose <- factor(viagraData$dose, levels = c(1:3), labels = c(\"Placebo\",\"Low Dose\", \"High Dose\"))\n",
    "summary(viagraData)\n",
    "\n",
    "viagraData"
   ]
  },
  {
   "cell_type": "markdown",
   "metadata": {},
   "source": [
    "## Checking homogeneity of variance"
   ]
  },
  {
   "cell_type": "code",
   "execution_count": 4,
   "metadata": {},
   "outputs": [
    {
     "name": "stderr",
     "output_type": "stream",
     "text": [
      "Loading required package: carData\n",
      "\n"
     ]
    },
    {
     "data": {
      "text/html": [
       "<table>\n",
       "<caption>A anova: 2 × 3</caption>\n",
       "<thead>\n",
       "\t<tr><th></th><th scope=col>Df</th><th scope=col>F value</th><th scope=col>Pr(&gt;F)</th></tr>\n",
       "\t<tr><th></th><th scope=col>&lt;int&gt;</th><th scope=col>&lt;dbl&gt;</th><th scope=col>&lt;dbl&gt;</th></tr>\n",
       "</thead>\n",
       "<tbody>\n",
       "\t<tr><th scope=row>group</th><td> 2</td><td>0.3255637</td><td>0.7249156</td></tr>\n",
       "\t<tr><th scope=row> </th><td>27</td><td>       NA</td><td>       NA</td></tr>\n",
       "</tbody>\n",
       "</table>\n"
      ],
      "text/latex": [
       "A anova: 2 × 3\n",
       "\\begin{tabular}{r|lll}\n",
       "  & Df & F value & Pr(>F)\\\\\n",
       "  & <int> & <dbl> & <dbl>\\\\\n",
       "\\hline\n",
       "\tgroup &  2 & 0.3255637 & 0.7249156\\\\\n",
       "\t  & 27 &        NA &        NA\\\\\n",
       "\\end{tabular}\n"
      ],
      "text/markdown": [
       "\n",
       "A anova: 2 × 3\n",
       "\n",
       "| <!--/--> | Df &lt;int&gt; | F value &lt;dbl&gt; | Pr(&gt;F) &lt;dbl&gt; |\n",
       "|---|---|---|---|\n",
       "| group |  2 | 0.3255637 | 0.7249156 |\n",
       "| <!----> | 27 |        NA |        NA |\n",
       "\n"
      ],
      "text/plain": [
       "      Df F value   Pr(>F)   \n",
       "group  2 0.3255637 0.7249156\n",
       "      27        NA        NA"
      ]
     },
     "metadata": {},
     "output_type": "display_data"
    }
   ],
   "source": [
    "library(car)\n",
    "\n",
    "leveneTest(viagraData$libido, viagraData$dose, center=median)"
   ]
  },
  {
   "cell_type": "markdown",
   "metadata": {},
   "source": [
    "Levene's test is **not significant**, which means that for these data the variances are very similar."
   ]
  },
  {
   "cell_type": "markdown",
   "metadata": {},
   "source": [
    "## Checking the predictor variable and covariates are independent"
   ]
  },
  {
   "cell_type": "markdown",
   "metadata": {},
   "source": [
    "ANCOVA assumes that the predictor variable (groups) and covariates are independent. \n",
    "We can test this by running an ANOVA with the covariate as the outcome."
   ]
  },
  {
   "cell_type": "code",
   "execution_count": 7,
   "metadata": {},
   "outputs": [
    {
     "data": {
      "text/plain": [
       "            Df Sum Sq Mean Sq F value Pr(>F)\n",
       "dose         2  12.77   6.385   1.979  0.158\n",
       "Residuals   27  87.10   3.226               "
      ]
     },
     "metadata": {},
     "output_type": "display_data"
    }
   ],
   "source": [
    "summary( aov(partnerLibido ~ dose , data=viagraData) )\n"
   ]
  },
  {
   "cell_type": "markdown",
   "metadata": {},
   "source": [
    "The F-ratio is **not significant**, so we can carry out the ANCOVA."
   ]
  },
  {
   "cell_type": "markdown",
   "metadata": {},
   "source": [
    "## Fitting an ANCOVA model"
   ]
  },
  {
   "cell_type": "markdown",
   "metadata": {},
   "source": [
    "### Type I and Type III sum of squares"
   ]
  },
  {
   "cell_type": "code",
   "execution_count": 9,
   "metadata": {},
   "outputs": [
    {
     "data": {
      "text/plain": [
       "              Df Sum Sq Mean Sq F value Pr(>F)  \n",
       "partnerLibido  1   6.73   6.734   2.215 0.1487  \n",
       "dose           2  25.19  12.593   4.142 0.0274 *\n",
       "Residuals     26  79.05   3.040                 \n",
       "---\n",
       "Signif. codes:  0 '***' 0.001 '**' 0.01 '*' 0.05 '.' 0.1 ' ' 1"
      ]
     },
     "metadata": {},
     "output_type": "display_data"
    },
    {
     "data": {
      "text/plain": [
       "              Df Sum Sq Mean Sq F value Pr(>F)  \n",
       "dose           2  16.84   8.422   2.770 0.0812 .\n",
       "partnerLibido  1  15.08  15.076   4.959 0.0348 *\n",
       "Residuals     26  79.05   3.040                 \n",
       "---\n",
       "Signif. codes:  0 '***' 0.001 '**' 0.01 '*' 0.05 '.' 0.1 ' ' 1"
      ]
     },
     "metadata": {},
     "output_type": "display_data"
    }
   ],
   "source": [
    "covariateFirst <- aov(libido ~ partnerLibido + dose, data=viagraData) \n",
    "summary(covariateFirst)\n",
    "\n",
    "doseFirst <- aov(libido ~ dose + partnerLibido, data=viagraData) \n",
    "summary(doseFirst)"
   ]
  },
  {
   "cell_type": "markdown",
   "metadata": {},
   "source": [
    "Note that the order in which we enter predicators into a model makes a difference to the effects in the overall ANOVA.\n",
    "\n",
    "In model **libido ~ partnerLibido + dose**, **partnerLibido** is not significant and **dose** is significant.\n",
    "\n",
    "In model **libido ~ dose + partnerLibido**, **dose** is not significant and **partnerLibido** is significant."
   ]
  },
  {
   "cell_type": "markdown",
   "metadata": {},
   "source": [
    "We can use Type III sums of squares (instead of Type I) by Anova() function to get consistent  results."
   ]
  },
  {
   "cell_type": "code",
   "execution_count": 14,
   "metadata": {},
   "outputs": [
    {
     "data": {
      "text/html": [
       "<table>\n",
       "<caption>A anova: 4 × 4</caption>\n",
       "<thead>\n",
       "\t<tr><th></th><th scope=col>Sum Sq</th><th scope=col>Df</th><th scope=col>F value</th><th scope=col>Pr(&gt;F)</th></tr>\n",
       "\t<tr><th></th><th scope=col>&lt;dbl&gt;</th><th scope=col>&lt;dbl&gt;</th><th scope=col>&lt;dbl&gt;</th><th scope=col>&lt;dbl&gt;</th></tr>\n",
       "</thead>\n",
       "<tbody>\n",
       "\t<tr><th scope=row>(Intercept)</th><td>12.94306</td><td> 1</td><td>4.257204</td><td>0.04920158</td></tr>\n",
       "\t<tr><th scope=row>partnerLibido</th><td>15.07575</td><td> 1</td><td>4.958681</td><td>0.03483338</td></tr>\n",
       "\t<tr><th scope=row>dose</th><td>25.18519</td><td> 2</td><td>4.141929</td><td>0.02744654</td></tr>\n",
       "\t<tr><th scope=row>Residuals</th><td>79.04712</td><td>26</td><td>      NA</td><td>        NA</td></tr>\n",
       "</tbody>\n",
       "</table>\n"
      ],
      "text/latex": [
       "A anova: 4 × 4\n",
       "\\begin{tabular}{r|llll}\n",
       "  & Sum Sq & Df & F value & Pr(>F)\\\\\n",
       "  & <dbl> & <dbl> & <dbl> & <dbl>\\\\\n",
       "\\hline\n",
       "\t(Intercept) & 12.94306 &  1 & 4.257204 & 0.04920158\\\\\n",
       "\tpartnerLibido & 15.07575 &  1 & 4.958681 & 0.03483338\\\\\n",
       "\tdose & 25.18519 &  2 & 4.141929 & 0.02744654\\\\\n",
       "\tResiduals & 79.04712 & 26 &       NA &         NA\\\\\n",
       "\\end{tabular}\n"
      ],
      "text/markdown": [
       "\n",
       "A anova: 4 × 4\n",
       "\n",
       "| <!--/--> | Sum Sq &lt;dbl&gt; | Df &lt;dbl&gt; | F value &lt;dbl&gt; | Pr(&gt;F) &lt;dbl&gt; |\n",
       "|---|---|---|---|---|\n",
       "| (Intercept) | 12.94306 |  1 | 4.257204 | 0.04920158 |\n",
       "| partnerLibido | 15.07575 |  1 | 4.958681 | 0.03483338 |\n",
       "| dose | 25.18519 |  2 | 4.141929 | 0.02744654 |\n",
       "| Residuals | 79.04712 | 26 |       NA |         NA |\n",
       "\n"
      ],
      "text/plain": [
       "              Sum Sq   Df F value  Pr(>F)    \n",
       "(Intercept)   12.94306  1 4.257204 0.04920158\n",
       "partnerLibido 15.07575  1 4.958681 0.03483338\n",
       "dose          25.18519  2 4.141929 0.02744654\n",
       "Residuals     79.04712 26       NA         NA"
      ]
     },
     "metadata": {},
     "output_type": "display_data"
    },
    {
     "data": {
      "text/html": [
       "<table>\n",
       "<caption>A anova: 4 × 4</caption>\n",
       "<thead>\n",
       "\t<tr><th></th><th scope=col>Sum Sq</th><th scope=col>Df</th><th scope=col>F value</th><th scope=col>Pr(&gt;F)</th></tr>\n",
       "\t<tr><th></th><th scope=col>&lt;dbl&gt;</th><th scope=col>&lt;dbl&gt;</th><th scope=col>&lt;dbl&gt;</th><th scope=col>&lt;dbl&gt;</th></tr>\n",
       "</thead>\n",
       "<tbody>\n",
       "\t<tr><th scope=row>(Intercept)</th><td>12.94306</td><td> 1</td><td>4.257204</td><td>0.04920158</td></tr>\n",
       "\t<tr><th scope=row>dose</th><td>25.18519</td><td> 2</td><td>4.141929</td><td>0.02744654</td></tr>\n",
       "\t<tr><th scope=row>partnerLibido</th><td>15.07575</td><td> 1</td><td>4.958681</td><td>0.03483338</td></tr>\n",
       "\t<tr><th scope=row>Residuals</th><td>79.04712</td><td>26</td><td>      NA</td><td>        NA</td></tr>\n",
       "</tbody>\n",
       "</table>\n"
      ],
      "text/latex": [
       "A anova: 4 × 4\n",
       "\\begin{tabular}{r|llll}\n",
       "  & Sum Sq & Df & F value & Pr(>F)\\\\\n",
       "  & <dbl> & <dbl> & <dbl> & <dbl>\\\\\n",
       "\\hline\n",
       "\t(Intercept) & 12.94306 &  1 & 4.257204 & 0.04920158\\\\\n",
       "\tdose & 25.18519 &  2 & 4.141929 & 0.02744654\\\\\n",
       "\tpartnerLibido & 15.07575 &  1 & 4.958681 & 0.03483338\\\\\n",
       "\tResiduals & 79.04712 & 26 &       NA &         NA\\\\\n",
       "\\end{tabular}\n"
      ],
      "text/markdown": [
       "\n",
       "A anova: 4 × 4\n",
       "\n",
       "| <!--/--> | Sum Sq &lt;dbl&gt; | Df &lt;dbl&gt; | F value &lt;dbl&gt; | Pr(&gt;F) &lt;dbl&gt; |\n",
       "|---|---|---|---|---|\n",
       "| (Intercept) | 12.94306 |  1 | 4.257204 | 0.04920158 |\n",
       "| dose | 25.18519 |  2 | 4.141929 | 0.02744654 |\n",
       "| partnerLibido | 15.07575 |  1 | 4.958681 | 0.03483338 |\n",
       "| Residuals | 79.04712 | 26 |       NA |         NA |\n",
       "\n"
      ],
      "text/plain": [
       "              Sum Sq   Df F value  Pr(>F)    \n",
       "(Intercept)   12.94306  1 4.257204 0.04920158\n",
       "dose          25.18519  2 4.141929 0.02744654\n",
       "partnerLibido 15.07575  1 4.958681 0.03483338\n",
       "Residuals     79.04712 26       NA         NA"
      ]
     },
     "metadata": {},
     "output_type": "display_data"
    }
   ],
   "source": [
    "Anova(covariateFirst, type=\"III\")\n",
    "\n",
    "Anova(doseFirst, type=\"III\")"
   ]
  },
  {
   "cell_type": "markdown",
   "metadata": {},
   "source": [
    "Note that although the results are consistent, but they are **not correct** because Type III sum of squares require **orthogonal contrasts** (The default dummy coding is nonorthogonal) ."
   ]
  },
  {
   "cell_type": "markdown",
   "metadata": {},
   "source": [
    "### ANCOVA and Type I sum of squares"
   ]
  },
  {
   "cell_type": "markdown",
   "metadata": {},
   "source": [
    "If we want Type I sum of squares, we should enter the covariates first, then the independent variables in ANCOVA.\n",
    "So we should use **libido ~ partnerLibido + dose**."
   ]
  },
  {
   "cell_type": "code",
   "execution_count": 15,
   "metadata": {},
   "outputs": [
    {
     "data": {
      "text/plain": [
       "              Df Sum Sq Mean Sq F value Pr(>F)  \n",
       "dose           2  16.84   8.422   2.770 0.0812 .\n",
       "partnerLibido  1  15.08  15.076   4.959 0.0348 *\n",
       "Residuals     26  79.05   3.040                 \n",
       "---\n",
       "Signif. codes:  0 '***' 0.001 '**' 0.01 '*' 0.05 '.' 0.1 ' ' 1"
      ]
     },
     "metadata": {},
     "output_type": "display_data"
    },
    {
     "data": {
      "text/plain": [
       "\n",
       "Call:\n",
       "aov(formula = libido ~ dose + partnerLibido, data = viagraData)\n",
       "\n",
       "Residuals:\n",
       "    Min      1Q  Median      3Q     Max \n",
       "-3.2622 -0.7899 -0.3230  0.8811  4.5699 \n",
       "\n",
       "Coefficients:\n",
       "              Estimate Std. Error t value Pr(>|t|)  \n",
       "(Intercept)     1.7892     0.8671   2.063   0.0492 *\n",
       "doseLow Dose    1.7857     0.8494   2.102   0.0454 *\n",
       "doseHigh Dose   2.2249     0.8028   2.771   0.0102 *\n",
       "partnerLibido   0.4160     0.1868   2.227   0.0348 *\n",
       "---\n",
       "Signif. codes:  0 '***' 0.001 '**' 0.01 '*' 0.05 '.' 0.1 ' ' 1\n",
       "\n",
       "Residual standard error: 1.744 on 26 degrees of freedom\n",
       "Multiple R-squared:  0.2876,\tAdjusted R-squared:  0.2055 \n",
       "F-statistic:   3.5 on 3 and 26 DF,  p-value: 0.02954\n"
      ]
     },
     "metadata": {},
     "output_type": "display_data"
    }
   ],
   "source": [
    "viagraModel <- aov(libido ~ partnerLibido + dose, data=viagraData) \n",
    "\n",
    "summary(doseFirst)\n",
    "summary.lm(doseFirst)"
   ]
  },
  {
   "cell_type": "markdown",
   "metadata": {},
   "source": [
    "### ANCOVA and Type III sum of squares"
   ]
  },
  {
   "cell_type": "markdown",
   "metadata": {},
   "source": [
    "We must use orthogonal contrast to get correct results of Type III sum of squares."
   ]
  },
  {
   "cell_type": "code",
   "execution_count": 22,
   "metadata": {},
   "outputs": [
    {
     "data": {
      "text/html": [
       "<table>\n",
       "<caption>A matrix: 3 × 2 of type dbl</caption>\n",
       "<thead>\n",
       "\t<tr><th></th><th scope=col>Low Dose</th><th scope=col>High Dose</th></tr>\n",
       "</thead>\n",
       "<tbody>\n",
       "\t<tr><th scope=row>Placebo</th><td>0</td><td>0</td></tr>\n",
       "\t<tr><th scope=row>Low Dose</th><td>1</td><td>0</td></tr>\n",
       "\t<tr><th scope=row>High Dose</th><td>0</td><td>1</td></tr>\n",
       "</tbody>\n",
       "</table>\n"
      ],
      "text/latex": [
       "A matrix: 3 × 2 of type dbl\n",
       "\\begin{tabular}{r|ll}\n",
       "  & Low Dose & High Dose\\\\\n",
       "\\hline\n",
       "\tPlacebo & 0 & 0\\\\\n",
       "\tLow Dose & 1 & 0\\\\\n",
       "\tHigh Dose & 0 & 1\\\\\n",
       "\\end{tabular}\n"
      ],
      "text/markdown": [
       "\n",
       "A matrix: 3 × 2 of type dbl\n",
       "\n",
       "| <!--/--> | Low Dose | High Dose |\n",
       "|---|---|---|\n",
       "| Placebo | 0 | 0 |\n",
       "| Low Dose | 1 | 0 |\n",
       "| High Dose | 0 | 1 |\n",
       "\n"
      ],
      "text/plain": [
       "          Low Dose High Dose\n",
       "Placebo   0        0        \n",
       "Low Dose  1        0        \n",
       "High Dose 0        1        "
      ]
     },
     "metadata": {},
     "output_type": "display_data"
    }
   ],
   "source": [
    "contrasts(viagraData$dose)"
   ]
  },
  {
   "cell_type": "code",
   "execution_count": 25,
   "metadata": {},
   "outputs": [
    {
     "data": {
      "text/html": [
       "<table>\n",
       "<caption>A matrix: 3 × 2 of type dbl</caption>\n",
       "<tbody>\n",
       "\t<tr><th scope=row>Placebo</th><td>-2</td><td> 0</td></tr>\n",
       "\t<tr><th scope=row>Low Dose</th><td> 1</td><td>-1</td></tr>\n",
       "\t<tr><th scope=row>High Dose</th><td> 1</td><td> 1</td></tr>\n",
       "</tbody>\n",
       "</table>\n"
      ],
      "text/latex": [
       "A matrix: 3 × 2 of type dbl\n",
       "\\begin{tabular}{r|ll}\n",
       "\tPlacebo & -2 &  0\\\\\n",
       "\tLow Dose &  1 & -1\\\\\n",
       "\tHigh Dose &  1 &  1\\\\\n",
       "\\end{tabular}\n"
      ],
      "text/markdown": [
       "\n",
       "A matrix: 3 × 2 of type dbl\n",
       "\n",
       "| Placebo | -2 |  0 |\n",
       "| Low Dose |  1 | -1 |\n",
       "| High Dose |  1 |  1 |\n",
       "\n"
      ],
      "text/plain": [
       "          [,1] [,2]\n",
       "Placebo   -2    0  \n",
       "Low Dose   1   -1  \n",
       "High Dose  1    1  "
      ]
     },
     "metadata": {},
     "output_type": "display_data"
    }
   ],
   "source": [
    "contrasts(viagraData$dose) <- cbind(c(-2,1,1),c(0,-1,1))\n",
    "\n",
    "contrasts(viagraData$dose)"
   ]
  },
  {
   "cell_type": "code",
   "execution_count": 27,
   "metadata": {},
   "outputs": [
    {
     "data": {
      "text/html": [
       "<table>\n",
       "<caption>A anova: 4 × 4</caption>\n",
       "<thead>\n",
       "\t<tr><th></th><th scope=col>Sum Sq</th><th scope=col>Df</th><th scope=col>F value</th><th scope=col>Pr(&gt;F)</th></tr>\n",
       "\t<tr><th></th><th scope=col>&lt;dbl&gt;</th><th scope=col>&lt;dbl&gt;</th><th scope=col>&lt;dbl&gt;</th><th scope=col>&lt;dbl&gt;</th></tr>\n",
       "</thead>\n",
       "<tbody>\n",
       "\t<tr><th scope=row>(Intercept)</th><td>76.06904</td><td> 1</td><td>25.020457</td><td>3.342399e-05</td></tr>\n",
       "\t<tr><th scope=row>partnerLibido</th><td>15.07575</td><td> 1</td><td> 4.958681</td><td>3.483338e-02</td></tr>\n",
       "\t<tr><th scope=row>dose</th><td>25.18519</td><td> 2</td><td> 4.141929</td><td>2.744654e-02</td></tr>\n",
       "\t<tr><th scope=row>Residuals</th><td>79.04712</td><td>26</td><td>       NA</td><td>          NA</td></tr>\n",
       "</tbody>\n",
       "</table>\n"
      ],
      "text/latex": [
       "A anova: 4 × 4\n",
       "\\begin{tabular}{r|llll}\n",
       "  & Sum Sq & Df & F value & Pr(>F)\\\\\n",
       "  & <dbl> & <dbl> & <dbl> & <dbl>\\\\\n",
       "\\hline\n",
       "\t(Intercept) & 76.06904 &  1 & 25.020457 & 3.342399e-05\\\\\n",
       "\tpartnerLibido & 15.07575 &  1 &  4.958681 & 3.483338e-02\\\\\n",
       "\tdose & 25.18519 &  2 &  4.141929 & 2.744654e-02\\\\\n",
       "\tResiduals & 79.04712 & 26 &        NA &           NA\\\\\n",
       "\\end{tabular}\n"
      ],
      "text/markdown": [
       "\n",
       "A anova: 4 × 4\n",
       "\n",
       "| <!--/--> | Sum Sq &lt;dbl&gt; | Df &lt;dbl&gt; | F value &lt;dbl&gt; | Pr(&gt;F) &lt;dbl&gt; |\n",
       "|---|---|---|---|---|\n",
       "| (Intercept) | 76.06904 |  1 | 25.020457 | 3.342399e-05 |\n",
       "| partnerLibido | 15.07575 |  1 |  4.958681 | 3.483338e-02 |\n",
       "| dose | 25.18519 |  2 |  4.141929 | 2.744654e-02 |\n",
       "| Residuals | 79.04712 | 26 |        NA |           NA |\n",
       "\n"
      ],
      "text/plain": [
       "              Sum Sq   Df F value   Pr(>F)      \n",
       "(Intercept)   76.06904  1 25.020457 3.342399e-05\n",
       "partnerLibido 15.07575  1  4.958681 3.483338e-02\n",
       "dose          25.18519  2  4.141929 2.744654e-02\n",
       "Residuals     79.04712 26        NA           NA"
      ]
     },
     "metadata": {},
     "output_type": "display_data"
    }
   ],
   "source": [
    "viagraModel <- aov(libido ~ partnerLibido + dose, data=viagraData) \n",
    "\n",
    "Anova(viagraModel, type =\"III\")"
   ]
  },
  {
   "cell_type": "code",
   "execution_count": 28,
   "metadata": {},
   "outputs": [
    {
     "data": {
      "text/plain": [
       "\n",
       "Call:\n",
       "aov(formula = libido ~ partnerLibido + dose, data = viagraData)\n",
       "\n",
       "Residuals:\n",
       "    Min      1Q  Median      3Q     Max \n",
       "-3.2622 -0.7899 -0.3230  0.8811  4.5699 \n",
       "\n",
       "Coefficients:\n",
       "              Estimate Std. Error t value Pr(>|t|)    \n",
       "(Intercept)     3.1260     0.6250   5.002 3.34e-05 ***\n",
       "partnerLibido   0.4160     0.1868   2.227  0.03483 *  \n",
       "dose1           0.6684     0.2400   2.785  0.00985 ** \n",
       "dose2           0.2196     0.4056   0.541  0.59284    \n",
       "---\n",
       "Signif. codes:  0 '***' 0.001 '**' 0.01 '*' 0.05 '.' 0.1 ' ' 1\n",
       "\n",
       "Residual standard error: 1.744 on 26 degrees of freedom\n",
       "Multiple R-squared:  0.2876,\tAdjusted R-squared:  0.2055 \n",
       "F-statistic:   3.5 on 3 and 26 DF,  p-value: 0.02954\n"
      ]
     },
     "metadata": {},
     "output_type": "display_data"
    }
   ],
   "source": [
    "summary.lm(viagraModel)"
   ]
  },
  {
   "cell_type": "markdown",
   "metadata": {},
   "source": [
    "## Testing for homogeneity of regression slopes"
   ]
  },
  {
   "cell_type": "markdown",
   "metadata": {},
   "source": [
    "ANCOVA sassumes that the relationship bwtween the covariate and outcome variable (in this case **partnerLibido** and **dose**) should be similar at different levels of the predictor variable (in this case three **dose** groups)."
   ]
  },
  {
   "cell_type": "code",
   "execution_count": 31,
   "metadata": {},
   "outputs": [
    {
     "data": {
      "text/html": [
       "<table>\n",
       "<caption>A anova: 5 × 4</caption>\n",
       "<thead>\n",
       "\t<tr><th></th><th scope=col>Sum Sq</th><th scope=col>Df</th><th scope=col>F value</th><th scope=col>Pr(&gt;F)</th></tr>\n",
       "\t<tr><th></th><th scope=col>&lt;dbl&gt;</th><th scope=col>&lt;dbl&gt;</th><th scope=col>&lt;dbl&gt;</th><th scope=col>&lt;dbl&gt;</th></tr>\n",
       "</thead>\n",
       "<tbody>\n",
       "\t<tr><th scope=row>(Intercept)</th><td>53.54187</td><td> 1</td><td>21.920735</td><td>0.0000932259</td></tr>\n",
       "\t<tr><th scope=row>partnerLibido</th><td>17.18222</td><td> 1</td><td> 7.034625</td><td>0.0139474621</td></tr>\n",
       "\t<tr><th scope=row>dose</th><td>36.55756</td><td> 2</td><td> 7.483569</td><td>0.0029795645</td></tr>\n",
       "\t<tr><th scope=row>partnerLibido:dose</th><td>20.42659</td><td> 2</td><td> 4.181456</td><td>0.0276671129</td></tr>\n",
       "\t<tr><th scope=row>Residuals</th><td>58.62052</td><td>24</td><td>       NA</td><td>          NA</td></tr>\n",
       "</tbody>\n",
       "</table>\n"
      ],
      "text/latex": [
       "A anova: 5 × 4\n",
       "\\begin{tabular}{r|llll}\n",
       "  & Sum Sq & Df & F value & Pr(>F)\\\\\n",
       "  & <dbl> & <dbl> & <dbl> & <dbl>\\\\\n",
       "\\hline\n",
       "\t(Intercept) & 53.54187 &  1 & 21.920735 & 0.0000932259\\\\\n",
       "\tpartnerLibido & 17.18222 &  1 &  7.034625 & 0.0139474621\\\\\n",
       "\tdose & 36.55756 &  2 &  7.483569 & 0.0029795645\\\\\n",
       "\tpartnerLibido:dose & 20.42659 &  2 &  4.181456 & 0.0276671129\\\\\n",
       "\tResiduals & 58.62052 & 24 &        NA &           NA\\\\\n",
       "\\end{tabular}\n"
      ],
      "text/markdown": [
       "\n",
       "A anova: 5 × 4\n",
       "\n",
       "| <!--/--> | Sum Sq &lt;dbl&gt; | Df &lt;dbl&gt; | F value &lt;dbl&gt; | Pr(&gt;F) &lt;dbl&gt; |\n",
       "|---|---|---|---|---|\n",
       "| (Intercept) | 53.54187 |  1 | 21.920735 | 0.0000932259 |\n",
       "| partnerLibido | 17.18222 |  1 |  7.034625 | 0.0139474621 |\n",
       "| dose | 36.55756 |  2 |  7.483569 | 0.0029795645 |\n",
       "| partnerLibido:dose | 20.42659 |  2 |  4.181456 | 0.0276671129 |\n",
       "| Residuals | 58.62052 | 24 |        NA |           NA |\n",
       "\n"
      ],
      "text/plain": [
       "                   Sum Sq   Df F value   Pr(>F)      \n",
       "(Intercept)        53.54187  1 21.920735 0.0000932259\n",
       "partnerLibido      17.18222  1  7.034625 0.0139474621\n",
       "dose               36.55756  2  7.483569 0.0029795645\n",
       "partnerLibido:dose 20.42659  2  4.181456 0.0276671129\n",
       "Residuals          58.62052 24        NA           NA"
      ]
     },
     "metadata": {},
     "output_type": "display_data"
    }
   ],
   "source": [
    "hoRS <- aov(libido ~ partnerLibido * dose, data = viagraData)\n",
    "\n",
    "Anova(hoRS, type=\"III\")"
   ]
  },
  {
   "cell_type": "markdown",
   "metadata": {},
   "source": [
    "The effect of interfaction of **partnerLibido** and **dose** (**partnerLibido:dose**) is significant, so the assumption can't hold."
   ]
  },
  {
   "cell_type": "code",
   "execution_count": null,
   "metadata": {},
   "outputs": [],
   "source": [
    "\n"
   ]
  }
 ],
 "metadata": {
  "kernelspec": {
   "display_name": "R",
   "language": "R",
   "name": "ir"
  },
  "language_info": {
   "codemirror_mode": "r",
   "file_extension": ".r",
   "mimetype": "text/x-r-source",
   "name": "R",
   "pygments_lexer": "r",
   "version": "4.0.2"
  }
 },
 "nbformat": 4,
 "nbformat_minor": 4
}
