{
 "cells": [
  {
   "cell_type": "markdown",
   "metadata": {},
   "source": [
    "# Multinomial logistic regression"
   ]
  },
  {
   "cell_type": "markdown",
   "metadata": {},
   "source": [
    "## Loading data"
   ]
  },
  {
   "cell_type": "code",
   "execution_count": 1,
   "metadata": {},
   "outputs": [
    {
     "data": {
      "text/html": [
       "<table>\n",
       "<caption>A data.frame: 6 × 5</caption>\n",
       "<thead>\n",
       "\t<tr><th></th><th scope=col>Success</th><th scope=col>Funny</th><th scope=col>Sex</th><th scope=col>Good_Mate</th><th scope=col>Gender</th></tr>\n",
       "\t<tr><th></th><th scope=col>&lt;fct&gt;</th><th scope=col>&lt;int&gt;</th><th scope=col>&lt;int&gt;</th><th scope=col>&lt;int&gt;</th><th scope=col>&lt;fct&gt;</th></tr>\n",
       "</thead>\n",
       "<tbody>\n",
       "\t<tr><th scope=row>1</th><td>Get Phone Number   </td><td>3</td><td>7</td><td>6</td><td>Male</td></tr>\n",
       "\t<tr><th scope=row>2</th><td>Go Home with Person</td><td>5</td><td>7</td><td>2</td><td>Male</td></tr>\n",
       "\t<tr><th scope=row>3</th><td>Get Phone Number   </td><td>4</td><td>6</td><td>6</td><td>Male</td></tr>\n",
       "\t<tr><th scope=row>4</th><td>Go Home with Person</td><td>3</td><td>7</td><td>5</td><td>Male</td></tr>\n",
       "\t<tr><th scope=row>5</th><td>Get Phone Number   </td><td>5</td><td>1</td><td>6</td><td>Male</td></tr>\n",
       "\t<tr><th scope=row>6</th><td>Get Phone Number   </td><td>4</td><td>7</td><td>5</td><td>Male</td></tr>\n",
       "</tbody>\n",
       "</table>\n"
      ],
      "text/latex": [
       "A data.frame: 6 × 5\n",
       "\\begin{tabular}{r|lllll}\n",
       "  & Success & Funny & Sex & Good\\_Mate & Gender\\\\\n",
       "  & <fct> & <int> & <int> & <int> & <fct>\\\\\n",
       "\\hline\n",
       "\t1 & Get Phone Number    & 3 & 7 & 6 & Male\\\\\n",
       "\t2 & Go Home with Person & 5 & 7 & 2 & Male\\\\\n",
       "\t3 & Get Phone Number    & 4 & 6 & 6 & Male\\\\\n",
       "\t4 & Go Home with Person & 3 & 7 & 5 & Male\\\\\n",
       "\t5 & Get Phone Number    & 5 & 1 & 6 & Male\\\\\n",
       "\t6 & Get Phone Number    & 4 & 7 & 5 & Male\\\\\n",
       "\\end{tabular}\n"
      ],
      "text/markdown": [
       "\n",
       "A data.frame: 6 × 5\n",
       "\n",
       "| <!--/--> | Success &lt;fct&gt; | Funny &lt;int&gt; | Sex &lt;int&gt; | Good_Mate &lt;int&gt; | Gender &lt;fct&gt; |\n",
       "|---|---|---|---|---|---|\n",
       "| 1 | Get Phone Number    | 3 | 7 | 6 | Male |\n",
       "| 2 | Go Home with Person | 5 | 7 | 2 | Male |\n",
       "| 3 | Get Phone Number    | 4 | 6 | 6 | Male |\n",
       "| 4 | Go Home with Person | 3 | 7 | 5 | Male |\n",
       "| 5 | Get Phone Number    | 5 | 1 | 6 | Male |\n",
       "| 6 | Get Phone Number    | 4 | 7 | 5 | Male |\n",
       "\n"
      ],
      "text/plain": [
       "  Success             Funny Sex Good_Mate Gender\n",
       "1 Get Phone Number    3     7   6         Male  \n",
       "2 Go Home with Person 5     7   2         Male  \n",
       "3 Get Phone Number    4     6   6         Male  \n",
       "4 Go Home with Person 3     7   5         Male  \n",
       "5 Get Phone Number    5     1   6         Male  \n",
       "6 Get Phone Number    4     7   5         Male  "
      ]
     },
     "metadata": {},
     "output_type": "display_data"
    },
    {
     "data": {
      "text/plain": [
       "                 Success        Funny             Sex           Good_Mate     \n",
       " Get Phone Number    :485   Min.   : 0.000   Min.   : 0.000   Min.   : 0.000  \n",
       " Go Home with Person :135   1st Qu.: 3.000   1st Qu.: 6.000   1st Qu.: 5.000  \n",
       " No response/Walk Off:400   Median : 4.000   Median : 6.000   Median : 6.000  \n",
       "                            Mean   : 4.372   Mean   : 6.034   Mean   : 5.676  \n",
       "                            3rd Qu.: 5.000   3rd Qu.: 7.000   3rd Qu.: 6.000  \n",
       "                            Max.   :10.000   Max.   :10.000   Max.   :10.000  \n",
       "    Gender   \n",
       " Female:672  \n",
       " Male  :348  \n",
       "             \n",
       "             \n",
       "             \n",
       "             "
      ]
     },
     "metadata": {},
     "output_type": "display_data"
    }
   ],
   "source": [
    "data <- read.delim(\"data/Chat-Up Lines.dat\",header=T,stringsAsFactors = T)\n",
    "\n",
    "head(data)\n",
    "summary(data)"
   ]
  },
  {
   "cell_type": "markdown",
   "metadata": {},
   "source": [
    "## Reorder the factors"
   ]
  },
  {
   "cell_type": "code",
   "execution_count": 10,
   "metadata": {},
   "outputs": [
    {
     "data": {
      "text/plain": [
       "                 Success        Funny             Sex           Good_Mate     \n",
       " No response/Walk Off:400   Min.   : 0.000   Min.   : 0.000   Min.   : 0.000  \n",
       " Get Phone Number    :485   1st Qu.: 3.000   1st Qu.: 6.000   1st Qu.: 5.000  \n",
       " Go Home with Person :135   Median : 4.000   Median : 6.000   Median : 6.000  \n",
       "                            Mean   : 4.372   Mean   : 6.034   Mean   : 5.676  \n",
       "                            3rd Qu.: 5.000   3rd Qu.: 7.000   3rd Qu.: 6.000  \n",
       "                            Max.   :10.000   Max.   :10.000   Max.   :10.000  \n",
       "    Gender   \n",
       " Male  :348  \n",
       " Female:672  \n",
       "             \n",
       "             \n",
       "             \n",
       "             "
      ]
     },
     "metadata": {},
     "output_type": "display_data"
    }
   ],
   "source": [
    "data$Success = relevel(data$Success, ref=3)\n",
    "data$Gender = relevel(data$Gender, ref=2)\n",
    "summary(data)"
   ]
  },
  {
   "cell_type": "markdown",
   "metadata": {},
   "source": [
    "## Preparing the data for mlogit() function"
   ]
  },
  {
   "cell_type": "code",
   "execution_count": 14,
   "metadata": {},
   "outputs": [],
   "source": [
    "library(mlogit)\n",
    "\n",
    "mlData <- mlogit.data(data, choice = \"Success\", shape=\"wide\")"
   ]
  },
  {
   "cell_type": "code",
   "execution_count": 15,
   "metadata": {},
   "outputs": [
    {
     "name": "stdout",
     "output_type": "stream",
     "text": [
      "~~~~~~~\n",
      " first 10 observations out of 3060 \n",
      "~~~~~~~\n",
      "   Success Funny Sex Good_Mate Gender chid                  alt    idx\n",
      "1     TRUE     3   7         6   Male    1     Get Phone Number 1:mber\n",
      "2    FALSE     3   7         6   Male    1  Go Home with Person 1:rson\n",
      "3    FALSE     3   7         6   Male    1 No response/Walk Off 1: Off\n",
      "4    FALSE     5   7         2   Male    2     Get Phone Number 2:mber\n",
      "5     TRUE     5   7         2   Male    2  Go Home with Person 2:rson\n",
      "6    FALSE     5   7         2   Male    2 No response/Walk Off 2: Off\n",
      "7     TRUE     4   6         6   Male    3     Get Phone Number 3:mber\n",
      "8    FALSE     4   6         6   Male    3  Go Home with Person 3:rson\n",
      "9    FALSE     4   6         6   Male    3 No response/Walk Off 3: Off\n",
      "10   FALSE     3   7         5   Male    4     Get Phone Number 4:mber\n",
      "\n",
      "~~~ indexes ~~~~\n",
      "   chid                  alt\n",
      "1     1     Get Phone Number\n",
      "2     1  Go Home with Person\n",
      "3     1 No response/Walk Off\n",
      "4     2     Get Phone Number\n",
      "5     2  Go Home with Person\n",
      "6     2 No response/Walk Off\n",
      "7     3     Get Phone Number\n",
      "8     3  Go Home with Person\n",
      "9     3 No response/Walk Off\n",
      "10    4     Get Phone Number\n",
      "indexes:  1, 2 \n"
     ]
    }
   ],
   "source": [
    "head(mlData)"
   ]
  },
  {
   "cell_type": "markdown",
   "metadata": {},
   "source": [
    "We change the data from one row per person to one row person per category of the outcome variable. \n",
    "Sin the outcome variable(\"Success\") has 3 categories, so each person should have 3 rows in the new data frame(mlData)."
   ]
  },
  {
   "cell_type": "markdown",
   "metadata": {},
   "source": [
    "## Fit the model"
   ]
  },
  {
   "cell_type": "code",
   "execution_count": 25,
   "metadata": {},
   "outputs": [
    {
     "data": {
      "text/plain": [
       "\n",
       "Call:\n",
       "mlogit(formula = Success ~ 1 | Good_Mate + Funny + Gender + Sex + \n",
       "    Gender:Sex + Funny:Gender, data = mlData, reflevel = \"No response/Walk Off\", \n",
       "    method = \"nr\")\n",
       "\n",
       "Frequencies of alternatives:choice\n",
       "No response/Walk Off     Get Phone Number  Go Home with Person \n",
       "             0.39216              0.47549              0.13235 \n",
       "\n",
       "nr method\n",
       "6 iterations, 0h:0m:0s \n",
       "g'(-H)^-1g = 0.00121 \n",
       "successive function values within tolerance limits \n",
       "\n",
       "Coefficients :\n",
       "                                  Estimate Std. Error z-value  Pr(>|z|)    \n",
       "(Intercept):Get Phone Number     -1.783070   0.669772 -2.6622 0.0077631 ** \n",
       "(Intercept):Go Home with Person  -4.286354   0.941398 -4.5532 5.284e-06 ***\n",
       "Good_Mate:Get Phone Number        0.131840   0.053726  2.4539 0.0141306 *  \n",
       "Good_Mate:Go Home with Person     0.130019   0.083521  1.5567 0.1195351    \n",
       "Funny:Get Phone Number            0.139389   0.110126  1.2657 0.2056135    \n",
       "Funny:Go Home with Person         0.318456   0.125302  2.5415 0.0110376 *  \n",
       "GenderFemale:Get Phone Number    -1.646223   0.796247 -2.0675 0.0386891 *  \n",
       "GenderFemale:Go Home with Person -5.626369   1.328589 -4.2348 2.287e-05 ***\n",
       "Sex:Get Phone Number              0.276206   0.089197  3.0966 0.0019577 ** \n",
       "Sex:Go Home with Person           0.417283   0.122083  3.4180 0.0006307 ***\n",
       "GenderFemale:Get Phone Number    -0.348326   0.105875 -3.2900 0.0010020 ** \n",
       "GenderFemale:Go Home with Person -0.476639   0.163434 -2.9164 0.0035409 ** \n",
       "Funny:Get Phone Number            0.492441   0.139992  3.5176 0.0004354 ***\n",
       "Funny:Go Home with Person         1.172404   0.199240  5.8844 3.996e-09 ***\n",
       "---\n",
       "Signif. codes:  0 '***' 0.001 '**' 0.01 '*' 0.05 '.' 0.1 ' ' 1\n",
       "\n",
       "Log-Likelihood: -868.74\n",
       "McFadden R^2:  0.13816 \n",
       "Likelihood ratio test : chisq = 278.52 (p.value = < 2.22e-16)"
      ]
     },
     "metadata": {},
     "output_type": "display_data"
    }
   ],
   "source": [
    "model <- mlogit(Success ~ 1 | Good_Mate + Funny + Gender + Sex + Gender:Sex + Funny:Gender, data=mlData, reflevel = \"No response/Walk Off\")\n",
    "\n",
    "summary(model)"
   ]
  },
  {
   "cell_type": "code",
   "execution_count": null,
   "metadata": {},
   "outputs": [],
   "source": []
  }
 ],
 "metadata": {
  "kernelspec": {
   "display_name": "R",
   "language": "R",
   "name": "ir"
  },
  "language_info": {
   "codemirror_mode": "r",
   "file_extension": ".r",
   "mimetype": "text/x-r-source",
   "name": "R",
   "pygments_lexer": "r",
   "version": "4.0.1"
  }
 },
 "nbformat": 4,
 "nbformat_minor": 4
}
