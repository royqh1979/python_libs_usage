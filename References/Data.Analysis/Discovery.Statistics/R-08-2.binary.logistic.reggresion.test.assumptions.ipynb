{
 "cells": [
  {
   "cell_type": "markdown",
   "metadata": {},
   "source": [
    "# Test Assumptions of the Logistic regression"
   ]
  },
  {
   "cell_type": "markdown",
   "metadata": {},
   "source": [
    "## Load the data"
   ]
  },
  {
   "cell_type": "code",
   "execution_count": 1,
   "metadata": {},
   "outputs": [
    {
     "data": {
      "text/html": [
       "<table>\n",
       "<caption>A data.frame: 6 × 4</caption>\n",
       "<thead>\n",
       "\t<tr><th></th><th scope=col>PSWQ</th><th scope=col>Anxious</th><th scope=col>Previous</th><th scope=col>Scored</th></tr>\n",
       "\t<tr><th></th><th scope=col>&lt;int&gt;</th><th scope=col>&lt;int&gt;</th><th scope=col>&lt;int&gt;</th><th scope=col>&lt;fct&gt;</th></tr>\n",
       "</thead>\n",
       "<tbody>\n",
       "\t<tr><th scope=row>1</th><td>18</td><td>21</td><td>56</td><td>Scored Penalty</td></tr>\n",
       "\t<tr><th scope=row>2</th><td>17</td><td>32</td><td>35</td><td>Scored Penalty</td></tr>\n",
       "\t<tr><th scope=row>3</th><td>16</td><td>34</td><td>35</td><td>Scored Penalty</td></tr>\n",
       "\t<tr><th scope=row>4</th><td>14</td><td>40</td><td>15</td><td>Scored Penalty</td></tr>\n",
       "\t<tr><th scope=row>5</th><td> 5</td><td>24</td><td>47</td><td>Scored Penalty</td></tr>\n",
       "\t<tr><th scope=row>6</th><td> 1</td><td>15</td><td>67</td><td>Scored Penalty</td></tr>\n",
       "</tbody>\n",
       "</table>\n"
      ],
      "text/latex": [
       "A data.frame: 6 × 4\n",
       "\\begin{tabular}{r|llll}\n",
       "  & PSWQ & Anxious & Previous & Scored\\\\\n",
       "  & <int> & <int> & <int> & <fct>\\\\\n",
       "\\hline\n",
       "\t1 & 18 & 21 & 56 & Scored Penalty\\\\\n",
       "\t2 & 17 & 32 & 35 & Scored Penalty\\\\\n",
       "\t3 & 16 & 34 & 35 & Scored Penalty\\\\\n",
       "\t4 & 14 & 40 & 15 & Scored Penalty\\\\\n",
       "\t5 &  5 & 24 & 47 & Scored Penalty\\\\\n",
       "\t6 &  1 & 15 & 67 & Scored Penalty\\\\\n",
       "\\end{tabular}\n"
      ],
      "text/markdown": [
       "\n",
       "A data.frame: 6 × 4\n",
       "\n",
       "| <!--/--> | PSWQ &lt;int&gt; | Anxious &lt;int&gt; | Previous &lt;int&gt; | Scored &lt;fct&gt; |\n",
       "|---|---|---|---|---|\n",
       "| 1 | 18 | 21 | 56 | Scored Penalty |\n",
       "| 2 | 17 | 32 | 35 | Scored Penalty |\n",
       "| 3 | 16 | 34 | 35 | Scored Penalty |\n",
       "| 4 | 14 | 40 | 15 | Scored Penalty |\n",
       "| 5 |  5 | 24 | 47 | Scored Penalty |\n",
       "| 6 |  1 | 15 | 67 | Scored Penalty |\n",
       "\n"
      ],
      "text/plain": [
       "  PSWQ Anxious Previous Scored        \n",
       "1 18   21      56       Scored Penalty\n",
       "2 17   32      35       Scored Penalty\n",
       "3 16   34      35       Scored Penalty\n",
       "4 14   40      15       Scored Penalty\n",
       "5  5   24      47       Scored Penalty\n",
       "6  1   15      67       Scored Penalty"
      ]
     },
     "metadata": {},
     "output_type": "display_data"
    }
   ],
   "source": [
    "penalty <- read.delim(\"data/penalty.dat\",header=T, stringsAsFactors = T)\n",
    "\n",
    "head(penalty)"
   ]
  },
  {
   "cell_type": "markdown",
   "metadata": {},
   "source": [
    "## Fit a Model"
   ]
  },
  {
   "cell_type": "code",
   "execution_count": 2,
   "metadata": {},
   "outputs": [
    {
     "data": {
      "text/plain": [
       "\n",
       "Call:\n",
       "glm(formula = Scored ~ Previous + PSWQ + Anxious, family = binomial(), \n",
       "    data = penalty)\n",
       "\n",
       "Deviance Residuals: \n",
       "     Min        1Q    Median        3Q       Max  \n",
       "-2.31374  -0.35996   0.08334   0.53860   1.61380  \n",
       "\n",
       "Coefficients:\n",
       "             Estimate Std. Error z value Pr(>|z|)   \n",
       "(Intercept) -11.49256   11.80175  -0.974  0.33016   \n",
       "Previous      0.20261    0.12932   1.567  0.11719   \n",
       "PSWQ         -0.25137    0.08401  -2.992  0.00277 **\n",
       "Anxious       0.27585    0.25259   1.092  0.27480   \n",
       "---\n",
       "Signif. codes:  0 '***' 0.001 '**' 0.01 '*' 0.05 '.' 0.1 ' ' 1\n",
       "\n",
       "(Dispersion parameter for binomial family taken to be 1)\n",
       "\n",
       "    Null deviance: 103.638  on 74  degrees of freedom\n",
       "Residual deviance:  47.416  on 71  degrees of freedom\n",
       "AIC: 55.416\n",
       "\n",
       "Number of Fisher Scoring iterations: 6\n"
      ]
     },
     "metadata": {},
     "output_type": "display_data"
    }
   ],
   "source": [
    "penaltyModel <- glm(Scored ~ Previous + PSWQ + Anxious, data = penalty, family = binomial())\n",
    "\n",
    "summary(penaltyModel)"
   ]
  },
  {
   "cell_type": "markdown",
   "metadata": {},
   "source": [
    "## Testing for multicollinearity"
   ]
  },
  {
   "cell_type": "code",
   "execution_count": 18,
   "metadata": {},
   "outputs": [
    {
     "name": "stderr",
     "output_type": "stream",
     "text": [
      "Warning message:\n",
      "\"package 'car' was built under R version 4.0.2\"\n",
      "Loading required package: carData\n",
      "\n"
     ]
    },
    {
     "data": {
      "text/html": [
       "<style>\n",
       ".dl-inline {width: auto; margin:0; padding: 0}\n",
       ".dl-inline>dt, .dl-inline>dd {float: none; width: auto; display: inline-block}\n",
       ".dl-inline>dt::after {content: \":\\0020\"; padding-right: .5ex}\n",
       ".dl-inline>dt:not(:first-of-type) {padding-left: .5ex}\n",
       "</style><dl class=dl-inline><dt>Previous</dt><dd>35.2271130378129</dd><dt>PSWQ</dt><dd>1.08976661632689</dd><dt>Anxious</dt><dd>35.5819755134595</dd></dl>\n"
      ],
      "text/latex": [
       "\\begin{description*}\n",
       "\\item[Previous] 35.2271130378129\n",
       "\\item[PSWQ] 1.08976661632689\n",
       "\\item[Anxious] 35.5819755134595\n",
       "\\end{description*}\n"
      ],
      "text/markdown": [
       "Previous\n",
       ":   35.2271130378129PSWQ\n",
       ":   1.08976661632689Anxious\n",
       ":   35.5819755134595\n",
       "\n"
      ],
      "text/plain": [
       " Previous      PSWQ   Anxious \n",
       "35.227113  1.089767 35.581976 "
      ]
     },
     "metadata": {},
     "output_type": "display_data"
    }
   ],
   "source": [
    "library(car)\n",
    "vif(penaltyModel)"
   ]
  },
  {
   "cell_type": "code",
   "execution_count": null,
   "metadata": {},
   "outputs": [],
   "source": [
    "**Previous** and **Anxious** have VIFs over 10, so the model is seriously biased."
   ]
  },
  {
   "cell_type": "markdown",
   "metadata": {},
   "source": [
    "## Testing for linearity of the logit"
   ]
  },
  {
   "cell_type": "markdown",
   "metadata": {},
   "source": [
    "Logistic regresstion assumes that each continuous variable is linearly related to the log the outcome variable(**Scored**). \n",
    "To test this assumption we need to run the logistic regression but include predictors that are the interaction between each predictors."
   ]
  },
  {
   "cell_type": "markdown",
   "metadata": {},
   "source": [
    "### Create the interaction terms"
   ]
  },
  {
   "cell_type": "code",
   "execution_count": 19,
   "metadata": {},
   "outputs": [
    {
     "data": {
      "text/html": [
       "<table>\n",
       "<caption>A data.frame: 6 × 7</caption>\n",
       "<thead>\n",
       "\t<tr><th></th><th scope=col>PSWQ</th><th scope=col>Anxious</th><th scope=col>Previous</th><th scope=col>Scored</th><th scope=col>logPSWQInt</th><th scope=col>logAnxInt</th><th scope=col>logPrevInt</th></tr>\n",
       "\t<tr><th></th><th scope=col>&lt;int&gt;</th><th scope=col>&lt;int&gt;</th><th scope=col>&lt;int&gt;</th><th scope=col>&lt;fct&gt;</th><th scope=col>&lt;dbl&gt;</th><th scope=col>&lt;dbl&gt;</th><th scope=col>&lt;dbl&gt;</th></tr>\n",
       "</thead>\n",
       "<tbody>\n",
       "\t<tr><th scope=row>1</th><td>18</td><td>21</td><td>56</td><td>Scored Penalty</td><td>52.02669</td><td> 63.93497</td><td>225.41969</td></tr>\n",
       "\t<tr><th scope=row>2</th><td>17</td><td>32</td><td>35</td><td>Scored Penalty</td><td>48.16463</td><td>110.90355</td><td>124.43718</td></tr>\n",
       "\t<tr><th scope=row>3</th><td>16</td><td>34</td><td>35</td><td>Scored Penalty</td><td>44.36142</td><td>119.89626</td><td>124.43718</td></tr>\n",
       "\t<tr><th scope=row>4</th><td>14</td><td>40</td><td>15</td><td>Scored Penalty</td><td>36.94680</td><td>147.55518</td><td> 40.62075</td></tr>\n",
       "\t<tr><th scope=row>5</th><td> 5</td><td>24</td><td>47</td><td>Scored Penalty</td><td> 8.04719</td><td> 76.27329</td><td>180.95694</td></tr>\n",
       "\t<tr><th scope=row>6</th><td> 1</td><td>15</td><td>67</td><td>Scored Penalty</td><td> 0.00000</td><td> 40.62075</td><td>281.71441</td></tr>\n",
       "</tbody>\n",
       "</table>\n"
      ],
      "text/latex": [
       "A data.frame: 6 × 7\n",
       "\\begin{tabular}{r|lllllll}\n",
       "  & PSWQ & Anxious & Previous & Scored & logPSWQInt & logAnxInt & logPrevInt\\\\\n",
       "  & <int> & <int> & <int> & <fct> & <dbl> & <dbl> & <dbl>\\\\\n",
       "\\hline\n",
       "\t1 & 18 & 21 & 56 & Scored Penalty & 52.02669 &  63.93497 & 225.41969\\\\\n",
       "\t2 & 17 & 32 & 35 & Scored Penalty & 48.16463 & 110.90355 & 124.43718\\\\\n",
       "\t3 & 16 & 34 & 35 & Scored Penalty & 44.36142 & 119.89626 & 124.43718\\\\\n",
       "\t4 & 14 & 40 & 15 & Scored Penalty & 36.94680 & 147.55518 &  40.62075\\\\\n",
       "\t5 &  5 & 24 & 47 & Scored Penalty &  8.04719 &  76.27329 & 180.95694\\\\\n",
       "\t6 &  1 & 15 & 67 & Scored Penalty &  0.00000 &  40.62075 & 281.71441\\\\\n",
       "\\end{tabular}\n"
      ],
      "text/markdown": [
       "\n",
       "A data.frame: 6 × 7\n",
       "\n",
       "| <!--/--> | PSWQ &lt;int&gt; | Anxious &lt;int&gt; | Previous &lt;int&gt; | Scored &lt;fct&gt; | logPSWQInt &lt;dbl&gt; | logAnxInt &lt;dbl&gt; | logPrevInt &lt;dbl&gt; |\n",
       "|---|---|---|---|---|---|---|---|\n",
       "| 1 | 18 | 21 | 56 | Scored Penalty | 52.02669 |  63.93497 | 225.41969 |\n",
       "| 2 | 17 | 32 | 35 | Scored Penalty | 48.16463 | 110.90355 | 124.43718 |\n",
       "| 3 | 16 | 34 | 35 | Scored Penalty | 44.36142 | 119.89626 | 124.43718 |\n",
       "| 4 | 14 | 40 | 15 | Scored Penalty | 36.94680 | 147.55518 |  40.62075 |\n",
       "| 5 |  5 | 24 | 47 | Scored Penalty |  8.04719 |  76.27329 | 180.95694 |\n",
       "| 6 |  1 | 15 | 67 | Scored Penalty |  0.00000 |  40.62075 | 281.71441 |\n",
       "\n"
      ],
      "text/plain": [
       "  PSWQ Anxious Previous Scored         logPSWQInt logAnxInt logPrevInt\n",
       "1 18   21      56       Scored Penalty 52.02669    63.93497 225.41969 \n",
       "2 17   32      35       Scored Penalty 48.16463   110.90355 124.43718 \n",
       "3 16   34      35       Scored Penalty 44.36142   119.89626 124.43718 \n",
       "4 14   40      15       Scored Penalty 36.94680   147.55518  40.62075 \n",
       "5  5   24      47       Scored Penalty  8.04719    76.27329 180.95694 \n",
       "6  1   15      67       Scored Penalty  0.00000    40.62075 281.71441 "
      ]
     },
     "metadata": {},
     "output_type": "display_data"
    }
   ],
   "source": [
    "penalty$logPSWQInt <- log(penalty$PSWQ) * penalty$PSWQ\n",
    "penalty$logAnxInt <- log(penalty$Anxious) * penalty$Anxious\n",
    "penalty$logPrevInt <- log(penalty$Previous) * penalty$Previous\n",
    "\n",
    "head(penalty)"
   ]
  },
  {
   "cell_type": "markdown",
   "metadata": {},
   "source": [
    "### fit a model and check the significance of the interaction terms"
   ]
  },
  {
   "cell_type": "markdown",
   "metadata": {},
   "source": [
    "Any interaction that is **significant** indicates that the main effect has **violated** the assumption of linearity of the logit."
   ]
  },
  {
   "cell_type": "code",
   "execution_count": 22,
   "metadata": {},
   "outputs": [
    {
     "data": {
      "text/plain": [
       "\n",
       "Call:\n",
       "glm(formula = Scored ~ PSWQ + Anxious + Previous + logPSWQInt + \n",
       "    logAnxInt + logPrevInt, family = binomial(), data = penalty)\n",
       "\n",
       "Deviance Residuals: \n",
       "    Min       1Q   Median       3Q      Max  \n",
       "-2.0685  -0.3846   0.1116   0.5460   1.8272  \n",
       "\n",
       "Coefficients:\n",
       "            Estimate Std. Error z value Pr(>|z|)\n",
       "(Intercept) -3.87885   14.92410  -0.260    0.795\n",
       "PSWQ        -0.42233    1.10267  -0.383    0.702\n",
       "Anxious     -2.64485    2.79702  -0.946    0.344\n",
       "Previous     1.66601    1.48202   1.124    0.261\n",
       "logPSWQInt   0.04393    0.29675   0.148    0.882\n",
       "logAnxInt    0.68077    0.65277   1.043    0.297\n",
       "logPrevInt  -0.31855    0.31731  -1.004    0.315\n",
       "\n",
       "(Dispersion parameter for binomial family taken to be 1)\n",
       "\n",
       "    Null deviance: 97.283  on 70  degrees of freedom\n",
       "Residual deviance: 45.909  on 64  degrees of freedom\n",
       "  (4 observations deleted due to missingness)\n",
       "AIC: 59.909\n",
       "\n",
       "Number of Fisher Scoring iterations: 7\n"
      ]
     },
     "metadata": {},
     "output_type": "display_data"
    }
   ],
   "source": [
    "testModel <- glm(Scored ~ PSWQ + Anxious + Previous + logPSWQInt + logAnxInt + logPrevInt, data=penalty, family = binomial())\n",
    "summary(testModel)"
   ]
  },
  {
   "cell_type": "markdown",
   "metadata": {},
   "source": [
    "There's no significant interaction terms, so the assumption of linearity of the logit has been met."
   ]
  }
 ],
 "metadata": {
  "kernelspec": {
   "display_name": "R",
   "language": "R",
   "name": "ir"
  },
  "language_info": {
   "codemirror_mode": "r",
   "file_extension": ".r",
   "mimetype": "text/x-r-source",
   "name": "R",
   "pygments_lexer": "r",
   "version": "4.0.1"
  }
 },
 "nbformat": 4,
 "nbformat_minor": 4
}
