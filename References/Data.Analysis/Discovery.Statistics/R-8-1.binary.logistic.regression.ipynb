{
 "cells": [
  {
   "cell_type": "markdown",
   "metadata": {},
   "source": [
    "# Binary Logistic Regression"
   ]
  },
  {
   "cell_type": "markdown",
   "metadata": {},
   "source": [
    "## Preparing the data"
   ]
  },
  {
   "cell_type": "code",
   "execution_count": 13,
   "metadata": {},
   "outputs": [
    {
     "data": {
      "text/html": [
       "<table>\n",
       "<caption>A data.frame: 6 × 3</caption>\n",
       "<thead>\n",
       "\t<tr><th></th><th scope=col>Cured</th><th scope=col>Intervention</th><th scope=col>Duration</th></tr>\n",
       "\t<tr><th></th><th scope=col>&lt;chr&gt;</th><th scope=col>&lt;chr&gt;</th><th scope=col>&lt;int&gt;</th></tr>\n",
       "</thead>\n",
       "<tbody>\n",
       "\t<tr><th scope=row>1</th><td>Not Cured</td><td>No Treatment</td><td>7</td></tr>\n",
       "\t<tr><th scope=row>2</th><td>Not Cured</td><td>No Treatment</td><td>7</td></tr>\n",
       "\t<tr><th scope=row>3</th><td>Not Cured</td><td>No Treatment</td><td>6</td></tr>\n",
       "\t<tr><th scope=row>4</th><td>Cured    </td><td>No Treatment</td><td>8</td></tr>\n",
       "\t<tr><th scope=row>5</th><td>Cured    </td><td>Intervention</td><td>7</td></tr>\n",
       "\t<tr><th scope=row>6</th><td>Cured    </td><td>No Treatment</td><td>6</td></tr>\n",
       "</tbody>\n",
       "</table>\n"
      ],
      "text/latex": [
       "A data.frame: 6 × 3\n",
       "\\begin{tabular}{r|lll}\n",
       "  & Cured & Intervention & Duration\\\\\n",
       "  & <chr> & <chr> & <int>\\\\\n",
       "\\hline\n",
       "\t1 & Not Cured & No Treatment & 7\\\\\n",
       "\t2 & Not Cured & No Treatment & 7\\\\\n",
       "\t3 & Not Cured & No Treatment & 6\\\\\n",
       "\t4 & Cured     & No Treatment & 8\\\\\n",
       "\t5 & Cured     & Intervention & 7\\\\\n",
       "\t6 & Cured     & No Treatment & 6\\\\\n",
       "\\end{tabular}\n"
      ],
      "text/markdown": [
       "\n",
       "A data.frame: 6 × 3\n",
       "\n",
       "| <!--/--> | Cured &lt;chr&gt; | Intervention &lt;chr&gt; | Duration &lt;int&gt; |\n",
       "|---|---|---|---|\n",
       "| 1 | Not Cured | No Treatment | 7 |\n",
       "| 2 | Not Cured | No Treatment | 7 |\n",
       "| 3 | Not Cured | No Treatment | 6 |\n",
       "| 4 | Cured     | No Treatment | 8 |\n",
       "| 5 | Cured     | Intervention | 7 |\n",
       "| 6 | Cured     | No Treatment | 6 |\n",
       "\n"
      ],
      "text/plain": [
       "  Cured     Intervention Duration\n",
       "1 Not Cured No Treatment 7       \n",
       "2 Not Cured No Treatment 7       \n",
       "3 Not Cured No Treatment 6       \n",
       "4 Cured     No Treatment 8       \n",
       "5 Cured     Intervention 7       \n",
       "6 Cured     No Treatment 6       "
      ]
     },
     "metadata": {},
     "output_type": "display_data"
    }
   ],
   "source": [
    "eel <- read.delim(\"data/eel.dat\",header=T)\n",
    "\n",
    "head(eel)"
   ]
  },
  {
   "cell_type": "markdown",
   "metadata": {},
   "source": [
    "## Create Categories"
   ]
  },
  {
   "cell_type": "code",
   "execution_count": 14,
   "metadata": {},
   "outputs": [
    {
     "data": {
      "text/plain": [
       "       Cured          Intervention    Duration    \n",
       " Cured    :65   Intervention:57    Min.   : 4.00  \n",
       " Not Cured:48   No Treatment:56    1st Qu.: 6.00  \n",
       "                                   Median : 7.00  \n",
       "                                   Mean   : 7.08  \n",
       "                                   3rd Qu.: 8.00  \n",
       "                                   Max.   :10.00  "
      ]
     },
     "metadata": {},
     "output_type": "display_data"
    }
   ],
   "source": [
    "eel$Cured = factor(eel$Cured)\n",
    "eel$Intervention = factor(eel$Intervention)\n",
    "\n",
    "summary(eel)"
   ]
  },
  {
   "cell_type": "markdown",
   "metadata": {},
   "source": [
    "### Reorder the categories"
   ]
  },
  {
   "cell_type": "markdown",
   "metadata": {},
   "source": [
    "Change the order of factors in **Cured** and **Intervention**.<br>\n",
    "Now \"Not Cured\" is the first factor of **Cured** , and so on."
   ]
  },
  {
   "cell_type": "code",
   "execution_count": 15,
   "metadata": {},
   "outputs": [
    {
     "data": {
      "text/plain": [
       "       Cured          Intervention    Duration    \n",
       " Not Cured:48   No Treatment:56    Min.   : 4.00  \n",
       " Cured    :65   Intervention:57    1st Qu.: 6.00  \n",
       "                                   Median : 7.00  \n",
       "                                   Mean   : 7.08  \n",
       "                                   3rd Qu.: 8.00  \n",
       "                                   Max.   :10.00  "
      ]
     },
     "metadata": {},
     "output_type": "display_data"
    }
   ],
   "source": [
    "eel$Cured <- relevel(eel$Cured, \"Not Cured\")\n",
    "eel$Intervention <- relevel(eel$Intervention, \"No Treatment\")\n",
    "\n",
    "summary(eel)"
   ]
  },
  {
   "cell_type": "markdown",
   "metadata": {},
   "source": [
    "## Basic Logistic Regression analysis"
   ]
  },
  {
   "cell_type": "markdown",
   "metadata": {},
   "source": [
    "Use **Intervention** as the only predictor."
   ]
  },
  {
   "cell_type": "code",
   "execution_count": 16,
   "metadata": {},
   "outputs": [
    {
     "data": {
      "text/plain": [
       "\n",
       "Call:\n",
       "glm(formula = Cured ~ Intervention, family = binomial(), data = eel)\n",
       "\n",
       "Deviance Residuals: \n",
       "    Min       1Q   Median       3Q      Max  \n",
       "-1.5940  -1.0579   0.8118   0.8118   1.3018  \n",
       "\n",
       "Coefficients:\n",
       "                         Estimate Std. Error z value Pr(>|z|)   \n",
       "(Intercept)               -0.2877     0.2700  -1.065  0.28671   \n",
       "InterventionIntervention   1.2287     0.3998   3.074  0.00212 **\n",
       "---\n",
       "Signif. codes:  0 '***' 0.001 '**' 0.01 '*' 0.05 '.' 0.1 ' ' 1\n",
       "\n",
       "(Dispersion parameter for binomial family taken to be 1)\n",
       "\n",
       "    Null deviance: 154.08  on 112  degrees of freedom\n",
       "Residual deviance: 144.16  on 111  degrees of freedom\n",
       "AIC: 148.16\n",
       "\n",
       "Number of Fisher Scoring iterations: 4\n"
      ]
     },
     "metadata": {},
     "output_type": "display_data"
    }
   ],
   "source": [
    "eelModel.1 <- glm(Cured ~ Intervention, data = eel, family = binomial())\n",
    "\n",
    "summary(eelModel.1)"
   ]
  },
  {
   "cell_type": "markdown",
   "metadata": {},
   "source": [
    "Use **Intervention** and **Duration** as the predicators."
   ]
  },
  {
   "cell_type": "markdown",
   "metadata": {},
   "source": [
    "### Calculate the **model chi-square statistics**"
   ]
  },
  {
   "cell_type": "markdown",
   "metadata": {},
   "source": [
    "$$\\chi^2=(-2LL_{new}) - (-2LL_{baseline})$$\n",
    "$$df = df_{new} - df_{baseline}$$"
   ]
  },
  {
   "cell_type": "code",
   "execution_count": 17,
   "metadata": {},
   "outputs": [
    {
     "data": {
      "text/html": [
       "0.00162942474293104"
      ],
      "text/latex": [
       "0.00162942474293104"
      ],
      "text/markdown": [
       "0.00162942474293104"
      ],
      "text/plain": [
       "[1] 0.001629425"
      ]
     },
     "metadata": {},
     "output_type": "display_data"
    }
   ],
   "source": [
    "modelChi <- eelModel.1$null.deviance - eelModel.1$deviance\n",
    "\n",
    "modelDf <- eelModel.1$df.null - eelModel.1$df.residual\n",
    "\n",
    "chisq.prob <- 1 - pchisq(modelChi, modelDf)\n",
    "\n",
    "chisq.prob"
   ]
  },
  {
   "cell_type": "markdown",
   "metadata": {},
   "source": [
    "**chi-square statistics** < 0.0.5 , so the model is **significantly** better than predicting the outcome by the chance."
   ]
  },
  {
   "cell_type": "markdown",
   "metadata": {},
   "source": [
    "### Calcuate R-statistic"
   ]
  },
  {
   "cell_type": "markdown",
   "metadata": {},
   "source": [
    "The **R-statistic** is the partial correlation between the outcome variable and each of the predictor variables."
   ]
  },
  {
   "cell_type": "markdown",
   "metadata": {},
   "source": [
    "$$R=\\sqrt{\\frac{z^2-2df}{-2LL(baseline)}}$$"
   ]
  },
  {
   "cell_type": "markdown",
   "metadata": {},
   "source": [
    "* $-2LL(baseline)$ is the deviance of the baseline model (null deviance, $154.08$)\n",
    "* $z$ is the **Wald statistic** (z value of the added predicators, $3.074$) \n",
    "* $df$ is the **added** degree of freedom ($1=112-111$)"
   ]
  },
  {
   "cell_type": "markdown",
   "metadata": {},
   "source": [
    "$R=\\sqrt{\\frac{3.074^2-2*1}{154.08}}$"
   ]
  },
  {
   "cell_type": "code",
   "execution_count": 28,
   "metadata": {},
   "outputs": [
    {
     "data": {
      "text/html": [
       "<strong>InterventionIntervention:</strong> 0.219835599821409"
      ],
      "text/latex": [
       "\\textbf{InterventionIntervention:} 0.219835599821409"
      ],
      "text/markdown": [
       "**InterventionIntervention:** 0.219835599821409"
      ],
      "text/plain": [
       "InterventionIntervention \n",
       "               0.2198356 "
      ]
     },
     "metadata": {},
     "output_type": "display_data"
    }
   ],
   "source": [
    "z=eelModel.1$effect[2]\n",
    "\n",
    "modelR = sqrt((z^2-2*modelDf)/(eelModel.1$null.deviance))\n",
    "modelR"
   ]
  },
  {
   "cell_type": "markdown",
   "metadata": {},
   "source": [
    "Note: It's **invalid** to square this R-stastics value and interpret it as you would in linear egessions!"
   ]
  },
  {
   "cell_type": "markdown",
   "metadata": {},
   "source": [
    "### Other analogues to the $R^2$ in linear regression"
   ]
  },
  {
   "cell_type": "markdown",
   "metadata": {},
   "source": [
    "Hosmer and Lemeshow's ($R_L^2$) measure:"
   ]
  },
  {
   "cell_type": "markdown",
   "metadata": {},
   "source": [
    "$$R_L^2=\\frac{-2LL_{model}}{-2LL_{baseline}}=\\frac{(-2LL_{baseline})-(-2LL_{new})}{-2LL_{baseline}}$$"
   ]
  },
  {
   "cell_type": "code",
   "execution_count": 37,
   "metadata": {},
   "outputs": [
    {
     "data": {
      "text/html": [
       "0.0644207114422539"
      ],
      "text/latex": [
       "0.0644207114422539"
      ],
      "text/markdown": [
       "0.0644207114422539"
      ],
      "text/plain": [
       "[1] 0.06442071"
      ]
     },
     "metadata": {},
     "output_type": "display_data"
    }
   ],
   "source": [
    "R2.hl = modelChi / eelModel.1$null.deviance\n",
    "R2.hl"
   ]
  },
  {
   "cell_type": "markdown",
   "metadata": {},
   "source": [
    "Cox's and Shell's $R_{CS}^2$ :"
   ]
  },
  {
   "cell_type": "markdown",
   "metadata": {},
   "source": [
    "$$R_CS^2=1-\\huge{e}^{\\frac{(-2LL_{new})-(-2LL_{baseline})}{n}}$$"
   ]
  },
  {
   "cell_type": "code",
   "execution_count": 47,
   "metadata": {},
   "outputs": [
    {
     "data": {
      "text/html": [
       "113"
      ],
      "text/latex": [
       "113"
      ],
      "text/markdown": [
       "113"
      ],
      "text/plain": [
       "[1] 113"
      ]
     },
     "metadata": {},
     "output_type": "display_data"
    }
   ],
   "source": [
    "n=nrow(eel)\n",
    "n"
   ]
  },
  {
   "cell_type": "code",
   "execution_count": 48,
   "metadata": {},
   "outputs": [
    {
     "data": {
      "text/html": [
       "0.084094869182418"
      ],
      "text/latex": [
       "0.084094869182418"
      ],
      "text/markdown": [
       "0.084094869182418"
      ],
      "text/plain": [
       "[1] 0.08409487"
      ]
     },
     "metadata": {},
     "output_type": "display_data"
    }
   ],
   "source": [
    "R2.cs  = 1-exp((eelModel.1$deviance-eelModel.1$null.deviance)/n)\n",
    "R2.cs"
   ]
  },
  {
   "cell_type": "markdown",
   "metadata": {},
   "source": [
    "## The Second Model"
   ]
  },
  {
   "cell_type": "code",
   "execution_count": 50,
   "metadata": {},
   "outputs": [
    {
     "data": {
      "text/plain": [
       "\n",
       "Call:\n",
       "glm(formula = Cured ~ Intervention + Duration, family = binomial(), \n",
       "    data = eel)\n",
       "\n",
       "Deviance Residuals: \n",
       "    Min       1Q   Median       3Q      Max  \n",
       "-1.6025  -1.0572   0.8107   0.8161   1.3095  \n",
       "\n",
       "Coefficients:\n",
       "                          Estimate Std. Error z value Pr(>|z|)   \n",
       "(Intercept)              -0.234660   1.220563  -0.192  0.84754   \n",
       "InterventionIntervention  1.233532   0.414565   2.975  0.00293 **\n",
       "Duration                 -0.007835   0.175913  -0.045  0.96447   \n",
       "---\n",
       "Signif. codes:  0 '***' 0.001 '**' 0.01 '*' 0.05 '.' 0.1 ' ' 1\n",
       "\n",
       "(Dispersion parameter for binomial family taken to be 1)\n",
       "\n",
       "    Null deviance: 154.08  on 112  degrees of freedom\n",
       "Residual deviance: 144.16  on 110  degrees of freedom\n",
       "AIC: 150.16\n",
       "\n",
       "Number of Fisher Scoring iterations: 4\n"
      ]
     },
     "metadata": {},
     "output_type": "display_data"
    }
   ],
   "source": [
    "eelModel.2 <- glm(Cured ~ Intervention + Duration, data=eel, family = binomial())\n",
    "\n",
    "summary(eelModel.2)"
   ]
  },
  {
   "cell_type": "markdown",
   "metadata": {},
   "source": [
    "### Comparing model 2 and model 1"
   ]
  },
  {
   "cell_type": "markdown",
   "metadata": {},
   "source": [
    "#### Using AIC"
   ]
  },
  {
   "cell_type": "markdown",
   "metadata": {},
   "source": [
    "the AIC of model 1(148.16) and model 2(150.16), Model 1's AIC is lower,so it's better."
   ]
  },
  {
   "cell_type": "markdown",
   "metadata": {},
   "source": [
    "#### Using the chi-square statistic"
   ]
  },
  {
   "cell_type": "code",
   "execution_count": 54,
   "metadata": {},
   "outputs": [
    {
     "data": {
      "text/html": [
       "0.964476503595942"
      ],
      "text/latex": [
       "0.964476503595942"
      ],
      "text/markdown": [
       "0.964476503595942"
      ],
      "text/plain": [
       "[1] 0.9644765"
      ]
     },
     "metadata": {},
     "output_type": "display_data"
    }
   ],
   "source": [
    "modelChi <- eelModel.1$deviance - eelModel.2$deviance\n",
    "chidf <- eelModel.1$df.residual - eelModel.2$df.residual \n",
    "chisq.prob <- 1 - pchisq(modelChi, chidf)\n",
    "chisq.prob"
   ]
  },
  {
   "cell_type": "markdown",
   "metadata": {},
   "source": [
    "p-value is greater than 0.05, so Model 2 is not significantly better."
   ]
  },
  {
   "cell_type": "markdown",
   "metadata": {},
   "source": [
    "We can calcuale the chi-square deviance and degree of freedom using anova()"
   ]
  },
  {
   "cell_type": "code",
   "execution_count": 57,
   "metadata": {},
   "outputs": [
    {
     "data": {
      "text/html": [
       "<table>\n",
       "<caption>A anova: 2 × 4</caption>\n",
       "<thead>\n",
       "\t<tr><th></th><th scope=col>Resid. Df</th><th scope=col>Resid. Dev</th><th scope=col>Df</th><th scope=col>Deviance</th></tr>\n",
       "\t<tr><th></th><th scope=col>&lt;dbl&gt;</th><th scope=col>&lt;dbl&gt;</th><th scope=col>&lt;dbl&gt;</th><th scope=col>&lt;dbl&gt;</th></tr>\n",
       "</thead>\n",
       "<tbody>\n",
       "\t<tr><th scope=row>1</th><td>111</td><td>144.1578</td><td>NA</td><td>         NA</td></tr>\n",
       "\t<tr><th scope=row>2</th><td>110</td><td>144.1558</td><td> 1</td><td>0.001983528</td></tr>\n",
       "</tbody>\n",
       "</table>\n"
      ],
      "text/latex": [
       "A anova: 2 × 4\n",
       "\\begin{tabular}{r|llll}\n",
       "  & Resid. Df & Resid. Dev & Df & Deviance\\\\\n",
       "  & <dbl> & <dbl> & <dbl> & <dbl>\\\\\n",
       "\\hline\n",
       "\t1 & 111 & 144.1578 & NA &          NA\\\\\n",
       "\t2 & 110 & 144.1558 &  1 & 0.001983528\\\\\n",
       "\\end{tabular}\n"
      ],
      "text/markdown": [
       "\n",
       "A anova: 2 × 4\n",
       "\n",
       "| <!--/--> | Resid. Df &lt;dbl&gt; | Resid. Dev &lt;dbl&gt; | Df &lt;dbl&gt; | Deviance &lt;dbl&gt; |\n",
       "|---|---|---|---|---|\n",
       "| 1 | 111 | 144.1578 | NA |          NA |\n",
       "| 2 | 110 | 144.1558 |  1 | 0.001983528 |\n",
       "\n"
      ],
      "text/plain": [
       "  Resid. Df Resid. Dev Df Deviance   \n",
       "1 111       144.1578   NA          NA\n",
       "2 110       144.1558    1 0.001983528"
      ]
     },
     "metadata": {},
     "output_type": "display_data"
    }
   ],
   "source": [
    "anova(eelModel.1,eelModel.2)"
   ]
  },
  {
   "cell_type": "markdown",
   "metadata": {},
   "source": [
    "## Casewise diagnostics for Model 1"
   ]
  },
  {
   "cell_type": "markdown",
   "metadata": {},
   "source": [
    "### Calculate the residual statistics"
   ]
  },
  {
   "cell_type": "code",
   "execution_count": 68,
   "metadata": {},
   "outputs": [
    {
     "data": {
      "text/html": [
       "<table>\n",
       "<caption>A data.frame: 6 × 6</caption>\n",
       "<thead>\n",
       "\t<tr><th></th><th scope=col>predicted.probabilities</th><th scope=col>standardized.residuals</th><th scope=col>studentized.residuals</th><th scope=col>dfBeta</th><th scope=col>dffit</th><th scope=col>leverage</th></tr>\n",
       "\t<tr><th></th><th scope=col>&lt;dbl&gt;</th><th scope=col>&lt;dbl&gt;</th><th scope=col>&lt;dbl&gt;</th><th scope=col>&lt;dbl[,2]&gt;</th><th scope=col>&lt;dbl&gt;</th><th scope=col>&lt;dbl&gt;</th></tr>\n",
       "</thead>\n",
       "<tbody>\n",
       "\t<tr><th scope=row>1</th><td>0.4285714</td><td>-1.0675117</td><td>-1.0643627</td><td>-3.886912e-02,  0.03886912</td><td>-0.12623854</td><td>0.01785714</td></tr>\n",
       "\t<tr><th scope=row>2</th><td>0.4285714</td><td>-1.0675117</td><td>-1.0643627</td><td>-3.886912e-02,  0.03886912</td><td>-0.12623854</td><td>0.01785714</td></tr>\n",
       "\t<tr><th scope=row>3</th><td>0.4285714</td><td>-1.0675117</td><td>-1.0643627</td><td>-3.886912e-02,  0.03886912</td><td>-0.12623854</td><td>0.01785714</td></tr>\n",
       "\t<tr><th scope=row>4</th><td>0.4285714</td><td> 1.3135473</td><td> 1.3110447</td><td> 4.782751e-02, -0.04782751</td><td> 0.15565258</td><td>0.01785714</td></tr>\n",
       "\t<tr><th scope=row>5</th><td>0.7192982</td><td> 0.8189783</td><td> 0.8160435</td><td> 2.283164e-18,  0.03225994</td><td> 0.09582269</td><td>0.01754386</td></tr>\n",
       "\t<tr><th scope=row>6</th><td>0.4285714</td><td> 1.3135473</td><td> 1.3110447</td><td> 4.782751e-02, -0.04782751</td><td> 0.15565258</td><td>0.01785714</td></tr>\n",
       "</tbody>\n",
       "</table>\n"
      ],
      "text/latex": [
       "A data.frame: 6 × 6\n",
       "\\begin{tabular}{r|llllll}\n",
       "  & predicted.probabilities & standardized.residuals & studentized.residuals & dfBeta & dffit & leverage\\\\\n",
       "  & <dbl> & <dbl> & <dbl> & <dbl{[},2{]}> & <dbl> & <dbl>\\\\\n",
       "\\hline\n",
       "\t1 & 0.4285714 & -1.0675117 & -1.0643627 & -3.886912e-02,  0.03886912 & -0.12623854 & 0.01785714\\\\\n",
       "\t2 & 0.4285714 & -1.0675117 & -1.0643627 & -3.886912e-02,  0.03886912 & -0.12623854 & 0.01785714\\\\\n",
       "\t3 & 0.4285714 & -1.0675117 & -1.0643627 & -3.886912e-02,  0.03886912 & -0.12623854 & 0.01785714\\\\\n",
       "\t4 & 0.4285714 &  1.3135473 &  1.3110447 &  4.782751e-02, -0.04782751 &  0.15565258 & 0.01785714\\\\\n",
       "\t5 & 0.7192982 &  0.8189783 &  0.8160435 &  2.283164e-18,  0.03225994 &  0.09582269 & 0.01754386\\\\\n",
       "\t6 & 0.4285714 &  1.3135473 &  1.3110447 &  4.782751e-02, -0.04782751 &  0.15565258 & 0.01785714\\\\\n",
       "\\end{tabular}\n"
      ],
      "text/markdown": [
       "\n",
       "A data.frame: 6 × 6\n",
       "\n",
       "| <!--/--> | predicted.probabilities &lt;dbl&gt; | standardized.residuals &lt;dbl&gt; | studentized.residuals &lt;dbl&gt; | dfBeta &lt;dbl[,2]&gt; | dffit &lt;dbl&gt; | leverage &lt;dbl&gt; |\n",
       "|---|---|---|---|---|---|---|\n",
       "| 1 | 0.4285714 | -1.0675117 | -1.0643627 | -3.886912e-02,  0.03886912 | -0.12623854 | 0.01785714 |\n",
       "| 2 | 0.4285714 | -1.0675117 | -1.0643627 | -3.886912e-02,  0.03886912 | -0.12623854 | 0.01785714 |\n",
       "| 3 | 0.4285714 | -1.0675117 | -1.0643627 | -3.886912e-02,  0.03886912 | -0.12623854 | 0.01785714 |\n",
       "| 4 | 0.4285714 |  1.3135473 |  1.3110447 |  4.782751e-02, -0.04782751 |  0.15565258 | 0.01785714 |\n",
       "| 5 | 0.7192982 |  0.8189783 |  0.8160435 |  2.283164e-18,  0.03225994 |  0.09582269 | 0.01754386 |\n",
       "| 6 | 0.4285714 |  1.3135473 |  1.3110447 |  4.782751e-02, -0.04782751 |  0.15565258 | 0.01785714 |\n",
       "\n"
      ],
      "text/plain": [
       "  predicted.probabilities standardized.residuals studentized.residuals\n",
       "1 0.4285714               -1.0675117             -1.0643627           \n",
       "2 0.4285714               -1.0675117             -1.0643627           \n",
       "3 0.4285714               -1.0675117             -1.0643627           \n",
       "4 0.4285714                1.3135473              1.3110447           \n",
       "5 0.7192982                0.8189783              0.8160435           \n",
       "6 0.4285714                1.3135473              1.3110447           \n",
       "  dfBeta                     dffit       leverage  \n",
       "1 -3.886912e-02,  0.03886912 -0.12623854 0.01785714\n",
       "2 -3.886912e-02,  0.03886912 -0.12623854 0.01785714\n",
       "3 -3.886912e-02,  0.03886912 -0.12623854 0.01785714\n",
       "4  4.782751e-02, -0.04782751  0.15565258 0.01785714\n",
       "5  2.283164e-18,  0.03225994  0.09582269 0.01754386\n",
       "6  4.782751e-02, -0.04782751  0.15565258 0.01785714"
      ]
     },
     "metadata": {},
     "output_type": "display_data"
    }
   ],
   "source": [
    "eel$predicted.probabilities <- fitted(eelModel.1)\n",
    "eel$standardized.residuals <- rstandard(eelModel.1)\n",
    "eel$studentized.residuals <- rstudent(eelModel.1)\n",
    "eel$dfBeta <- dfbeta(eelModel.1)\n",
    "eel$dffit <- dffits(eelModel.1)\n",
    "eel$leverage <- hatvalues(eelModel.1)\n",
    "\n",
    "head(eel[c(\"predicted.probabilities\",\"standardized.residuals\",\"studentized.residuals\",\"dfBeta\",\"dffit\",\"leverage\")])"
   ]
  },
  {
   "cell_type": "markdown",
   "metadata": {},
   "source": [
    "**Summary of  residual statistics:**\n",
    "\n",
    "| Name | Comment|\n",
    "|------|--------|\n",
    "| **Leverage** | Lies between 0 (no influence) and 1 (complete influence). The expected leverage is $(k+1)/N$ , where $k$ is the number of predictors and $N$ is the sample size. In this case it wourld be $2/113=0.18$.  |\n",
    "| **Studentized residual** <br /> **Standardized residual** | Only 5% should lie $\\pm 1.96$, and about 1% should lie outside $\\pm 2.58$. Case above 3 are cause for concern and cases close  to 3 warrant inspection |\n",
    "| **DFBeta for the constant** <br /> **DFBeta for the first predictor** | should be less than 1 |"
   ]
  },
  {
   "cell_type": "markdown",
   "metadata": {},
   "source": [
    "## Calculate the effect size"
   ]
  },
  {
   "cell_type": "markdown",
   "metadata": {},
   "source": [
    "We use the **odds ratios** to evaluate the effect size. It is an indicator of the change in odds resulting from a unit change in the predictor. Each predictor has an odds ratio value."
   ]
  },
  {
   "cell_type": "code",
   "execution_count": 69,
   "metadata": {},
   "outputs": [
    {
     "data": {
      "text/html": [
       "<style>\n",
       ".dl-inline {width: auto; margin:0; padding: 0}\n",
       ".dl-inline>dt, .dl-inline>dd {float: none; width: auto; display: inline-block}\n",
       ".dl-inline>dt::after {content: \":\\0020\"; padding-right: .5ex}\n",
       ".dl-inline>dt:not(:first-of-type) {padding-left: .5ex}\n",
       "</style><dl class=dl-inline><dt>(Intercept)</dt><dd>0.750000000000001</dd><dt>InterventionIntervention</dt><dd>3.4166666666592</dd></dl>\n"
      ],
      "text/latex": [
       "\\begin{description*}\n",
       "\\item[(Intercept)] 0.750000000000001\n",
       "\\item[InterventionIntervention] 3.4166666666592\n",
       "\\end{description*}\n"
      ],
      "text/markdown": [
       "(Intercept)\n",
       ":   0.750000000000001InterventionIntervention\n",
       ":   3.4166666666592\n",
       "\n"
      ],
      "text/plain": [
       "             (Intercept) InterventionIntervention \n",
       "                0.750000                 3.416667 "
      ]
     },
     "metadata": {},
     "output_type": "display_data"
    }
   ],
   "source": [
    "exp(eelModel.1$coefficients)"
   ]
  },
  {
   "cell_type": "code",
   "execution_count": null,
   "metadata": {},
   "outputs": [],
   "source": []
  }
 ],
 "metadata": {
  "kernelspec": {
   "display_name": "R",
   "language": "R",
   "name": "ir"
  },
  "language_info": {
   "codemirror_mode": "r",
   "file_extension": ".r",
   "mimetype": "text/x-r-source",
   "name": "R",
   "pygments_lexer": "r",
   "version": "4.0.1"
  }
 },
 "nbformat": 4,
 "nbformat_minor": 4
}
