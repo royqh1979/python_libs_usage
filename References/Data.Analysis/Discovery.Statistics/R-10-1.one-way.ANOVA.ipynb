{
 "cells": [
  {
   "cell_type": "markdown",
   "metadata": {},
   "source": [
    "# One-Way ANOVA"
   ]
  },
  {
   "cell_type": "markdown",
   "metadata": {},
   "source": [
    "In statistics, one-way analysis of variance (abbreviated **one-way ANOVA**) is a technique that can be used to compare means of two or more samples (using the F distribution). \n",
    "This technique can be used only for numerical response data, the \"Y\", usually one variable, and numerical or (usually) categorical input data, the \"X\", always one variable, hence \"one-way\"."
   ]
  },
  {
   "cell_type": "markdown",
   "metadata": {},
   "source": [
    "## Entering Data"
   ]
  },
  {
   "cell_type": "code",
   "execution_count": 1,
   "metadata": {},
   "outputs": [
    {
     "data": {
      "text/html": [
       "<table>\n",
       "<caption>A data.frame: 15 × 2</caption>\n",
       "<thead>\n",
       "\t<tr><th scope=col>dose</th><th scope=col>libido</th></tr>\n",
       "\t<tr><th scope=col>&lt;fct&gt;</th><th scope=col>&lt;dbl&gt;</th></tr>\n",
       "</thead>\n",
       "<tbody>\n",
       "\t<tr><td>Placebo  </td><td>3</td></tr>\n",
       "\t<tr><td>Placebo  </td><td>2</td></tr>\n",
       "\t<tr><td>Placebo  </td><td>1</td></tr>\n",
       "\t<tr><td>Placebo  </td><td>1</td></tr>\n",
       "\t<tr><td>Placebo  </td><td>4</td></tr>\n",
       "\t<tr><td>Low Dose </td><td>5</td></tr>\n",
       "\t<tr><td>Low Dose </td><td>2</td></tr>\n",
       "\t<tr><td>Low Dose </td><td>4</td></tr>\n",
       "\t<tr><td>Low Dose </td><td>2</td></tr>\n",
       "\t<tr><td>Low Dose </td><td>3</td></tr>\n",
       "\t<tr><td>High Dose</td><td>7</td></tr>\n",
       "\t<tr><td>High Dose</td><td>4</td></tr>\n",
       "\t<tr><td>High Dose</td><td>5</td></tr>\n",
       "\t<tr><td>High Dose</td><td>3</td></tr>\n",
       "\t<tr><td>High Dose</td><td>6</td></tr>\n",
       "</tbody>\n",
       "</table>\n"
      ],
      "text/latex": [
       "A data.frame: 15 × 2\n",
       "\\begin{tabular}{ll}\n",
       " dose & libido\\\\\n",
       " <fct> & <dbl>\\\\\n",
       "\\hline\n",
       "\t Placebo   & 3\\\\\n",
       "\t Placebo   & 2\\\\\n",
       "\t Placebo   & 1\\\\\n",
       "\t Placebo   & 1\\\\\n",
       "\t Placebo   & 4\\\\\n",
       "\t Low Dose  & 5\\\\\n",
       "\t Low Dose  & 2\\\\\n",
       "\t Low Dose  & 4\\\\\n",
       "\t Low Dose  & 2\\\\\n",
       "\t Low Dose  & 3\\\\\n",
       "\t High Dose & 7\\\\\n",
       "\t High Dose & 4\\\\\n",
       "\t High Dose & 5\\\\\n",
       "\t High Dose & 3\\\\\n",
       "\t High Dose & 6\\\\\n",
       "\\end{tabular}\n"
      ],
      "text/markdown": [
       "\n",
       "A data.frame: 15 × 2\n",
       "\n",
       "| dose &lt;fct&gt; | libido &lt;dbl&gt; |\n",
       "|---|---|\n",
       "| Placebo   | 3 |\n",
       "| Placebo   | 2 |\n",
       "| Placebo   | 1 |\n",
       "| Placebo   | 1 |\n",
       "| Placebo   | 4 |\n",
       "| Low Dose  | 5 |\n",
       "| Low Dose  | 2 |\n",
       "| Low Dose  | 4 |\n",
       "| Low Dose  | 2 |\n",
       "| Low Dose  | 3 |\n",
       "| High Dose | 7 |\n",
       "| High Dose | 4 |\n",
       "| High Dose | 5 |\n",
       "| High Dose | 3 |\n",
       "| High Dose | 6 |\n",
       "\n"
      ],
      "text/plain": [
       "   dose      libido\n",
       "1  Placebo   3     \n",
       "2  Placebo   2     \n",
       "3  Placebo   1     \n",
       "4  Placebo   1     \n",
       "5  Placebo   4     \n",
       "6  Low Dose  5     \n",
       "7  Low Dose  2     \n",
       "8  Low Dose  4     \n",
       "9  Low Dose  2     \n",
       "10 Low Dose  3     \n",
       "11 High Dose 7     \n",
       "12 High Dose 4     \n",
       "13 High Dose 5     \n",
       "14 High Dose 3     \n",
       "15 High Dose 6     "
      ]
     },
     "metadata": {},
     "output_type": "display_data"
    },
    {
     "data": {
      "text/plain": [
       "        dose       libido     \n",
       " Placebo  :5   Min.   :1.000  \n",
       " Low Dose :5   1st Qu.:2.000  \n",
       " High Dose:5   Median :3.000  \n",
       "               Mean   :3.467  \n",
       "               3rd Qu.:4.500  \n",
       "               Max.   :7.000  "
      ]
     },
     "metadata": {},
     "output_type": "display_data"
    }
   ],
   "source": [
    "libido <- c(3,2,1,1,4,5,2,4,2,3,7,4,5,3,6)\n",
    "dose <- gl(3,5, labels = c(\"Placebo\",\"Low Dose\",\"High Dose\"))\n",
    "viagraData<-data.frame(dose, libido)\n",
    "\n",
    "viagraData\n",
    "summary(viagraData)"
   ]
  },
  {
   "cell_type": "markdown",
   "metadata": {},
   "source": [
    "## Exploring the data"
   ]
  },
  {
   "cell_type": "code",
   "execution_count": 2,
   "metadata": {},
   "outputs": [
    {
     "data": {
      "text/plain": [
       "viagraData$dose: Placebo\n",
       "     nbr.val     nbr.null       nbr.na          min          max        range \n",
       "   5.0000000    0.0000000    0.0000000    1.0000000    4.0000000    3.0000000 \n",
       "         sum       median         mean      SE.mean CI.mean.0.95          var \n",
       "  11.0000000    2.0000000    2.2000000    0.5830952    1.6189318    1.7000000 \n",
       "     std.dev     coef.var \n",
       "   1.3038405    0.5926548 \n",
       "------------------------------------------------------------ \n",
       "viagraData$dose: Low Dose\n",
       "     nbr.val     nbr.null       nbr.na          min          max        range \n",
       "   5.0000000    0.0000000    0.0000000    2.0000000    5.0000000    3.0000000 \n",
       "         sum       median         mean      SE.mean CI.mean.0.95          var \n",
       "  16.0000000    3.0000000    3.2000000    0.5830952    1.6189318    1.7000000 \n",
       "     std.dev     coef.var \n",
       "   1.3038405    0.4074502 \n",
       "------------------------------------------------------------ \n",
       "viagraData$dose: High Dose\n",
       "     nbr.val     nbr.null       nbr.na          min          max        range \n",
       "   5.0000000    0.0000000    0.0000000    3.0000000    7.0000000    4.0000000 \n",
       "         sum       median         mean      SE.mean CI.mean.0.95          var \n",
       "  25.0000000    5.0000000    5.0000000    0.7071068    1.9632432    2.5000000 \n",
       "     std.dev     coef.var \n",
       "   1.5811388    0.3162278 "
      ]
     },
     "metadata": {},
     "output_type": "display_data"
    }
   ],
   "source": [
    "library(pastecs)\n",
    "\n",
    "by(viagraData$libido, viagraData$dose, stat.desc)"
   ]
  },
  {
   "cell_type": "markdown",
   "metadata": {},
   "source": [
    "## Checking homogeneity of variance"
   ]
  },
  {
   "cell_type": "markdown",
   "metadata": {},
   "source": [
    "ANOVA assumes that **the variances of the groups are equal**. We use **Levene's test** to test this assumption."
   ]
  },
  {
   "cell_type": "code",
   "execution_count": 3,
   "metadata": {},
   "outputs": [
    {
     "name": "stderr",
     "output_type": "stream",
     "text": [
      "Loading required package: carData\n",
      "\n"
     ]
    },
    {
     "data": {
      "text/html": [
       "<table>\n",
       "<caption>A anova: 2 × 3</caption>\n",
       "<thead>\n",
       "\t<tr><th></th><th scope=col>Df</th><th scope=col>F value</th><th scope=col>Pr(&gt;F)</th></tr>\n",
       "\t<tr><th></th><th scope=col>&lt;int&gt;</th><th scope=col>&lt;dbl&gt;</th><th scope=col>&lt;dbl&gt;</th></tr>\n",
       "</thead>\n",
       "<tbody>\n",
       "\t<tr><th scope=row>group</th><td> 2</td><td>0.1176471</td><td>0.8900225</td></tr>\n",
       "\t<tr><th scope=row> </th><td>12</td><td>       NA</td><td>       NA</td></tr>\n",
       "</tbody>\n",
       "</table>\n"
      ],
      "text/latex": [
       "A anova: 2 × 3\n",
       "\\begin{tabular}{r|lll}\n",
       "  & Df & F value & Pr(>F)\\\\\n",
       "  & <int> & <dbl> & <dbl>\\\\\n",
       "\\hline\n",
       "\tgroup &  2 & 0.1176471 & 0.8900225\\\\\n",
       "\t  & 12 &        NA &        NA\\\\\n",
       "\\end{tabular}\n"
      ],
      "text/markdown": [
       "\n",
       "A anova: 2 × 3\n",
       "\n",
       "| <!--/--> | Df &lt;int&gt; | F value &lt;dbl&gt; | Pr(&gt;F) &lt;dbl&gt; |\n",
       "|---|---|---|---|\n",
       "| group |  2 | 0.1176471 | 0.8900225 |\n",
       "| <!----> | 12 |        NA |        NA |\n",
       "\n"
      ],
      "text/plain": [
       "      Df F value   Pr(>F)   \n",
       "group  2 0.1176471 0.8900225\n",
       "      12        NA        NA"
      ]
     },
     "metadata": {},
     "output_type": "display_data"
    }
   ],
   "source": [
    "library(car)\n",
    "\n",
    "leveneTest(viagraData$libido, viagraData$dose, center = median)"
   ]
  },
  {
   "cell_type": "markdown",
   "metadata": {},
   "source": [
    "The p-value is 0.89 > 0.0.5, which shows that Levene's test is **not significant**. \n",
    "This means that for these data the variances between groups are similar, we can do the ANOVA."
   ]
  },
  {
   "cell_type": "markdown",
   "metadata": {},
   "source": [
    "## Main Analysis"
   ]
  },
  {
   "cell_type": "markdown",
   "metadata": {},
   "source": [
    "ANOVA uses **F-test (F-statistic)** to accept or reject the null hypothesis that means of different groups are the same."
   ]
  },
  {
   "cell_type": "markdown",
   "metadata": {},
   "source": [
    "### Analysis using lm()"
   ]
  },
  {
   "cell_type": "code",
   "execution_count": 4,
   "metadata": {},
   "outputs": [
    {
     "data": {
      "text/plain": [
       "\n",
       "Call:\n",
       "lm(formula = libido ~ dose, data = viagraData)\n",
       "\n",
       "Residuals:\n",
       "   Min     1Q Median     3Q    Max \n",
       "  -2.0   -1.2   -0.2    0.9    2.0 \n",
       "\n",
       "Coefficients:\n",
       "              Estimate Std. Error t value Pr(>|t|)   \n",
       "(Intercept)     2.2000     0.6272   3.508  0.00432 **\n",
       "doseLow Dose    1.0000     0.8869   1.127  0.28158   \n",
       "doseHigh Dose   2.8000     0.8869   3.157  0.00827 **\n",
       "---\n",
       "Signif. codes:  0 '***' 0.001 '**' 0.01 '*' 0.05 '.' 0.1 ' ' 1\n",
       "\n",
       "Residual standard error: 1.402 on 12 degrees of freedom\n",
       "Multiple R-squared:  0.4604,\tAdjusted R-squared:  0.3704 \n",
       "F-statistic: 5.119 on 2 and 12 DF,  p-value: 0.02469\n"
      ]
     },
     "metadata": {},
     "output_type": "display_data"
    }
   ],
   "source": [
    "model1<- lm(libido~dose, data=viagraData)\n",
    "\n",
    "summary(model1)"
   ]
  },
  {
   "cell_type": "markdown",
   "metadata": {},
   "source": [
    "### Analysis using aov()"
   ]
  },
  {
   "cell_type": "code",
   "execution_count": 5,
   "metadata": {},
   "outputs": [
    {
     "data": {
      "text/plain": [
       "            Df Sum Sq Mean Sq F value Pr(>F)  \n",
       "dose         2  20.13  10.067   5.119 0.0247 *\n",
       "Residuals   12  23.60   1.967                 \n",
       "---\n",
       "Signif. codes:  0 '***' 0.001 '**' 0.01 '*' 0.05 '.' 0.1 ' ' 1"
      ]
     },
     "metadata": {},
     "output_type": "display_data"
    }
   ],
   "source": [
    "model2 <- aov(libido ~ dose , data = viagraData)\n",
    "\n",
    "summary(model2)"
   ]
  },
  {
   "cell_type": "markdown",
   "metadata": {},
   "source": [
    "We can see that results (F-statistics) of the two methods are the same, p-value is 0.0247 < 0.05.\n",
    "So we can **reject the null hypothesis**, and there are significant difference among means of different groups."
   ]
  },
  {
   "cell_type": "markdown",
   "metadata": {},
   "source": [
    "## Planned Contrasts"
   ]
  },
  {
   "cell_type": "markdown",
   "metadata": {},
   "source": [
    "We know from the F-ratio that one or more of the differences between means are statistically significant.\n",
    "It's necessary to find out which groups differs. We can use **planned contrasts** ( **planned comparison**) to do this.\n",
    "\n",
    "We use **weights** to **dummy variables** as the following table to carry out the contrast:"
   ]
  },
  {
   "cell_type": "markdown",
   "metadata": {},
   "source": [
    "| Group | Dummy variable 1 <br />($contrast_1$) | Dummy variable 2 <br />($contrast_2$) |  Product <br />($contrast_1*contrast_2$) |\n",
    "| :- | :-: | :-: | :-: |\n",
    "| Placebo | -2 | 0 | 0 |\n",
    "| Low dose | 1 | -1 | -1 |\n",
    "| High dose | 1 | 1 | 1 |\n",
    "| Total | 0 | 0 | 0 |\n"
   ]
  },
  {
   "cell_type": "markdown",
   "metadata": {},
   "source": [
    "Note that values in the last column (**Product of all dummy variables**) sum to zero. This makes the contrast *independent* and **orthogonal**.\n",
    "\n",
    "First we contrast Group \"Low dose\" \"High dose\" with \"Placebo\" (See Column \"Dummy variable 1\", note that all 3 values sum to zero.\n",
    "\n",
    "Then we contrast \"Low dose\" with \"High dose\" (Note that the weight of \"Placebo\" in contrast2 is 0, so it's not contrasted)."
   ]
  },
  {
   "cell_type": "markdown",
   "metadata": {},
   "source": [
    "### Set the weights"
   ]
  },
  {
   "cell_type": "code",
   "execution_count": 14,
   "metadata": {},
   "outputs": [
    {
     "data": {
      "text/html": [
       "<table>\n",
       "<caption>A matrix: 3 × 2 of type dbl</caption>\n",
       "<thead>\n",
       "\t<tr><th></th><th scope=col>contrast1</th><th scope=col>contrast2</th></tr>\n",
       "</thead>\n",
       "<tbody>\n",
       "\t<tr><th scope=row>Placebo</th><td>-2</td><td> 0</td></tr>\n",
       "\t<tr><th scope=row>Low Dose</th><td> 1</td><td>-1</td></tr>\n",
       "\t<tr><th scope=row>High Dose</th><td> 1</td><td> 1</td></tr>\n",
       "</tbody>\n",
       "</table>\n"
      ],
      "text/latex": [
       "A matrix: 3 × 2 of type dbl\n",
       "\\begin{tabular}{r|ll}\n",
       "  & contrast1 & contrast2\\\\\n",
       "\\hline\n",
       "\tPlacebo & -2 &  0\\\\\n",
       "\tLow Dose &  1 & -1\\\\\n",
       "\tHigh Dose &  1 &  1\\\\\n",
       "\\end{tabular}\n"
      ],
      "text/markdown": [
       "\n",
       "A matrix: 3 × 2 of type dbl\n",
       "\n",
       "| <!--/--> | contrast1 | contrast2 |\n",
       "|---|---|---|\n",
       "| Placebo | -2 |  0 |\n",
       "| Low Dose |  1 | -1 |\n",
       "| High Dose |  1 |  1 |\n",
       "\n"
      ],
      "text/plain": [
       "          contrast1 contrast2\n",
       "Placebo   -2         0       \n",
       "Low Dose   1        -1       \n",
       "High Dose  1         1       "
      ]
     },
     "metadata": {},
     "output_type": "display_data"
    }
   ],
   "source": [
    "contrast1 <- c(-2,1,1)\n",
    "contrast2 <- c(0,-1,1)\n",
    "\n",
    "contrasts(viagraData$dose) <- cbind(contrast1,contrast2)\n",
    "contrasts(viagraData$dose)"
   ]
  },
  {
   "cell_type": "markdown",
   "metadata": {},
   "source": [
    "### Conduct the contrast"
   ]
  },
  {
   "cell_type": "code",
   "execution_count": 16,
   "metadata": {},
   "outputs": [
    {
     "data": {
      "text/plain": [
       "\n",
       "Call:\n",
       "lm(formula = libido ~ dose, data = viagraData)\n",
       "\n",
       "Residuals:\n",
       "   Min     1Q Median     3Q    Max \n",
       "  -2.0   -1.2   -0.2    0.9    2.0 \n",
       "\n",
       "Coefficients:\n",
       "              Estimate Std. Error t value Pr(>|t|)    \n",
       "(Intercept)     3.4667     0.3621   9.574 5.72e-07 ***\n",
       "dosecontrast1   0.6333     0.2560   2.474   0.0293 *  \n",
       "dosecontrast2   0.9000     0.4435   2.029   0.0652 .  \n",
       "---\n",
       "Signif. codes:  0 '***' 0.001 '**' 0.01 '*' 0.05 '.' 0.1 ' ' 1\n",
       "\n",
       "Residual standard error: 1.402 on 12 degrees of freedom\n",
       "Multiple R-squared:  0.4604,\tAdjusted R-squared:  0.3704 \n",
       "F-statistic: 5.119 on 2 and 12 DF,  p-value: 0.02469\n"
      ]
     },
     "metadata": {},
     "output_type": "display_data"
    }
   ],
   "source": [
    "model1<- lm(libido~dose, data=viagraData)\n",
    "\n",
    "summary(model1)"
   ]
  },
  {
   "cell_type": "markdown",
   "metadata": {},
   "source": [
    "We can see that **contrast 1 is significant**, while contrast 2 is not significant."
   ]
  },
  {
   "cell_type": "markdown",
   "metadata": {},
   "source": [
    "## Trend analysis"
   ]
  },
  {
   "cell_type": "markdown",
   "metadata": {},
   "source": [
    "By using dummy coding, we can conduct **polynomial contrast**, which tests for trends in the data.\n",
    "\n",
    "Note: The categories to contrast must be **sortable**."
   ]
  },
  {
   "cell_type": "code",
   "execution_count": 18,
   "metadata": {},
   "outputs": [
    {
     "data": {
      "text/html": [
       "<table>\n",
       "<caption>A matrix: 3 × 2 of type dbl</caption>\n",
       "<thead>\n",
       "\t<tr><th scope=col>.L</th><th scope=col>.Q</th></tr>\n",
       "</thead>\n",
       "<tbody>\n",
       "\t<tr><td>-7.071068e-01</td><td> 0.4082483</td></tr>\n",
       "\t<tr><td>-7.850462e-17</td><td>-0.8164966</td></tr>\n",
       "\t<tr><td> 7.071068e-01</td><td> 0.4082483</td></tr>\n",
       "</tbody>\n",
       "</table>\n"
      ],
      "text/latex": [
       "A matrix: 3 × 2 of type dbl\n",
       "\\begin{tabular}{ll}\n",
       " .L & .Q\\\\\n",
       "\\hline\n",
       "\t -7.071068e-01 &  0.4082483\\\\\n",
       "\t -7.850462e-17 & -0.8164966\\\\\n",
       "\t  7.071068e-01 &  0.4082483\\\\\n",
       "\\end{tabular}\n"
      ],
      "text/markdown": [
       "\n",
       "A matrix: 3 × 2 of type dbl\n",
       "\n",
       "| .L | .Q |\n",
       "|---|---|\n",
       "| -7.071068e-01 |  0.4082483 |\n",
       "| -7.850462e-17 | -0.8164966 |\n",
       "|  7.071068e-01 |  0.4082483 |\n",
       "\n"
      ],
      "text/plain": [
       "     .L            .Q        \n",
       "[1,] -7.071068e-01  0.4082483\n",
       "[2,] -7.850462e-17 -0.8164966\n",
       "[3,]  7.071068e-01  0.4082483"
      ]
     },
     "metadata": {},
     "output_type": "display_data"
    }
   ],
   "source": [
    "contrasts(viagraData$dose) <- contr.poly(3)\n",
    "\n",
    "contrasts(viagraData$dose)"
   ]
  },
  {
   "cell_type": "code",
   "execution_count": 19,
   "metadata": {},
   "outputs": [
    {
     "data": {
      "text/plain": [
       "\n",
       "Call:\n",
       "lm(formula = libido ~ dose, data = viagraData)\n",
       "\n",
       "Residuals:\n",
       "   Min     1Q Median     3Q    Max \n",
       "  -2.0   -1.2   -0.2    0.9    2.0 \n",
       "\n",
       "Coefficients:\n",
       "            Estimate Std. Error t value Pr(>|t|)    \n",
       "(Intercept)   3.4667     0.3621   9.574 5.72e-07 ***\n",
       "dose.L        1.9799     0.6272   3.157  0.00827 ** \n",
       "dose.Q        0.3266     0.6272   0.521  0.61201    \n",
       "---\n",
       "Signif. codes:  0 '***' 0.001 '**' 0.01 '*' 0.05 '.' 0.1 ' ' 1\n",
       "\n",
       "Residual standard error: 1.402 on 12 degrees of freedom\n",
       "Multiple R-squared:  0.4604,\tAdjusted R-squared:  0.3704 \n",
       "F-statistic: 5.119 on 2 and 12 DF,  p-value: 0.02469\n"
      ]
     },
     "metadata": {},
     "output_type": "display_data"
    }
   ],
   "source": [
    "model1<- lm(libido~dose, data=viagraData)\n",
    "\n",
    "summary(model1)"
   ]
  },
  {
   "cell_type": "markdown",
   "metadata": {},
   "source": [
    "Dummy variable \"L\" tests a **linear trend**, which is significant. \n",
    "\n",
    "Dummy variable \"Q\" tests a **quadratic trend**, which is not significant. "
   ]
  },
  {
   "cell_type": "code",
   "execution_count": null,
   "metadata": {},
   "outputs": [],
   "source": []
  }
 ],
 "metadata": {
  "kernelspec": {
   "display_name": "R",
   "language": "R",
   "name": "ir"
  },
  "language_info": {
   "codemirror_mode": "r",
   "file_extension": ".r",
   "mimetype": "text/x-r-source",
   "name": "R",
   "pygments_lexer": "r",
   "version": "4.0.2"
  },
  "toc-autonumbering": true,
  "toc-showcode": false,
  "toc-showmarkdowntxt": false,
  "toc-showtags": false
 },
 "nbformat": 4,
 "nbformat_minor": 4
}
