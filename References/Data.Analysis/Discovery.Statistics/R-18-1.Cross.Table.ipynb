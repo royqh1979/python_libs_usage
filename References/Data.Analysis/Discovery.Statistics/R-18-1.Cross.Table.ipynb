{
 "cells": [
  {
   "cell_type": "markdown",
   "metadata": {},
   "source": [
    "# Cross Table"
   ]
  },
  {
   "cell_type": "markdown",
   "metadata": {},
   "source": [
    "## Entering Data"
   ]
  },
  {
   "cell_type": "markdown",
   "metadata": {},
   "source": [
    "### Raw Scores"
   ]
  },
  {
   "cell_type": "code",
   "execution_count": 2,
   "metadata": {},
   "outputs": [
    {
     "data": {
      "text/plain": [
       "                Training   Dance    \n",
       " Affection as Reward:162   No :124  \n",
       " Food as Reward     : 38   Yes: 76  "
      ]
     },
     "metadata": {},
     "output_type": "display_data"
    }
   ],
   "source": [
    "catData <- read.delim(\"data/cats.dat\",h=T,stringsAsFactors = T)\n",
    "\n",
    "summary(catData)"
   ]
  },
  {
   "cell_type": "code",
   "execution_count": 15,
   "metadata": {},
   "outputs": [
    {
     "data": {
      "text/html": [
       "<table>\n",
       "<caption>A matrix: 2 × 2 of type int</caption>\n",
       "<thead>\n",
       "\t<tr><th scope=col>food</th><th scope=col>affection</th></tr>\n",
       "</thead>\n",
       "<tbody>\n",
       "\t<tr><td>10</td><td>114</td></tr>\n",
       "\t<tr><td>28</td><td> 48</td></tr>\n",
       "</tbody>\n",
       "</table>\n"
      ],
      "text/latex": [
       "A matrix: 2 × 2 of type int\n",
       "\\begin{tabular}{ll}\n",
       " food & affection\\\\\n",
       "\\hline\n",
       "\t 10 & 114\\\\\n",
       "\t 28 &  48\\\\\n",
       "\\end{tabular}\n"
      ],
      "text/markdown": [
       "\n",
       "A matrix: 2 × 2 of type int\n",
       "\n",
       "| food | affection |\n",
       "|---|---|\n",
       "| 10 | 114 |\n",
       "| 28 |  48 |\n",
       "\n"
      ],
      "text/plain": [
       "     food affection\n",
       "[1,] 10   114      \n",
       "[2,] 28    48      "
      ]
     },
     "metadata": {},
     "output_type": "display_data"
    }
   ],
   "source": [
    "food <- c(sum((catData$Training == \"Food as Reward\") & (catData$Dance==\"No\")), \n",
    "          sum((catData$Training == \"Food as Reward\") & (catData$Dance==\"Yes\")))\n",
    "affection <- c(sum((catData$Training == \"Affection as Reward\") & (catData$Dance==\"No\")), \n",
    "          sum((catData$Training == \"Affection as Reward\") & (catData$Dance==\"Yes\")))\n",
    "catsTable <- cbind(food,affection)\n",
    "\n",
    "catsTable"
   ]
  },
  {
   "cell_type": "markdown",
   "metadata": {},
   "source": [
    "## Analysis"
   ]
  },
  {
   "cell_type": "code",
   "execution_count": 18,
   "metadata": {},
   "outputs": [
    {
     "name": "stdout",
     "output_type": "stream",
     "text": [
      "\n",
      "   Cell Contents\n",
      "|-------------------------|\n",
      "|                   Count |\n",
      "|         Expected Values |\n",
      "| Chi-square contribution |\n",
      "|             Row Percent |\n",
      "|          Column Percent |\n",
      "|           Total Percent |\n",
      "|            Std Residual |\n",
      "|-------------------------|\n",
      "\n",
      "Total Observations in Table:  200 \n",
      "\n",
      "                    | catData$Dance \n",
      "   catData$Training |       No  |      Yes  | Row Total | \n",
      "--------------------|-----------|-----------|-----------|\n",
      "Affection as Reward |      114  |       48  |      162  | \n",
      "                    |  100.440  |   61.560  |           | \n",
      "                    |    1.831  |    2.987  |           | \n",
      "                    |   70.370% |   29.630% |   81.000% | \n",
      "                    |   91.935% |   63.158% |           | \n",
      "                    |   57.000% |   24.000% |           | \n",
      "                    |    1.353  |   -1.728  |           | \n",
      "--------------------|-----------|-----------|-----------|\n",
      "     Food as Reward |       10  |       28  |       38  | \n",
      "                    |   23.560  |   14.440  |           | \n",
      "                    |    7.804  |   12.734  |           | \n",
      "                    |   26.316% |   73.684% |   19.000% | \n",
      "                    |    8.065% |   36.842% |           | \n",
      "                    |    5.000% |   14.000% |           | \n",
      "                    |   -2.794  |    3.568  |           | \n",
      "--------------------|-----------|-----------|-----------|\n",
      "       Column Total |      124  |       76  |      200  | \n",
      "                    |   62.000% |   38.000% |           | \n",
      "--------------------|-----------|-----------|-----------|\n",
      "\n",
      " \n",
      "Statistics for All Table Factors\n",
      "\n",
      "\n",
      "Pearson's Chi-squared test \n",
      "------------------------------------------------------------\n",
      "Chi^2 =  25.35569     d.f. =  1     p =  4.767434e-07 \n",
      "\n",
      "Pearson's Chi-squared test with Yates' continuity correction \n",
      "------------------------------------------------------------\n",
      "Chi^2 =  23.52028     d.f. =  1     p =  1.236041e-06 \n",
      "\n",
      " \n",
      "Fisher's Exact Test for Count Data\n",
      "------------------------------------------------------------\n",
      "Sample estimate odds ratio:  6.579265 \n",
      "\n",
      "Alternative hypothesis: true odds ratio is not equal to 1\n",
      "p =  1.311709e-06 \n",
      "95% confidence interval:  2.837773 16.42969 \n",
      "\n",
      "Alternative hypothesis: true odds ratio is less than 1\n",
      "p =  0.9999999 \n",
      "95% confidence interval:  0 14.25436 \n",
      "\n",
      "Alternative hypothesis: true odds ratio is greater than 1\n",
      "p =  7.7122e-07 \n",
      "95% confidence interval:  3.193221 Inf \n",
      "\n",
      "\n",
      " \n",
      "       Minimum expected frequency: 14.44 \n",
      "\n"
     ]
    }
   ],
   "source": [
    "library(gmodels)\n",
    "\n",
    "CrossTable(catData$Training, catData$Dance, fisher=T, chisq = T, expect = T, sresid = T, format = \"SPSS\")"
   ]
  },
  {
   "cell_type": "code",
   "execution_count": null,
   "metadata": {},
   "outputs": [],
   "source": []
  }
 ],
 "metadata": {
  "kernelspec": {
   "display_name": "R",
   "language": "R",
   "name": "ir"
  },
  "language_info": {
   "codemirror_mode": "r",
   "file_extension": ".r",
   "mimetype": "text/x-r-source",
   "name": "R",
   "pygments_lexer": "r",
   "version": "4.0.2"
  },
  "toc-autonumbering": true
 },
 "nbformat": 4,
 "nbformat_minor": 4
}
