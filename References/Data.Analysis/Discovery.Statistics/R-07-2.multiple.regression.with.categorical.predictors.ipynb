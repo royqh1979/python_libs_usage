{
 "cells": [
  {
   "cell_type": "markdown",
   "metadata": {},
   "source": [
    "# Multiple Regression with category variables"
   ]
  },
  {
   "cell_type": "code",
   "execution_count": 1,
   "metadata": {},
   "outputs": [],
   "source": [
    "## Loading the Data"
   ]
  },
  {
   "cell_type": "code",
   "execution_count": 3,
   "metadata": {},
   "outputs": [
    {
     "data": {
      "text/html": [
       "<table>\n",
       "<caption>A data.frame: 6 × 6</caption>\n",
       "<thead>\n",
       "\t<tr><th></th><th scope=col>ticknumb</th><th scope=col>music</th><th scope=col>day1</th><th scope=col>day2</th><th scope=col>day3</th><th scope=col>change</th></tr>\n",
       "\t<tr><th></th><th scope=col>&lt;int&gt;</th><th scope=col>&lt;fct&gt;</th><th scope=col>&lt;dbl&gt;</th><th scope=col>&lt;dbl&gt;</th><th scope=col>&lt;dbl&gt;</th><th scope=col>&lt;dbl&gt;</th></tr>\n",
       "</thead>\n",
       "<tbody>\n",
       "\t<tr><th scope=row>1</th><td>2111</td><td>Metaller              </td><td>2.65</td><td>1.35</td><td>1.61</td><td>-1.04</td></tr>\n",
       "\t<tr><th scope=row>2</th><td>2229</td><td>Crusty                </td><td>0.97</td><td>1.41</td><td>0.29</td><td>-0.68</td></tr>\n",
       "\t<tr><th scope=row>3</th><td>2338</td><td>No Musical Affiliation</td><td>0.84</td><td>  NA</td><td>  NA</td><td>   NA</td></tr>\n",
       "\t<tr><th scope=row>4</th><td>2384</td><td>Crusty                </td><td>3.03</td><td>  NA</td><td>  NA</td><td>   NA</td></tr>\n",
       "\t<tr><th scope=row>5</th><td>2401</td><td>No Musical Affiliation</td><td>0.88</td><td>0.08</td><td>  NA</td><td>   NA</td></tr>\n",
       "\t<tr><th scope=row>6</th><td>2405</td><td>Crusty                </td><td>0.85</td><td>  NA</td><td>  NA</td><td>   NA</td></tr>\n",
       "</tbody>\n",
       "</table>\n"
      ],
      "text/latex": [
       "A data.frame: 6 × 6\n",
       "\\begin{tabular}{r|llllll}\n",
       "  & ticknumb & music & day1 & day2 & day3 & change\\\\\n",
       "  & <int> & <fct> & <dbl> & <dbl> & <dbl> & <dbl>\\\\\n",
       "\\hline\n",
       "\t1 & 2111 & Metaller               & 2.65 & 1.35 & 1.61 & -1.04\\\\\n",
       "\t2 & 2229 & Crusty                 & 0.97 & 1.41 & 0.29 & -0.68\\\\\n",
       "\t3 & 2338 & No Musical Affiliation & 0.84 &   NA &   NA &    NA\\\\\n",
       "\t4 & 2384 & Crusty                 & 3.03 &   NA &   NA &    NA\\\\\n",
       "\t5 & 2401 & No Musical Affiliation & 0.88 & 0.08 &   NA &    NA\\\\\n",
       "\t6 & 2405 & Crusty                 & 0.85 &   NA &   NA &    NA\\\\\n",
       "\\end{tabular}\n"
      ],
      "text/markdown": [
       "\n",
       "A data.frame: 6 × 6\n",
       "\n",
       "| <!--/--> | ticknumb &lt;int&gt; | music &lt;fct&gt; | day1 &lt;dbl&gt; | day2 &lt;dbl&gt; | day3 &lt;dbl&gt; | change &lt;dbl&gt; |\n",
       "|---|---|---|---|---|---|---|\n",
       "| 1 | 2111 | Metaller               | 2.65 | 1.35 | 1.61 | -1.04 |\n",
       "| 2 | 2229 | Crusty                 | 0.97 | 1.41 | 0.29 | -0.68 |\n",
       "| 3 | 2338 | No Musical Affiliation | 0.84 |   NA |   NA |    NA |\n",
       "| 4 | 2384 | Crusty                 | 3.03 |   NA |   NA |    NA |\n",
       "| 5 | 2401 | No Musical Affiliation | 0.88 | 0.08 |   NA |    NA |\n",
       "| 6 | 2405 | Crusty                 | 0.85 |   NA |   NA |    NA |\n",
       "\n"
      ],
      "text/plain": [
       "  ticknumb music                  day1 day2 day3 change\n",
       "1 2111     Metaller               2.65 1.35 1.61 -1.04 \n",
       "2 2229     Crusty                 0.97 1.41 0.29 -0.68 \n",
       "3 2338     No Musical Affiliation 0.84   NA   NA    NA \n",
       "4 2384     Crusty                 3.03   NA   NA    NA \n",
       "5 2401     No Musical Affiliation 0.88 0.08   NA    NA \n",
       "6 2405     Crusty                 0.85   NA   NA    NA "
      ]
     },
     "metadata": {},
     "output_type": "display_data"
    }
   ],
   "source": [
    "gfr <- read.delim(\"data/GlastonburyFestivalRegression.dat\", stringsAsFactors=T,header=T)\n",
    "\n",
    "head(gfr)"
   ]
  },
  {
   "cell_type": "code",
   "execution_count": 4,
   "metadata": {},
   "outputs": [
    {
     "data": {
      "text/plain": [
       "    ticknumb                       music          day1            day2       \n",
       " Min.   :2111   Crusty                :194   Min.   :0.020   Min.   :0.0000  \n",
       " 1st Qu.:3096   Indie Kid             :102   1st Qu.:1.312   1st Qu.:0.4100  \n",
       " Median :3620   Metaller              :177   Median :1.790   Median :0.7900  \n",
       " Mean   :3616   No Musical Affiliation:337   Mean   :1.771   Mean   :0.9609  \n",
       " 3rd Qu.:4155                                3rd Qu.:2.230   3rd Qu.:1.3500  \n",
       " Max.   :4765                                Max.   :3.690   Max.   :3.4400  \n",
       "                                                             NA's   :546     \n",
       "      day3            change      \n",
       " Min.   :0.0200   Min.   :-2.550  \n",
       " 1st Qu.:0.4400   1st Qu.:-1.130  \n",
       " Median :0.7600   Median :-0.560  \n",
       " Mean   :0.9765   Mean   :-0.675  \n",
       " 3rd Qu.:1.5250   3rd Qu.:-0.255  \n",
       " Max.   :3.4100   Max.   : 1.040  \n",
       " NA's   :687      NA's   :687     "
      ]
     },
     "metadata": {},
     "output_type": "display_data"
    }
   ],
   "source": [
    "summary(gfr)"
   ]
  },
  {
   "cell_type": "markdown",
   "metadata": {},
   "source": [
    "## Set dummy coding using **contr.treatment()** function\n",
    "There are 4 groups, and Group 4 is the baseline."
   ]
  },
  {
   "cell_type": "code",
   "execution_count": 5,
   "metadata": {},
   "outputs": [
    {
     "data": {
      "text/html": [
       "<dl>\n",
       "\t<dt>$levels</dt>\n",
       "\t\t<dd><style>\n",
       ".list-inline {list-style: none; margin:0; padding: 0}\n",
       ".list-inline>li {display: inline-block}\n",
       ".list-inline>li:not(:last-child)::after {content: \"\\00b7\"; padding: 0 .5ex}\n",
       "</style>\n",
       "<ol class=list-inline><li>'Crusty'</li><li>'Indie Kid'</li><li>'Metaller'</li><li>'No Musical Affiliation'</li></ol>\n",
       "</dd>\n",
       "\t<dt>$class</dt>\n",
       "\t\t<dd>'factor'</dd>\n",
       "\t<dt>$contrasts</dt>\n",
       "\t\t<dd><table>\n",
       "<caption>A matrix: 4 × 3 of type dbl</caption>\n",
       "<thead>\n",
       "\t<tr><th></th><th scope=col>1</th><th scope=col>2</th><th scope=col>3</th></tr>\n",
       "</thead>\n",
       "<tbody>\n",
       "\t<tr><th scope=row>Crusty</th><td>1</td><td>0</td><td>0</td></tr>\n",
       "\t<tr><th scope=row>Indie Kid</th><td>0</td><td>1</td><td>0</td></tr>\n",
       "\t<tr><th scope=row>Metaller</th><td>0</td><td>0</td><td>1</td></tr>\n",
       "\t<tr><th scope=row>No Musical Affiliation</th><td>0</td><td>0</td><td>0</td></tr>\n",
       "</tbody>\n",
       "</table>\n",
       "</dd>\n",
       "</dl>\n"
      ],
      "text/latex": [
       "\\begin{description}\n",
       "\\item[\\$levels] \\begin{enumerate*}\n",
       "\\item 'Crusty'\n",
       "\\item 'Indie Kid'\n",
       "\\item 'Metaller'\n",
       "\\item 'No Musical Affiliation'\n",
       "\\end{enumerate*}\n",
       "\n",
       "\\item[\\$class] 'factor'\n",
       "\\item[\\$contrasts] A matrix: 4 × 3 of type dbl\n",
       "\\begin{tabular}{r|lll}\n",
       "  & 1 & 2 & 3\\\\\n",
       "\\hline\n",
       "\tCrusty & 1 & 0 & 0\\\\\n",
       "\tIndie Kid & 0 & 1 & 0\\\\\n",
       "\tMetaller & 0 & 0 & 1\\\\\n",
       "\tNo Musical Affiliation & 0 & 0 & 0\\\\\n",
       "\\end{tabular}\n",
       "\n",
       "\\end{description}\n"
      ],
      "text/markdown": [
       "$levels\n",
       ":   1. 'Crusty'\n",
       "2. 'Indie Kid'\n",
       "3. 'Metaller'\n",
       "4. 'No Musical Affiliation'\n",
       "\n",
       "\n",
       "\n",
       "$class\n",
       ":   'factor'\n",
       "$contrasts\n",
       ":   \n",
       "A matrix: 4 × 3 of type dbl\n",
       "\n",
       "| <!--/--> | 1 | 2 | 3 |\n",
       "|---|---|---|---|\n",
       "| Crusty | 1 | 0 | 0 |\n",
       "| Indie Kid | 0 | 1 | 0 |\n",
       "| Metaller | 0 | 0 | 1 |\n",
       "| No Musical Affiliation | 0 | 0 | 0 |\n",
       "\n",
       "\n",
       "\n",
       "\n"
      ],
      "text/plain": [
       "$levels\n",
       "[1] \"Crusty\"                 \"Indie Kid\"              \"Metaller\"              \n",
       "[4] \"No Musical Affiliation\"\n",
       "\n",
       "$class\n",
       "[1] \"factor\"\n",
       "\n",
       "$contrasts\n",
       "                       1 2 3\n",
       "Crusty                 1 0 0\n",
       "Indie Kid              0 1 0\n",
       "Metaller               0 0 1\n",
       "No Musical Affiliation 0 0 0\n"
      ]
     },
     "metadata": {},
     "output_type": "display_data"
    }
   ],
   "source": [
    "contrasts(gfr$music) <- contr.treatment(4,base=4)\n",
    "\n",
    "attributes(gfr$music)"
   ]
  },
  {
   "cell_type": "markdown",
   "metadata": {},
   "source": [
    "## Set dummy coding manually"
   ]
  },
  {
   "cell_type": "markdown",
   "metadata": {},
   "source": [
    "### See the leveles "
   ]
  },
  {
   "cell_type": "code",
   "execution_count": 6,
   "metadata": {},
   "outputs": [
    {
     "data": {
      "text/html": [
       "<dl>\n",
       "\t<dt>$levels</dt>\n",
       "\t\t<dd><style>\n",
       ".list-inline {list-style: none; margin:0; padding: 0}\n",
       ".list-inline>li {display: inline-block}\n",
       ".list-inline>li:not(:last-child)::after {content: \"\\00b7\"; padding: 0 .5ex}\n",
       "</style>\n",
       "<ol class=list-inline><li>'Crusty'</li><li>'Indie Kid'</li><li>'Metaller'</li><li>'No Musical Affiliation'</li></ol>\n",
       "</dd>\n",
       "\t<dt>$class</dt>\n",
       "\t\t<dd>'factor'</dd>\n",
       "\t<dt>$contrasts</dt>\n",
       "\t\t<dd><table>\n",
       "<caption>A matrix: 4 × 3 of type dbl</caption>\n",
       "<thead>\n",
       "\t<tr><th></th><th scope=col>1</th><th scope=col>2</th><th scope=col>3</th></tr>\n",
       "</thead>\n",
       "<tbody>\n",
       "\t<tr><th scope=row>Crusty</th><td>1</td><td>0</td><td>0</td></tr>\n",
       "\t<tr><th scope=row>Indie Kid</th><td>0</td><td>1</td><td>0</td></tr>\n",
       "\t<tr><th scope=row>Metaller</th><td>0</td><td>0</td><td>1</td></tr>\n",
       "\t<tr><th scope=row>No Musical Affiliation</th><td>0</td><td>0</td><td>0</td></tr>\n",
       "</tbody>\n",
       "</table>\n",
       "</dd>\n",
       "</dl>\n"
      ],
      "text/latex": [
       "\\begin{description}\n",
       "\\item[\\$levels] \\begin{enumerate*}\n",
       "\\item 'Crusty'\n",
       "\\item 'Indie Kid'\n",
       "\\item 'Metaller'\n",
       "\\item 'No Musical Affiliation'\n",
       "\\end{enumerate*}\n",
       "\n",
       "\\item[\\$class] 'factor'\n",
       "\\item[\\$contrasts] A matrix: 4 × 3 of type dbl\n",
       "\\begin{tabular}{r|lll}\n",
       "  & 1 & 2 & 3\\\\\n",
       "\\hline\n",
       "\tCrusty & 1 & 0 & 0\\\\\n",
       "\tIndie Kid & 0 & 1 & 0\\\\\n",
       "\tMetaller & 0 & 0 & 1\\\\\n",
       "\tNo Musical Affiliation & 0 & 0 & 0\\\\\n",
       "\\end{tabular}\n",
       "\n",
       "\\end{description}\n"
      ],
      "text/markdown": [
       "$levels\n",
       ":   1. 'Crusty'\n",
       "2. 'Indie Kid'\n",
       "3. 'Metaller'\n",
       "4. 'No Musical Affiliation'\n",
       "\n",
       "\n",
       "\n",
       "$class\n",
       ":   'factor'\n",
       "$contrasts\n",
       ":   \n",
       "A matrix: 4 × 3 of type dbl\n",
       "\n",
       "| <!--/--> | 1 | 2 | 3 |\n",
       "|---|---|---|---|\n",
       "| Crusty | 1 | 0 | 0 |\n",
       "| Indie Kid | 0 | 1 | 0 |\n",
       "| Metaller | 0 | 0 | 1 |\n",
       "| No Musical Affiliation | 0 | 0 | 0 |\n",
       "\n",
       "\n",
       "\n",
       "\n"
      ],
      "text/plain": [
       "$levels\n",
       "[1] \"Crusty\"                 \"Indie Kid\"              \"Metaller\"              \n",
       "[4] \"No Musical Affiliation\"\n",
       "\n",
       "$class\n",
       "[1] \"factor\"\n",
       "\n",
       "$contrasts\n",
       "                       1 2 3\n",
       "Crusty                 1 0 0\n",
       "Indie Kid              0 1 0\n",
       "Metaller               0 0 1\n",
       "No Musical Affiliation 0 0 0\n"
      ]
     },
     "metadata": {},
     "output_type": "display_data"
    }
   ],
   "source": [
    "attributes(gfr$music)"
   ]
  },
  {
   "cell_type": "markdown",
   "metadata": {},
   "source": [
    "Note there are 4 groups ('Crusty','Indie Kid''Metaller''No Musical Affiliation').<br>\n",
    "And Pay attention to their orders."
   ]
  },
  {
   "cell_type": "markdown",
   "metadata": {},
   "source": [
    "### create codings"
   ]
  },
  {
   "cell_type": "code",
   "execution_count": 7,
   "metadata": {},
   "outputs": [],
   "source": [
    "crusty_v_NMA<-c(1,0,0,0)\n",
    "indie_v_NMA<-c(0,1,0,0)\n",
    "metal_v_NMA<-c(0,0,1,0)"
   ]
  },
  {
   "cell_type": "markdown",
   "metadata": {},
   "source": [
    "Note that each variables is a **column** of the coding table , **not row**!!"
   ]
  },
  {
   "cell_type": "markdown",
   "metadata": {},
   "source": [
    "### set the contrasts"
   ]
  },
  {
   "cell_type": "code",
   "execution_count": 8,
   "metadata": {},
   "outputs": [
    {
     "data": {
      "text/html": [
       "<dl>\n",
       "\t<dt>$levels</dt>\n",
       "\t\t<dd><style>\n",
       ".list-inline {list-style: none; margin:0; padding: 0}\n",
       ".list-inline>li {display: inline-block}\n",
       ".list-inline>li:not(:last-child)::after {content: \"\\00b7\"; padding: 0 .5ex}\n",
       "</style>\n",
       "<ol class=list-inline><li>'Crusty'</li><li>'Indie Kid'</li><li>'Metaller'</li><li>'No Musical Affiliation'</li></ol>\n",
       "</dd>\n",
       "\t<dt>$class</dt>\n",
       "\t\t<dd>'factor'</dd>\n",
       "\t<dt>$contrasts</dt>\n",
       "\t\t<dd><table>\n",
       "<caption>A matrix: 4 × 3 of type dbl</caption>\n",
       "<thead>\n",
       "\t<tr><th></th><th scope=col>crusty_v_NMA</th><th scope=col>indie_v_NMA</th><th scope=col>metal_v_NMA</th></tr>\n",
       "</thead>\n",
       "<tbody>\n",
       "\t<tr><th scope=row>Crusty</th><td>1</td><td>0</td><td>0</td></tr>\n",
       "\t<tr><th scope=row>Indie Kid</th><td>0</td><td>1</td><td>0</td></tr>\n",
       "\t<tr><th scope=row>Metaller</th><td>0</td><td>0</td><td>1</td></tr>\n",
       "\t<tr><th scope=row>No Musical Affiliation</th><td>0</td><td>0</td><td>0</td></tr>\n",
       "</tbody>\n",
       "</table>\n",
       "</dd>\n",
       "</dl>\n"
      ],
      "text/latex": [
       "\\begin{description}\n",
       "\\item[\\$levels] \\begin{enumerate*}\n",
       "\\item 'Crusty'\n",
       "\\item 'Indie Kid'\n",
       "\\item 'Metaller'\n",
       "\\item 'No Musical Affiliation'\n",
       "\\end{enumerate*}\n",
       "\n",
       "\\item[\\$class] 'factor'\n",
       "\\item[\\$contrasts] A matrix: 4 × 3 of type dbl\n",
       "\\begin{tabular}{r|lll}\n",
       "  & crusty\\_v\\_NMA & indie\\_v\\_NMA & metal\\_v\\_NMA\\\\\n",
       "\\hline\n",
       "\tCrusty & 1 & 0 & 0\\\\\n",
       "\tIndie Kid & 0 & 1 & 0\\\\\n",
       "\tMetaller & 0 & 0 & 1\\\\\n",
       "\tNo Musical Affiliation & 0 & 0 & 0\\\\\n",
       "\\end{tabular}\n",
       "\n",
       "\\end{description}\n"
      ],
      "text/markdown": [
       "$levels\n",
       ":   1. 'Crusty'\n",
       "2. 'Indie Kid'\n",
       "3. 'Metaller'\n",
       "4. 'No Musical Affiliation'\n",
       "\n",
       "\n",
       "\n",
       "$class\n",
       ":   'factor'\n",
       "$contrasts\n",
       ":   \n",
       "A matrix: 4 × 3 of type dbl\n",
       "\n",
       "| <!--/--> | crusty_v_NMA | indie_v_NMA | metal_v_NMA |\n",
       "|---|---|---|---|\n",
       "| Crusty | 1 | 0 | 0 |\n",
       "| Indie Kid | 0 | 1 | 0 |\n",
       "| Metaller | 0 | 0 | 1 |\n",
       "| No Musical Affiliation | 0 | 0 | 0 |\n",
       "\n",
       "\n",
       "\n",
       "\n"
      ],
      "text/plain": [
       "$levels\n",
       "[1] \"Crusty\"                 \"Indie Kid\"              \"Metaller\"              \n",
       "[4] \"No Musical Affiliation\"\n",
       "\n",
       "$class\n",
       "[1] \"factor\"\n",
       "\n",
       "$contrasts\n",
       "                       crusty_v_NMA indie_v_NMA metal_v_NMA\n",
       "Crusty                            1           0           0\n",
       "Indie Kid                         0           1           0\n",
       "Metaller                          0           0           1\n",
       "No Musical Affiliation            0           0           0\n"
      ]
     },
     "metadata": {},
     "output_type": "display_data"
    }
   ],
   "source": [
    "contrasts(gfr$music)<-cbind(crusty_v_NMA,indie_v_NMA,metal_v_NMA)\n",
    "\n",
    "attributes(gfr$music)"
   ]
  },
  {
   "cell_type": "code",
   "execution_count": 9,
   "metadata": {},
   "outputs": [
    {
     "data": {
      "text/html": [
       "<style>\n",
       ".dl-inline {width: auto; margin:0; padding: 0}\n",
       ".dl-inline>dt, .dl-inline>dd {float: none; width: auto; display: inline-block}\n",
       ".dl-inline>dt::after {content: \":\\0020\"; padding-right: .5ex}\n",
       ".dl-inline>dt:not(:first-of-type) {padding-left: .5ex}\n",
       "</style><dl class=dl-inline><dt>Crusty</dt><dd>-0.966</dd><dt>Indie Kid</dt><dd>-0.964</dd><dt>Metaller</dt><dd>-0.526</dd><dt>No Musical Affiliation</dt><dd>-0.554</dd></dl>\n"
      ],
      "text/latex": [
       "\\begin{description*}\n",
       "\\item[Crusty] -0.966\n",
       "\\item[Indie Kid] -0.964\n",
       "\\item[Metaller] -0.526\n",
       "\\item[No Musical Affiliation] -0.554\n",
       "\\end{description*}\n"
      ],
      "text/markdown": [
       "Crusty\n",
       ":   -0.966Indie Kid\n",
       ":   -0.964Metaller\n",
       ":   -0.526No Musical Affiliation\n",
       ":   -0.554\n",
       "\n"
      ],
      "text/plain": [
       "                Crusty              Indie Kid               Metaller \n",
       "                -0.966                 -0.964                 -0.526 \n",
       "No Musical Affiliation \n",
       "                -0.554 "
      ]
     },
     "metadata": {},
     "output_type": "display_data"
    }
   ],
   "source": [
    "round(tapply(gfr$change,gfr$music,mean,na.rm=T),3)"
   ]
  },
  {
   "cell_type": "code",
   "execution_count": 10,
   "metadata": {},
   "outputs": [
    {
     "data": {
      "text/plain": [
       "\n",
       "Call:\n",
       "lm(formula = change ~ music, data = gfr)\n",
       "\n",
       "Residuals:\n",
       "     Min       1Q   Median       3Q      Max \n",
       "-1.82569 -0.50489  0.05593  0.42430  1.59431 \n",
       "\n",
       "Coefficients:\n",
       "                  Estimate Std. Error t value Pr(>|t|)    \n",
       "(Intercept)       -0.55431    0.09036  -6.134 1.15e-08 ***\n",
       "musiccrusty_v_NMA -0.41152    0.16703  -2.464   0.0152 *  \n",
       "musicindie_v_NMA  -0.40998    0.20492  -2.001   0.0477 *  \n",
       "musicmetal_v_NMA   0.02838    0.16033   0.177   0.8598    \n",
       "---\n",
       "Signif. codes:  0 '***' 0.001 '**' 0.01 '*' 0.05 '.' 0.1 ' ' 1\n",
       "\n",
       "Residual standard error: 0.6882 on 119 degrees of freedom\n",
       "  (687 observations deleted due to missingness)\n",
       "Multiple R-squared:  0.07617,\tAdjusted R-squared:  0.05288 \n",
       "F-statistic:  3.27 on 3 and 119 DF,  p-value: 0.02369\n"
      ]
     },
     "metadata": {},
     "output_type": "display_data"
    }
   ],
   "source": [
    "glastonburyModel <- lm(change ~ music, data=gfr)\n",
    "\n",
    "summary(glastonburyModel)"
   ]
  },
  {
   "cell_type": "code",
   "execution_count": null,
   "metadata": {},
   "outputs": [],
   "source": []
  }
 ],
 "metadata": {
  "kernelspec": {
   "display_name": "R",
   "language": "R",
   "name": "ir"
  },
  "language_info": {
   "codemirror_mode": "r",
   "file_extension": ".r",
   "mimetype": "text/x-r-source",
   "name": "R",
   "pygments_lexer": "r",
   "version": "4.0.1"
  }
 },
 "nbformat": 4,
 "nbformat_minor": 4
}
