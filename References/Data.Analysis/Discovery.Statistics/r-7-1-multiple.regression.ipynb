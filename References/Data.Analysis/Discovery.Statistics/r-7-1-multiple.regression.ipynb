{
 "cells": [
  {
   "cell_type": "markdown",
   "metadata": {},
   "source": [
    "# Multiple Regression using the basic model"
   ]
  },
  {
   "cell_type": "code",
   "execution_count": 3,
   "metadata": {},
   "outputs": [],
   "source": [
    "album2 <- read.delim(\"data/Album Sales 2.dat\",header=T)"
   ]
  },
  {
   "cell_type": "code",
   "execution_count": 4,
   "metadata": {},
   "outputs": [
    {
     "data": {
      "text/html": [
       "<table>\n",
       "<caption>A data.frame: 6 × 4</caption>\n",
       "<thead>\n",
       "\t<tr><th></th><th scope=col>adverts</th><th scope=col>sales</th><th scope=col>airplay</th><th scope=col>attract</th></tr>\n",
       "\t<tr><th></th><th scope=col>&lt;dbl&gt;</th><th scope=col>&lt;int&gt;</th><th scope=col>&lt;int&gt;</th><th scope=col>&lt;int&gt;</th></tr>\n",
       "</thead>\n",
       "<tbody>\n",
       "\t<tr><th scope=row>1</th><td>  10.256</td><td>330</td><td>43</td><td>10</td></tr>\n",
       "\t<tr><th scope=row>2</th><td> 985.685</td><td>120</td><td>28</td><td> 7</td></tr>\n",
       "\t<tr><th scope=row>3</th><td>1445.563</td><td>360</td><td>35</td><td> 7</td></tr>\n",
       "\t<tr><th scope=row>4</th><td>1188.193</td><td>270</td><td>33</td><td> 7</td></tr>\n",
       "\t<tr><th scope=row>5</th><td> 574.513</td><td>220</td><td>44</td><td> 5</td></tr>\n",
       "\t<tr><th scope=row>6</th><td> 568.954</td><td>170</td><td>19</td><td> 5</td></tr>\n",
       "</tbody>\n",
       "</table>\n"
      ],
      "text/latex": [
       "A data.frame: 6 × 4\n",
       "\\begin{tabular}{r|llll}\n",
       "  & adverts & sales & airplay & attract\\\\\n",
       "  & <dbl> & <int> & <int> & <int>\\\\\n",
       "\\hline\n",
       "\t1 &   10.256 & 330 & 43 & 10\\\\\n",
       "\t2 &  985.685 & 120 & 28 &  7\\\\\n",
       "\t3 & 1445.563 & 360 & 35 &  7\\\\\n",
       "\t4 & 1188.193 & 270 & 33 &  7\\\\\n",
       "\t5 &  574.513 & 220 & 44 &  5\\\\\n",
       "\t6 &  568.954 & 170 & 19 &  5\\\\\n",
       "\\end{tabular}\n"
      ],
      "text/markdown": [
       "\n",
       "A data.frame: 6 × 4\n",
       "\n",
       "| <!--/--> | adverts &lt;dbl&gt; | sales &lt;int&gt; | airplay &lt;int&gt; | attract &lt;int&gt; |\n",
       "|---|---|---|---|---|\n",
       "| 1 |   10.256 | 330 | 43 | 10 |\n",
       "| 2 |  985.685 | 120 | 28 |  7 |\n",
       "| 3 | 1445.563 | 360 | 35 |  7 |\n",
       "| 4 | 1188.193 | 270 | 33 |  7 |\n",
       "| 5 |  574.513 | 220 | 44 |  5 |\n",
       "| 6 |  568.954 | 170 | 19 |  5 |\n",
       "\n"
      ],
      "text/plain": [
       "  adverts  sales airplay attract\n",
       "1   10.256 330   43      10     \n",
       "2  985.685 120   28       7     \n",
       "3 1445.563 360   35       7     \n",
       "4 1188.193 270   33       7     \n",
       "5  574.513 220   44       5     \n",
       "6  568.954 170   19       5     "
      ]
     },
     "metadata": {},
     "output_type": "display_data"
    }
   ],
   "source": [
    "head(album2)"
   ]
  },
  {
   "cell_type": "markdown",
   "metadata": {},
   "source": [
    "## The First Model"
   ]
  },
  {
   "cell_type": "code",
   "execution_count": 5,
   "metadata": {},
   "outputs": [
    {
     "data": {
      "text/plain": [
       "\n",
       "Call:\n",
       "lm(formula = sales ~ adverts, data = album2)\n",
       "\n",
       "Residuals:\n",
       "     Min       1Q   Median       3Q      Max \n",
       "-152.949  -43.796   -0.393   37.040  211.866 \n",
       "\n",
       "Coefficients:\n",
       "             Estimate Std. Error t value Pr(>|t|)    \n",
       "(Intercept) 1.341e+02  7.537e+00  17.799   <2e-16 ***\n",
       "adverts     9.612e-02  9.632e-03   9.979   <2e-16 ***\n",
       "---\n",
       "Signif. codes:  0 '***' 0.001 '**' 0.01 '*' 0.05 '.' 0.1 ' ' 1\n",
       "\n",
       "Residual standard error: 65.99 on 198 degrees of freedom\n",
       "Multiple R-squared:  0.3346,\tAdjusted R-squared:  0.3313 \n",
       "F-statistic: 99.59 on 1 and 198 DF,  p-value: < 2.2e-16\n"
      ]
     },
     "metadata": {},
     "output_type": "display_data"
    }
   ],
   "source": [
    "albumSales.2 <- lm(sales ~ adverts, data=album2)\n",
    "summary(albumSales.2)"
   ]
  },
  {
   "cell_type": "code",
   "execution_count": 6,
   "metadata": {},
   "outputs": [
    {
     "data": {
      "text/html": [
       "<table>\n",
       "<caption>A matrix: 2 × 2 of type dbl</caption>\n",
       "<thead>\n",
       "\t<tr><th></th><th scope=col>2.5 %</th><th scope=col>97.5 %</th></tr>\n",
       "</thead>\n",
       "<tbody>\n",
       "\t<tr><th scope=row>(Intercept)</th><td>119.27768082</td><td>149.0021948</td></tr>\n",
       "\t<tr><th scope=row>adverts</th><td>  0.07712929</td><td>  0.1151197</td></tr>\n",
       "</tbody>\n",
       "</table>\n"
      ],
      "text/latex": [
       "A matrix: 2 × 2 of type dbl\n",
       "\\begin{tabular}{r|ll}\n",
       "  & 2.5 \\% & 97.5 \\%\\\\\n",
       "\\hline\n",
       "\t(Intercept) & 119.27768082 & 149.0021948\\\\\n",
       "\tadverts &   0.07712929 &   0.1151197\\\\\n",
       "\\end{tabular}\n"
      ],
      "text/markdown": [
       "\n",
       "A matrix: 2 × 2 of type dbl\n",
       "\n",
       "| <!--/--> | 2.5 % | 97.5 % |\n",
       "|---|---|---|\n",
       "| (Intercept) | 119.27768082 | 149.0021948 |\n",
       "| adverts |   0.07712929 |   0.1151197 |\n",
       "\n"
      ],
      "text/plain": [
       "            2.5 %        97.5 %     \n",
       "(Intercept) 119.27768082 149.0021948\n",
       "adverts       0.07712929   0.1151197"
      ]
     },
     "metadata": {},
     "output_type": "display_data"
    }
   ],
   "source": [
    "confint(albumSales.2)"
   ]
  },
  {
   "cell_type": "code",
   "execution_count": null,
   "metadata": {},
   "outputs": [],
   "source": []
  },
  {
   "cell_type": "markdown",
   "metadata": {},
   "source": [
    "## The Second Model"
   ]
  },
  {
   "cell_type": "code",
   "execution_count": 7,
   "metadata": {},
   "outputs": [
    {
     "data": {
      "text/plain": [
       "\n",
       "Call:\n",
       "lm(formula = sales ~ adverts + airplay + attract, data = album2)\n",
       "\n",
       "Residuals:\n",
       "     Min       1Q   Median       3Q      Max \n",
       "-121.324  -28.336   -0.451   28.967  144.132 \n",
       "\n",
       "Coefficients:\n",
       "              Estimate Std. Error t value Pr(>|t|)    \n",
       "(Intercept) -26.612958  17.350001  -1.534    0.127    \n",
       "adverts       0.084885   0.006923  12.261  < 2e-16 ***\n",
       "airplay       3.367425   0.277771  12.123  < 2e-16 ***\n",
       "attract      11.086335   2.437849   4.548 9.49e-06 ***\n",
       "---\n",
       "Signif. codes:  0 '***' 0.001 '**' 0.01 '*' 0.05 '.' 0.1 ' ' 1\n",
       "\n",
       "Residual standard error: 47.09 on 196 degrees of freedom\n",
       "Multiple R-squared:  0.6647,\tAdjusted R-squared:  0.6595 \n",
       "F-statistic: 129.5 on 3 and 196 DF,  p-value: < 2.2e-16\n"
      ]
     },
     "metadata": {},
     "output_type": "display_data"
    }
   ],
   "source": [
    "albumSales.3 <- lm(sales ~ adverts + airplay + attract, data = album2)\n",
    "summary(albumSales.3)"
   ]
  },
  {
   "cell_type": "code",
   "execution_count": 8,
   "metadata": {},
   "outputs": [
    {
     "data": {
      "text/html": [
       "<table>\n",
       "<caption>A matrix: 4 × 2 of type dbl</caption>\n",
       "<thead>\n",
       "\t<tr><th></th><th scope=col>2.5 %</th><th scope=col>97.5 %</th></tr>\n",
       "</thead>\n",
       "<tbody>\n",
       "\t<tr><th scope=row>(Intercept)</th><td>-60.82960967</td><td> 7.60369295</td></tr>\n",
       "\t<tr><th scope=row>adverts</th><td>  0.07123166</td><td> 0.09853799</td></tr>\n",
       "\t<tr><th scope=row>airplay</th><td>  2.81962186</td><td> 3.91522848</td></tr>\n",
       "\t<tr><th scope=row>attract</th><td>  6.27855218</td><td>15.89411823</td></tr>\n",
       "</tbody>\n",
       "</table>\n"
      ],
      "text/latex": [
       "A matrix: 4 × 2 of type dbl\n",
       "\\begin{tabular}{r|ll}\n",
       "  & 2.5 \\% & 97.5 \\%\\\\\n",
       "\\hline\n",
       "\t(Intercept) & -60.82960967 &  7.60369295\\\\\n",
       "\tadverts &   0.07123166 &  0.09853799\\\\\n",
       "\tairplay &   2.81962186 &  3.91522848\\\\\n",
       "\tattract &   6.27855218 & 15.89411823\\\\\n",
       "\\end{tabular}\n"
      ],
      "text/markdown": [
       "\n",
       "A matrix: 4 × 2 of type dbl\n",
       "\n",
       "| <!--/--> | 2.5 % | 97.5 % |\n",
       "|---|---|---|\n",
       "| (Intercept) | -60.82960967 |  7.60369295 |\n",
       "| adverts |   0.07123166 |  0.09853799 |\n",
       "| airplay |   2.81962186 |  3.91522848 |\n",
       "| attract |   6.27855218 | 15.89411823 |\n",
       "\n"
      ],
      "text/plain": [
       "            2.5 %        97.5 %     \n",
       "(Intercept) -60.82960967  7.60369295\n",
       "adverts       0.07123166  0.09853799\n",
       "airplay       2.81962186  3.91522848\n",
       "attract       6.27855218 15.89411823"
      ]
     },
     "metadata": {},
     "output_type": "display_data"
    }
   ],
   "source": [
    "confint(albumSales.3)"
   ]
  },
  {
   "cell_type": "markdown",
   "metadata": {},
   "source": [
    "## Comparing two models using F-ratio(ANOVA)"
   ]
  },
  {
   "cell_type": "code",
   "execution_count": 9,
   "metadata": {},
   "outputs": [
    {
     "data": {
      "text/html": [
       "<table>\n",
       "<caption>A anova: 2 × 6</caption>\n",
       "<thead>\n",
       "\t<tr><th></th><th scope=col>Res.Df</th><th scope=col>RSS</th><th scope=col>Df</th><th scope=col>Sum of Sq</th><th scope=col>F</th><th scope=col>Pr(&gt;F)</th></tr>\n",
       "\t<tr><th></th><th scope=col>&lt;dbl&gt;</th><th scope=col>&lt;dbl&gt;</th><th scope=col>&lt;dbl&gt;</th><th scope=col>&lt;dbl&gt;</th><th scope=col>&lt;dbl&gt;</th><th scope=col>&lt;dbl&gt;</th></tr>\n",
       "</thead>\n",
       "<tbody>\n",
       "\t<tr><th scope=row>1</th><td>198</td><td>862264.2</td><td>NA</td><td>      NA</td><td>      NA</td><td>          NA</td></tr>\n",
       "\t<tr><th scope=row>2</th><td>196</td><td>434574.6</td><td> 2</td><td>427689.6</td><td>96.44738</td><td>6.879395e-30</td></tr>\n",
       "</tbody>\n",
       "</table>\n"
      ],
      "text/latex": [
       "A anova: 2 × 6\n",
       "\\begin{tabular}{r|llllll}\n",
       "  & Res.Df & RSS & Df & Sum of Sq & F & Pr(>F)\\\\\n",
       "  & <dbl> & <dbl> & <dbl> & <dbl> & <dbl> & <dbl>\\\\\n",
       "\\hline\n",
       "\t1 & 198 & 862264.2 & NA &       NA &       NA &           NA\\\\\n",
       "\t2 & 196 & 434574.6 &  2 & 427689.6 & 96.44738 & 6.879395e-30\\\\\n",
       "\\end{tabular}\n"
      ],
      "text/markdown": [
       "\n",
       "A anova: 2 × 6\n",
       "\n",
       "| <!--/--> | Res.Df &lt;dbl&gt; | RSS &lt;dbl&gt; | Df &lt;dbl&gt; | Sum of Sq &lt;dbl&gt; | F &lt;dbl&gt; | Pr(&gt;F) &lt;dbl&gt; |\n",
       "|---|---|---|---|---|---|---|\n",
       "| 1 | 198 | 862264.2 | NA |       NA |       NA |           NA |\n",
       "| 2 | 196 | 434574.6 |  2 | 427689.6 | 96.44738 | 6.879395e-30 |\n",
       "\n"
      ],
      "text/plain": [
       "  Res.Df RSS      Df Sum of Sq F        Pr(>F)      \n",
       "1 198    862264.2 NA       NA        NA           NA\n",
       "2 196    434574.6  2 427689.6  96.44738 6.879395e-30"
      ]
     },
     "metadata": {},
     "output_type": "display_data"
    }
   ],
   "source": [
    "anova(albumSales.2,albumSales.3)"
   ]
  },
  {
   "cell_type": "markdown",
   "metadata": {},
   "source": [
    "## Casewise diagnostics (Residual and influence statistics)"
   ]
  },
  {
   "cell_type": "markdown",
   "metadata": {},
   "source": [
    "### Calucate the diagnostics"
   ]
  },
  {
   "cell_type": "code",
   "execution_count": 10,
   "metadata": {},
   "outputs": [
    {
     "data": {
      "text/html": [
       "<table>\n",
       "<caption>A data.frame: 6 × 12</caption>\n",
       "<thead>\n",
       "\t<tr><th></th><th scope=col>adverts</th><th scope=col>sales</th><th scope=col>airplay</th><th scope=col>attract</th><th scope=col>residuals</th><th scope=col>standardized.residuals</th><th scope=col>studentized.residuals</th><th scope=col>cooks.distance</th><th scope=col>dfbeta</th><th scope=col>dffits</th><th scope=col>leverage</th><th scope=col>covariance.ratios</th></tr>\n",
       "\t<tr><th></th><th scope=col>&lt;dbl&gt;</th><th scope=col>&lt;int&gt;</th><th scope=col>&lt;int&gt;</th><th scope=col>&lt;int&gt;</th><th scope=col>&lt;dbl&gt;</th><th scope=col>&lt;dbl&gt;</th><th scope=col>&lt;dbl&gt;</th><th scope=col>&lt;dbl&gt;</th><th scope=col>&lt;dbl[,4]&gt;</th><th scope=col>&lt;dbl&gt;</th><th scope=col>&lt;dbl&gt;</th><th scope=col>&lt;dbl&gt;</th></tr>\n",
       "</thead>\n",
       "<tbody>\n",
       "\t<tr><th scope=row>1</th><td>  10.256</td><td>330</td><td>43</td><td>10</td><td> 100.079745</td><td> 2.1774041</td><td> 2.1985963</td><td>5.870388e-02</td><td>-5.42182707, -1.661591e-03,  0.0433929166,  0.8529699235</td><td> 0.48929398</td><td>0.047190526</td><td>0.9712750</td></tr>\n",
       "\t<tr><th scope=row>2</th><td> 985.685</td><td>120</td><td>28</td><td> 7</td><td>-108.948992</td><td>-2.3230828</td><td>-2.3497237</td><td>1.088943e-02</td><td> 0.21601702, -8.649690e-04,  0.0025870806, -0.0450304095</td><td>-0.21109830</td><td>0.008006536</td><td>0.9201832</td></tr>\n",
       "\t<tr><th scope=row>3</th><td>1445.563</td><td>360</td><td>35</td><td> 7</td><td>  68.442368</td><td> 1.4688016</td><td> 1.4731799</td><td>1.140066e-02</td><td>-0.65851797,  1.207436e-03,  0.0128983716, -0.0130879018</td><td> 0.21418431</td><td>0.020700427</td><td>0.9971100</td></tr>\n",
       "\t<tr><th scope=row>4</th><td>1188.193</td><td>270</td><td>33</td><td> 7</td><td>   7.024026</td><td> 0.1501160</td><td> 0.1497411</td><td>7.166478e-05</td><td>-0.04480869,  8.441700e-05,  0.0009589848,  0.0003156056</td><td> 0.01688873</td><td>0.012560946</td><td>1.0331795</td></tr>\n",
       "\t<tr><th scope=row>5</th><td> 574.513</td><td>220</td><td>44</td><td> 5</td><td>  -5.752861</td><td>-0.1237983</td><td>-0.1234870</td><td>1.025423e-04</td><td>-0.14928350,  7.552860e-06, -0.0039693382,  0.0331263834</td><td>-0.02020169</td><td>0.026065319</td><td>1.0476595</td></tr>\n",
       "\t<tr><th scope=row>6</th><td> 568.954</td><td>170</td><td>19</td><td> 5</td><td>  28.904643</td><td> 0.6182597</td><td> 0.6172827</td><td>1.377347e-03</td><td> 1.14345654,  1.554094e-05, -0.0057924331, -0.1251265742</td><td> 0.07410797</td><td>0.014208449</td><td>1.0273290</td></tr>\n",
       "</tbody>\n",
       "</table>\n"
      ],
      "text/latex": [
       "A data.frame: 6 × 12\n",
       "\\begin{tabular}{r|llllllllllll}\n",
       "  & adverts & sales & airplay & attract & residuals & standardized.residuals & studentized.residuals & cooks.distance & dfbeta & dffits & leverage & covariance.ratios\\\\\n",
       "  & <dbl> & <int> & <int> & <int> & <dbl> & <dbl> & <dbl> & <dbl> & <dbl{[},4{]}> & <dbl> & <dbl> & <dbl>\\\\\n",
       "\\hline\n",
       "\t1 &   10.256 & 330 & 43 & 10 &  100.079745 &  2.1774041 &  2.1985963 & 5.870388e-02 & -5.42182707, -1.661591e-03,  0.0433929166,  0.8529699235 &  0.48929398 & 0.047190526 & 0.9712750\\\\\n",
       "\t2 &  985.685 & 120 & 28 &  7 & -108.948992 & -2.3230828 & -2.3497237 & 1.088943e-02 &  0.21601702, -8.649690e-04,  0.0025870806, -0.0450304095 & -0.21109830 & 0.008006536 & 0.9201832\\\\\n",
       "\t3 & 1445.563 & 360 & 35 &  7 &   68.442368 &  1.4688016 &  1.4731799 & 1.140066e-02 & -0.65851797,  1.207436e-03,  0.0128983716, -0.0130879018 &  0.21418431 & 0.020700427 & 0.9971100\\\\\n",
       "\t4 & 1188.193 & 270 & 33 &  7 &    7.024026 &  0.1501160 &  0.1497411 & 7.166478e-05 & -0.04480869,  8.441700e-05,  0.0009589848,  0.0003156056 &  0.01688873 & 0.012560946 & 1.0331795\\\\\n",
       "\t5 &  574.513 & 220 & 44 &  5 &   -5.752861 & -0.1237983 & -0.1234870 & 1.025423e-04 & -0.14928350,  7.552860e-06, -0.0039693382,  0.0331263834 & -0.02020169 & 0.026065319 & 1.0476595\\\\\n",
       "\t6 &  568.954 & 170 & 19 &  5 &   28.904643 &  0.6182597 &  0.6172827 & 1.377347e-03 &  1.14345654,  1.554094e-05, -0.0057924331, -0.1251265742 &  0.07410797 & 0.014208449 & 1.0273290\\\\\n",
       "\\end{tabular}\n"
      ],
      "text/markdown": [
       "\n",
       "A data.frame: 6 × 12\n",
       "\n",
       "| <!--/--> | adverts &lt;dbl&gt; | sales &lt;int&gt; | airplay &lt;int&gt; | attract &lt;int&gt; | residuals &lt;dbl&gt; | standardized.residuals &lt;dbl&gt; | studentized.residuals &lt;dbl&gt; | cooks.distance &lt;dbl&gt; | dfbeta &lt;dbl[,4]&gt; | dffits &lt;dbl&gt; | leverage &lt;dbl&gt; | covariance.ratios &lt;dbl&gt; |\n",
       "|---|---|---|---|---|---|---|---|---|---|---|---|---|\n",
       "| 1 |   10.256 | 330 | 43 | 10 |  100.079745 |  2.1774041 |  2.1985963 | 5.870388e-02 | -5.42182707, -1.661591e-03,  0.0433929166,  0.8529699235 |  0.48929398 | 0.047190526 | 0.9712750 |\n",
       "| 2 |  985.685 | 120 | 28 |  7 | -108.948992 | -2.3230828 | -2.3497237 | 1.088943e-02 |  0.21601702, -8.649690e-04,  0.0025870806, -0.0450304095 | -0.21109830 | 0.008006536 | 0.9201832 |\n",
       "| 3 | 1445.563 | 360 | 35 |  7 |   68.442368 |  1.4688016 |  1.4731799 | 1.140066e-02 | -0.65851797,  1.207436e-03,  0.0128983716, -0.0130879018 |  0.21418431 | 0.020700427 | 0.9971100 |\n",
       "| 4 | 1188.193 | 270 | 33 |  7 |    7.024026 |  0.1501160 |  0.1497411 | 7.166478e-05 | -0.04480869,  8.441700e-05,  0.0009589848,  0.0003156056 |  0.01688873 | 0.012560946 | 1.0331795 |\n",
       "| 5 |  574.513 | 220 | 44 |  5 |   -5.752861 | -0.1237983 | -0.1234870 | 1.025423e-04 | -0.14928350,  7.552860e-06, -0.0039693382,  0.0331263834 | -0.02020169 | 0.026065319 | 1.0476595 |\n",
       "| 6 |  568.954 | 170 | 19 |  5 |   28.904643 |  0.6182597 |  0.6172827 | 1.377347e-03 |  1.14345654,  1.554094e-05, -0.0057924331, -0.1251265742 |  0.07410797 | 0.014208449 | 1.0273290 |\n",
       "\n"
      ],
      "text/plain": [
       "  adverts  sales airplay attract residuals   standardized.residuals\n",
       "1   10.256 330   43      10       100.079745  2.1774041            \n",
       "2  985.685 120   28       7      -108.948992 -2.3230828            \n",
       "3 1445.563 360   35       7        68.442368  1.4688016            \n",
       "4 1188.193 270   33       7         7.024026  0.1501160            \n",
       "5  574.513 220   44       5        -5.752861 -0.1237983            \n",
       "6  568.954 170   19       5        28.904643  0.6182597            \n",
       "  studentized.residuals cooks.distance\n",
       "1  2.1985963            5.870388e-02  \n",
       "2 -2.3497237            1.088943e-02  \n",
       "3  1.4731799            1.140066e-02  \n",
       "4  0.1497411            7.166478e-05  \n",
       "5 -0.1234870            1.025423e-04  \n",
       "6  0.6172827            1.377347e-03  \n",
       "  dfbeta                                                   dffits     \n",
       "1 -5.42182707, -1.661591e-03,  0.0433929166,  0.8529699235  0.48929398\n",
       "2  0.21601702, -8.649690e-04,  0.0025870806, -0.0450304095 -0.21109830\n",
       "3 -0.65851797,  1.207436e-03,  0.0128983716, -0.0130879018  0.21418431\n",
       "4 -0.04480869,  8.441700e-05,  0.0009589848,  0.0003156056  0.01688873\n",
       "5 -0.14928350,  7.552860e-06, -0.0039693382,  0.0331263834 -0.02020169\n",
       "6  1.14345654,  1.554094e-05, -0.0057924331, -0.1251265742  0.07410797\n",
       "  leverage    covariance.ratios\n",
       "1 0.047190526 0.9712750        \n",
       "2 0.008006536 0.9201832        \n",
       "3 0.020700427 0.9971100        \n",
       "4 0.012560946 1.0331795        \n",
       "5 0.026065319 1.0476595        \n",
       "6 0.014208449 1.0273290        "
      ]
     },
     "metadata": {},
     "output_type": "display_data"
    }
   ],
   "source": [
    "album2$residuals<-resid(albumSales.3)\n",
    "album2$standardized.residuals <- rstandard(albumSales.3)\n",
    "album2$studentized.residuals <- rstudent(albumSales.3)\n",
    "album2$cooks.distance <- cooks.distance(albumSales.3)\n",
    "album2$dfbeta <- dfbeta(albumSales.3)\n",
    "album2$dffits <- dffits(albumSales.3)\n",
    "album2$leverage <- hatvalues(albumSales.3)\n",
    "album2$covariance.ratios <- covratio(albumSales.3)\n",
    "\n",
    "head(album2)"
   ]
  },
  {
   "cell_type": "markdown",
   "metadata": {},
   "source": [
    "### Check the assumption of normally distributed residuals"
   ]
  },
  {
   "cell_type": "markdown",
   "metadata": {},
   "source": [
    "The linear regression model assumes that the residuals is independent and normal distributed. So if the **Sandardized residuals** was not normally distributed, the model is poor."
   ]
  },
  {
   "cell_type": "markdown",
   "metadata": {},
   "source": [
    "#### plots of residuals"
   ]
  },
  {
   "cell_type": "code",
   "execution_count": 11,
   "metadata": {},
   "outputs": [
    {
     "data": {
      "image/png": "[encoded data removed]",
      "text/plain": [
       "Plot with title \"\""
      ]
     },
     "metadata": {
      "image/png": {
       "height": 420,
       "width": 420
      },
      "text/plain": {
       "height": 420,
       "width": 420
      }
     },
     "output_type": "display_data"
    },
    {
     "data": {
      "image/png": "[encoded data removed]",
      "text/plain": [
       "Plot with title \"\""
      ]
     },
     "metadata": {
      "image/png": {
       "height": 420,
       "width": 420
      },
      "text/plain": {
       "height": 420,
       "width": 420
      }
     },
     "output_type": "display_data"
    },
    {
     "data": {
      "image/png": "[encoded data removed]",
      "text/plain": [
       "Plot with title \"\""
      ]
     },
     "metadata": {
      "image/png": {
       "height": 420,
       "width": 420
      },
      "text/plain": {
       "height": 420,
       "width": 420
      }
     },
     "output_type": "display_data"
    },
    {
     "data": {
      "image/png": "[encoded data removed]",
      "text/plain": [
       "Plot with title \"\""
      ]
     },
     "metadata": {
      "image/png": {
       "height": 420,
       "width": 420
      },
      "text/plain": {
       "height": 420,
       "width": 420
      }
     },
     "output_type": "display_data"
    }
   ],
   "source": [
    "plot(albumSales.3)"
   ]
  },
  {
   "cell_type": "code",
   "execution_count": 12,
   "metadata": {},
   "outputs": [
    {
     "data": {
      "image/png": "[encoded data removed]",
      "text/plain": [
       "Plot with title \"Histogram of album2$studentized.residuals\""
      ]
     },
     "metadata": {
      "image/png": {
       "height": 420,
       "width": 420
      },
      "text/plain": {
       "height": 420,
       "width": 420
      }
     },
     "output_type": "display_data"
    }
   ],
   "source": [
    "hist(album2$studentized.residuals)"
   ]
  },
  {
   "cell_type": "markdown",
   "metadata": {},
   "source": [
    "### Find outliers using residuals"
   ]
  },
  {
   "cell_type": "code",
   "execution_count": 13,
   "metadata": {},
   "outputs": [
    {
     "data": {
      "text/html": [
       "12"
      ],
      "text/latex": [
       "12"
      ],
      "text/markdown": [
       "12"
      ],
      "text/plain": [
       "[1] 12"
      ]
     },
     "metadata": {},
     "output_type": "display_data"
    }
   ],
   "source": [
    "album2$large.residual <- album2$standardized.residuals > 2 | album2$standardized.residual < -2 \n",
    "sum(album2$large.residual)"
   ]
  },
  {
   "cell_type": "code",
   "execution_count": 14,
   "metadata": {},
   "outputs": [
    {
     "data": {
      "text/html": [
       "<table>\n",
       "<caption>A data.frame: 12 × 8</caption>\n",
       "<thead>\n",
       "\t<tr><th></th><th scope=col>sales</th><th scope=col>airplay</th><th scope=col>attract</th><th scope=col>adverts</th><th scope=col>standardized.residuals</th><th scope=col>cooks.distance</th><th scope=col>leverage</th><th scope=col>covariance.ratios</th></tr>\n",
       "\t<tr><th></th><th scope=col>&lt;int&gt;</th><th scope=col>&lt;int&gt;</th><th scope=col>&lt;int&gt;</th><th scope=col>&lt;dbl&gt;</th><th scope=col>&lt;dbl&gt;</th><th scope=col>&lt;dbl&gt;</th><th scope=col>&lt;dbl&gt;</th><th scope=col>&lt;dbl&gt;</th></tr>\n",
       "</thead>\n",
       "<tbody>\n",
       "\t<tr><th scope=row>1</th><td>330</td><td>43</td><td>10</td><td>  10.256</td><td> 2.177404</td><td>0.058703882</td><td>0.047190526</td><td>0.9712750</td></tr>\n",
       "\t<tr><th scope=row>2</th><td>120</td><td>28</td><td> 7</td><td> 985.685</td><td>-2.323083</td><td>0.010889432</td><td>0.008006536</td><td>0.9201832</td></tr>\n",
       "\t<tr><th scope=row>10</th><td>300</td><td>40</td><td> 7</td><td> 174.093</td><td> 2.130289</td><td>0.017756472</td><td>0.015409738</td><td>0.9439200</td></tr>\n",
       "\t<tr><th scope=row>47</th><td> 40</td><td>25</td><td> 8</td><td> 102.568</td><td>-2.460996</td><td>0.024115188</td><td>0.015677123</td><td>0.9145800</td></tr>\n",
       "\t<tr><th scope=row>52</th><td>190</td><td>12</td><td> 4</td><td> 405.913</td><td> 2.099446</td><td>0.033159177</td><td>0.029213132</td><td>0.9599533</td></tr>\n",
       "\t<tr><th scope=row>55</th><td>190</td><td>33</td><td> 8</td><td>1542.329</td><td>-2.455913</td><td>0.040415897</td><td>0.026103520</td><td>0.9248580</td></tr>\n",
       "\t<tr><th scope=row>61</th><td>300</td><td>30</td><td> 7</td><td> 579.321</td><td> 2.104079</td><td>0.005948358</td><td>0.005345708</td><td>0.9365377</td></tr>\n",
       "\t<tr><th scope=row>68</th><td> 70</td><td>37</td><td> 7</td><td>  56.895</td><td>-2.363549</td><td>0.022288983</td><td>0.015708852</td><td>0.9236983</td></tr>\n",
       "\t<tr><th scope=row>100</th><td>250</td><td> 5</td><td> 7</td><td>1000.000</td><td> 2.095399</td><td>0.031364021</td><td>0.027779409</td><td>0.9588774</td></tr>\n",
       "\t<tr><th scope=row>164</th><td>120</td><td>53</td><td> 8</td><td>   9.104</td><td>-2.628814</td><td>0.070765882</td><td>0.039348661</td><td>0.9203731</td></tr>\n",
       "\t<tr><th scope=row>169</th><td>360</td><td>42</td><td> 8</td><td> 145.585</td><td> 3.093333</td><td>0.050867000</td><td>0.020821154</td><td>0.8532470</td></tr>\n",
       "\t<tr><th scope=row>200</th><td>110</td><td>20</td><td> 9</td><td> 785.694</td><td>-2.088044</td><td>0.025134553</td><td>0.022539842</td><td>0.9543502</td></tr>\n",
       "</tbody>\n",
       "</table>\n"
      ],
      "text/latex": [
       "A data.frame: 12 × 8\n",
       "\\begin{tabular}{r|llllllll}\n",
       "  & sales & airplay & attract & adverts & standardized.residuals & cooks.distance & leverage & covariance.ratios\\\\\n",
       "  & <int> & <int> & <int> & <dbl> & <dbl> & <dbl> & <dbl> & <dbl>\\\\\n",
       "\\hline\n",
       "\t1 & 330 & 43 & 10 &   10.256 &  2.177404 & 0.058703882 & 0.047190526 & 0.9712750\\\\\n",
       "\t2 & 120 & 28 &  7 &  985.685 & -2.323083 & 0.010889432 & 0.008006536 & 0.9201832\\\\\n",
       "\t10 & 300 & 40 &  7 &  174.093 &  2.130289 & 0.017756472 & 0.015409738 & 0.9439200\\\\\n",
       "\t47 &  40 & 25 &  8 &  102.568 & -2.460996 & 0.024115188 & 0.015677123 & 0.9145800\\\\\n",
       "\t52 & 190 & 12 &  4 &  405.913 &  2.099446 & 0.033159177 & 0.029213132 & 0.9599533\\\\\n",
       "\t55 & 190 & 33 &  8 & 1542.329 & -2.455913 & 0.040415897 & 0.026103520 & 0.9248580\\\\\n",
       "\t61 & 300 & 30 &  7 &  579.321 &  2.104079 & 0.005948358 & 0.005345708 & 0.9365377\\\\\n",
       "\t68 &  70 & 37 &  7 &   56.895 & -2.363549 & 0.022288983 & 0.015708852 & 0.9236983\\\\\n",
       "\t100 & 250 &  5 &  7 & 1000.000 &  2.095399 & 0.031364021 & 0.027779409 & 0.9588774\\\\\n",
       "\t164 & 120 & 53 &  8 &    9.104 & -2.628814 & 0.070765882 & 0.039348661 & 0.9203731\\\\\n",
       "\t169 & 360 & 42 &  8 &  145.585 &  3.093333 & 0.050867000 & 0.020821154 & 0.8532470\\\\\n",
       "\t200 & 110 & 20 &  9 &  785.694 & -2.088044 & 0.025134553 & 0.022539842 & 0.9543502\\\\\n",
       "\\end{tabular}\n"
      ],
      "text/markdown": [
       "\n",
       "A data.frame: 12 × 8\n",
       "\n",
       "| <!--/--> | sales &lt;int&gt; | airplay &lt;int&gt; | attract &lt;int&gt; | adverts &lt;dbl&gt; | standardized.residuals &lt;dbl&gt; | cooks.distance &lt;dbl&gt; | leverage &lt;dbl&gt; | covariance.ratios &lt;dbl&gt; |\n",
       "|---|---|---|---|---|---|---|---|---|\n",
       "| 1 | 330 | 43 | 10 |   10.256 |  2.177404 | 0.058703882 | 0.047190526 | 0.9712750 |\n",
       "| 2 | 120 | 28 |  7 |  985.685 | -2.323083 | 0.010889432 | 0.008006536 | 0.9201832 |\n",
       "| 10 | 300 | 40 |  7 |  174.093 |  2.130289 | 0.017756472 | 0.015409738 | 0.9439200 |\n",
       "| 47 |  40 | 25 |  8 |  102.568 | -2.460996 | 0.024115188 | 0.015677123 | 0.9145800 |\n",
       "| 52 | 190 | 12 |  4 |  405.913 |  2.099446 | 0.033159177 | 0.029213132 | 0.9599533 |\n",
       "| 55 | 190 | 33 |  8 | 1542.329 | -2.455913 | 0.040415897 | 0.026103520 | 0.9248580 |\n",
       "| 61 | 300 | 30 |  7 |  579.321 |  2.104079 | 0.005948358 | 0.005345708 | 0.9365377 |\n",
       "| 68 |  70 | 37 |  7 |   56.895 | -2.363549 | 0.022288983 | 0.015708852 | 0.9236983 |\n",
       "| 100 | 250 |  5 |  7 | 1000.000 |  2.095399 | 0.031364021 | 0.027779409 | 0.9588774 |\n",
       "| 164 | 120 | 53 |  8 |    9.104 | -2.628814 | 0.070765882 | 0.039348661 | 0.9203731 |\n",
       "| 169 | 360 | 42 |  8 |  145.585 |  3.093333 | 0.050867000 | 0.020821154 | 0.8532470 |\n",
       "| 200 | 110 | 20 |  9 |  785.694 | -2.088044 | 0.025134553 | 0.022539842 | 0.9543502 |\n",
       "\n"
      ],
      "text/plain": [
       "    sales airplay attract adverts  standardized.residuals cooks.distance\n",
       "1   330   43      10        10.256  2.177404              0.058703882   \n",
       "2   120   28       7       985.685 -2.323083              0.010889432   \n",
       "10  300   40       7       174.093  2.130289              0.017756472   \n",
       "47   40   25       8       102.568 -2.460996              0.024115188   \n",
       "52  190   12       4       405.913  2.099446              0.033159177   \n",
       "55  190   33       8      1542.329 -2.455913              0.040415897   \n",
       "61  300   30       7       579.321  2.104079              0.005948358   \n",
       "68   70   37       7        56.895 -2.363549              0.022288983   \n",
       "100 250    5       7      1000.000  2.095399              0.031364021   \n",
       "164 120   53       8         9.104 -2.628814              0.070765882   \n",
       "169 360   42       8       145.585  3.093333              0.050867000   \n",
       "200 110   20       9       785.694 -2.088044              0.025134553   \n",
       "    leverage    covariance.ratios\n",
       "1   0.047190526 0.9712750        \n",
       "2   0.008006536 0.9201832        \n",
       "10  0.015409738 0.9439200        \n",
       "47  0.015677123 0.9145800        \n",
       "52  0.029213132 0.9599533        \n",
       "55  0.026103520 0.9248580        \n",
       "61  0.005345708 0.9365377        \n",
       "68  0.015708852 0.9236983        \n",
       "100 0.027779409 0.9588774        \n",
       "164 0.039348661 0.9203731        \n",
       "169 0.020821154 0.8532470        \n",
       "200 0.022539842 0.9543502        "
      ]
     },
     "metadata": {},
     "output_type": "display_data"
    }
   ],
   "source": [
    "album2[album2$large.residual,c(\"sales\",\"airplay\",\"attract\",\"adverts\",\"standardized.residuals\",\"cooks.distance\",\"leverage\",\"covariance.ratios\")]"
   ]
  },
  {
   "cell_type": "markdown",
   "metadata": {},
   "source": [
    "### Find outliers using other measures"
   ]
  },
  {
   "cell_type": "markdown",
   "metadata": {},
   "source": [
    "**Cook's distance** is a measure of the overall influence of a case on the medal. Values **greater than 1** may be cause for concern."
   ]
  },
  {
   "cell_type": "code",
   "execution_count": 17,
   "metadata": {},
   "outputs": [
    {
     "data": {
      "text/html": [
       "0"
      ],
      "text/latex": [
       "0"
      ],
      "text/markdown": [
       "0"
      ],
      "text/plain": [
       "[1] 0"
      ]
     },
     "metadata": {},
     "output_type": "display_data"
    }
   ],
   "source": [
    "sum(album2$cooks.distance>1)"
   ]
  },
  {
   "cell_type": "markdown",
   "metadata": {},
   "source": [
    "**leverage (hat values)** gauge the influence of the observed value of the outcome variable over the predicted values.\n",
    "\n",
    "* 0 indicates that the case has no influence whatsover.\n",
    "* 1 indicates that the case has complete influence over predicition."
   ]
  },
  {
   "cell_type": "markdown",
   "metadata": {},
   "source": [
    "The average leverage value is defined as $(k+1)/n$ \n",
    "in which $k$ is **the number of predicators(independt variables)** and $n$ is **the number of participants**.\n"
   ]
  },
  {
   "cell_type": "markdown",
   "metadata": {},
   "source": [
    "Values greater than three or two times of the average value are signs for influencial data points."
   ]
  },
  {
   "cell_type": "code",
   "execution_count": null,
   "metadata": {},
   "outputs": [],
   "source": [
    "**DFBeta** calculates the difference between a parameter estimated using all cases and estimated when that one case is excluded.\n",
    "\n",
    "**DFFit is the difference bwtween the predicted value for a case when the model is calculated including that case and when the model is calculated excluding that case."
   ]
  },
  {
   "cell_type": "markdown",
   "metadata": {},
   "source": [
    "## Accessing the assumption of independent errors (using Durbin-Waston test)"
   ]
  },
  {
   "cell_type": "code",
   "execution_count": 26,
   "metadata": {},
   "outputs": [
    {
     "name": "stderr",
     "output_type": "stream",
     "text": [
      "Warning message:\n",
      "\"package 'car' was built under R version 4.0.2\"\n",
      "Loading required package: carData\n",
      "\n"
     ]
    },
    {
     "data": {
      "text/plain": [
       " lag Autocorrelation D-W Statistic p-value\n",
       "   1       0.0026951      1.949819   0.732\n",
       " Alternative hypothesis: rho != 0"
      ]
     },
     "metadata": {},
     "output_type": "display_data"
    }
   ],
   "source": [
    "library(car)\n",
    "dwt(albumSales.3)"
   ]
  },
  {
   "cell_type": "markdown",
   "metadata": {},
   "source": [
    "**D-W statistic** 0 means perfect positive autocorrection , 2 no autocorrelation 4, perfect negative autocorrection"
   ]
  },
  {
   "cell_type": "markdown",
   "metadata": {},
   "source": [
    "## assessing the assumption of no multicollinearity"
   ]
  },
  {
   "cell_type": "code",
   "execution_count": 27,
   "metadata": {},
   "outputs": [
    {
     "data": {
      "text/html": [
       "<style>\n",
       ".dl-inline {width: auto; margin:0; padding: 0}\n",
       ".dl-inline>dt, .dl-inline>dd {float: none; width: auto; display: inline-block}\n",
       ".dl-inline>dt::after {content: \":\\0020\"; padding-right: .5ex}\n",
       ".dl-inline>dt:not(:first-of-type) {padding-left: .5ex}\n",
       "</style><dl class=dl-inline><dt>adverts</dt><dd>1.01459263998679</dd><dt>airplay</dt><dd>1.04250427668189</dd><dt>attract</dt><dd>1.03845453111715</dd></dl>\n"
      ],
      "text/latex": [
       "\\begin{description*}\n",
       "\\item[adverts] 1.01459263998679\n",
       "\\item[airplay] 1.04250427668189\n",
       "\\item[attract] 1.03845453111715\n",
       "\\end{description*}\n"
      ],
      "text/markdown": [
       "adverts\n",
       ":   1.01459263998679airplay\n",
       ":   1.04250427668189attract\n",
       ":   1.03845453111715\n",
       "\n"
      ],
      "text/plain": [
       " adverts  airplay  attract \n",
       "1.014593 1.042504 1.038455 "
      ]
     },
     "metadata": {},
     "output_type": "display_data"
    }
   ],
   "source": [
    "vif(albumSales.3)"
   ]
  },
  {
   "cell_type": "markdown",
   "metadata": {},
   "source": [
    "* the lagest VIF is greater than 10 then there is cause for concern\n",
    "* the average VIF is substantially greater than 1 then the regression may be biased"
   ]
  },
  {
   "cell_type": "code",
   "execution_count": null,
   "metadata": {},
   "outputs": [],
   "source": []
  }
 ],
 "metadata": {
  "kernelspec": {
   "display_name": "R",
   "language": "R",
   "name": "ir"
  },
  "language_info": {
   "codemirror_mode": "r",
   "file_extension": ".r",
   "mimetype": "text/x-r-source",
   "name": "R",
   "pygments_lexer": "r",
   "version": "4.0.1"
  },
  "toc-autonumbering": true
 },
 "nbformat": 4,
 "nbformat_minor": 4
}
